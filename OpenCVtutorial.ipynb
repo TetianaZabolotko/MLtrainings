{
  "nbformat": 4,
  "nbformat_minor": 0,
  "metadata": {
    "colab": {
      "provenance": [],
      "authorship_tag": "ABX9TyNip4P6N5llTy/Q0CBZ12yP",
      "include_colab_link": true
    },
    "kernelspec": {
      "name": "python3",
      "display_name": "Python 3"
    },
    "language_info": {
      "name": "python"
    }
  },
  "cells": [
    {
      "cell_type": "markdown",
      "metadata": {
        "id": "view-in-github",
        "colab_type": "text"
      },
      "source": [
        "<a href=\"https://colab.research.google.com/github/TetianaZabolotko/MLtrainings/blob/main/OpenCVtutorial.ipynb\" target=\"_parent\"><img src=\"https://colab.research.google.com/assets/colab-badge.svg\" alt=\"Open In Colab\"/></a>"
      ]
    },
    {
      "cell_type": "code",
      "execution_count": null,
      "metadata": {
        "id": "cMV_8wWU5mic"
      },
      "outputs": [],
      "source": [
        "import cv2\n",
        "import numpy as np\n",
        "import os\n"
      ]
    },
    {
      "cell_type": "code",
      "source": [
        "img = cv2.imread(os.path.join('.','shape.png'))\n",
        "\n",
        "img_gray = cv2.cvtColor(img,cv2.COLOR_BGR2GRAY)\n",
        "\n",
        "ret, thresh = cv2.threshold(img_gray,130,255,cv2.THRESH_BINARY)\n",
        "\n",
        "contours, hierarchy = cv2.findContours(thresh, cv2.RETR_TREE, cv2.CHAIN_APPROX_SIMPLE)\n",
        "\n",
        "\n",
        "# cv2.imshow('img2', thresh)\n",
        "\n",
        "for cnt in contours:\n",
        "    if cv2.contourArea(cnt) > 200:\n",
        "        # cv2.drawContours(img_gray, [cnt],0,(0,0, 255), 3)\n",
        "        x1, y1, w, h = cv2.boundingRect(cnt)\n",
        "        cv2.rectangle(img_gray, (x1,y1), (x1+w,y1+h), (0,255,0),2)\n",
        "\n",
        "\n",
        "num = len(contours)\n",
        "print(num)\n",
        "\n",
        "contr_max_area = []\n",
        "contr_max_arr = []\n",
        "for cnt in contours:\n",
        "    area = cv2.contourArea(cnt)\n",
        "    if area > 200:\n",
        "        contr_max_area.append(area)\n",
        "        contr_max_arr.append(cnt)\n",
        "\n",
        "\n",
        "print(len(contr_max_area))\n",
        "print(sorted(contr_max_area))\n",
        "print(max(contr_max_area))\n",
        "\n",
        "max_indx = contr_max_area.index(max(contr_max_area))\n",
        "print(max_indx)\n",
        "\n",
        "cnt = contr_max_arr[max_indx]\n",
        "cv2.drawContours(img,[cnt],0,(0,255,0), 3)\n",
        "\n",
        "cv2.imshow('img', img)\n",
        "cv2.imshow('img_gray', img_gray)\n",
        "\n",
        "\n",
        "cv2.boundingRect(cnt)\n",
        "\n",
        "\n",
        "cv2.waitKey(0)\n",
        "cv2.destroyAllWindows()"
      ],
      "metadata": {
        "id": "VZq40V3G5673"
      },
      "execution_count": 1,
      "outputs": []
    }
  ]
}