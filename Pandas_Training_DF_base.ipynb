{
  "nbformat": 4,
  "nbformat_minor": 0,
  "metadata": {
    "colab": {
      "provenance": [],
      "authorship_tag": "ABX9TyPLPDOeh0K3xyiV8OwQ9K3r",
      "include_colab_link": true
    },
    "kernelspec": {
      "name": "python3",
      "display_name": "Python 3"
    },
    "language_info": {
      "name": "python"
    }
  },
  "cells": [
    {
      "cell_type": "markdown",
      "metadata": {
        "id": "view-in-github",
        "colab_type": "text"
      },
      "source": [
        "<a href=\"https://colab.research.google.com/github/TetianaZabolotko/MLtrainings/blob/main/Pandas_Training_DF_base.ipynb\" target=\"_parent\"><img src=\"https://colab.research.google.com/assets/colab-badge.svg\" alt=\"Open In Colab\"/></a>"
      ]
    },
    {
      "cell_type": "code",
      "execution_count": 2,
      "metadata": {
        "id": "THy2XSxrBmp4"
      },
      "outputs": [],
      "source": [
        "import pandas as pd"
      ]
    },
    {
      "cell_type": "markdown",
      "source": [
        "# Create dataFrame"
      ],
      "metadata": {
        "id": "RYr0oNPKK-Uz"
      }
    },
    {
      "cell_type": "markdown",
      "source": [
        "* **From dictionary**"
      ],
      "metadata": {
        "id": "HJvJp2DtLL-U"
      }
    },
    {
      "cell_type": "code",
      "source": [
        "df = pd.DataFrame({'name':['Maria','Nick', 'Luka'],'age':[23, 30, 45],'hobbi':['music', 'rock','mountions']})\n",
        "df"
      ],
      "metadata": {
        "colab": {
          "base_uri": "https://localhost:8080/",
          "height": 143
        },
        "id": "Cb8fU-w8K8GM",
        "outputId": "b1dbf7b3-6692-4545-8004-aebbdc1b33ed"
      },
      "execution_count": 4,
      "outputs": [
        {
          "output_type": "execute_result",
          "data": {
            "text/plain": [
              "    name  age      hobbi\n",
              "0  Maria   23      music\n",
              "1   Nick   30       rock\n",
              "2   Luka   45  mountions"
            ],
            "text/html": [
              "\n",
              "  <div id=\"df-37c18bfe-8beb-4890-9054-bfa55a78c647\" class=\"colab-df-container\">\n",
              "    <div>\n",
              "<style scoped>\n",
              "    .dataframe tbody tr th:only-of-type {\n",
              "        vertical-align: middle;\n",
              "    }\n",
              "\n",
              "    .dataframe tbody tr th {\n",
              "        vertical-align: top;\n",
              "    }\n",
              "\n",
              "    .dataframe thead th {\n",
              "        text-align: right;\n",
              "    }\n",
              "</style>\n",
              "<table border=\"1\" class=\"dataframe\">\n",
              "  <thead>\n",
              "    <tr style=\"text-align: right;\">\n",
              "      <th></th>\n",
              "      <th>name</th>\n",
              "      <th>age</th>\n",
              "      <th>hobbi</th>\n",
              "    </tr>\n",
              "  </thead>\n",
              "  <tbody>\n",
              "    <tr>\n",
              "      <th>0</th>\n",
              "      <td>Maria</td>\n",
              "      <td>23</td>\n",
              "      <td>music</td>\n",
              "    </tr>\n",
              "    <tr>\n",
              "      <th>1</th>\n",
              "      <td>Nick</td>\n",
              "      <td>30</td>\n",
              "      <td>rock</td>\n",
              "    </tr>\n",
              "    <tr>\n",
              "      <th>2</th>\n",
              "      <td>Luka</td>\n",
              "      <td>45</td>\n",
              "      <td>mountions</td>\n",
              "    </tr>\n",
              "  </tbody>\n",
              "</table>\n",
              "</div>\n",
              "    <div class=\"colab-df-buttons\">\n",
              "\n",
              "  <div class=\"colab-df-container\">\n",
              "    <button class=\"colab-df-convert\" onclick=\"convertToInteractive('df-37c18bfe-8beb-4890-9054-bfa55a78c647')\"\n",
              "            title=\"Convert this dataframe to an interactive table.\"\n",
              "            style=\"display:none;\">\n",
              "\n",
              "  <svg xmlns=\"http://www.w3.org/2000/svg\" height=\"24px\" viewBox=\"0 -960 960 960\">\n",
              "    <path d=\"M120-120v-720h720v720H120Zm60-500h600v-160H180v160Zm220 220h160v-160H400v160Zm0 220h160v-160H400v160ZM180-400h160v-160H180v160Zm440 0h160v-160H620v160ZM180-180h160v-160H180v160Zm440 0h160v-160H620v160Z\"/>\n",
              "  </svg>\n",
              "    </button>\n",
              "\n",
              "  <style>\n",
              "    .colab-df-container {\n",
              "      display:flex;\n",
              "      gap: 12px;\n",
              "    }\n",
              "\n",
              "    .colab-df-convert {\n",
              "      background-color: #E8F0FE;\n",
              "      border: none;\n",
              "      border-radius: 50%;\n",
              "      cursor: pointer;\n",
              "      display: none;\n",
              "      fill: #1967D2;\n",
              "      height: 32px;\n",
              "      padding: 0 0 0 0;\n",
              "      width: 32px;\n",
              "    }\n",
              "\n",
              "    .colab-df-convert:hover {\n",
              "      background-color: #E2EBFA;\n",
              "      box-shadow: 0px 1px 2px rgba(60, 64, 67, 0.3), 0px 1px 3px 1px rgba(60, 64, 67, 0.15);\n",
              "      fill: #174EA6;\n",
              "    }\n",
              "\n",
              "    .colab-df-buttons div {\n",
              "      margin-bottom: 4px;\n",
              "    }\n",
              "\n",
              "    [theme=dark] .colab-df-convert {\n",
              "      background-color: #3B4455;\n",
              "      fill: #D2E3FC;\n",
              "    }\n",
              "\n",
              "    [theme=dark] .colab-df-convert:hover {\n",
              "      background-color: #434B5C;\n",
              "      box-shadow: 0px 1px 3px 1px rgba(0, 0, 0, 0.15);\n",
              "      filter: drop-shadow(0px 1px 2px rgba(0, 0, 0, 0.3));\n",
              "      fill: #FFFFFF;\n",
              "    }\n",
              "  </style>\n",
              "\n",
              "    <script>\n",
              "      const buttonEl =\n",
              "        document.querySelector('#df-37c18bfe-8beb-4890-9054-bfa55a78c647 button.colab-df-convert');\n",
              "      buttonEl.style.display =\n",
              "        google.colab.kernel.accessAllowed ? 'block' : 'none';\n",
              "\n",
              "      async function convertToInteractive(key) {\n",
              "        const element = document.querySelector('#df-37c18bfe-8beb-4890-9054-bfa55a78c647');\n",
              "        const dataTable =\n",
              "          await google.colab.kernel.invokeFunction('convertToInteractive',\n",
              "                                                    [key], {});\n",
              "        if (!dataTable) return;\n",
              "\n",
              "        const docLinkHtml = 'Like what you see? Visit the ' +\n",
              "          '<a target=\"_blank\" href=https://colab.research.google.com/notebooks/data_table.ipynb>data table notebook</a>'\n",
              "          + ' to learn more about interactive tables.';\n",
              "        element.innerHTML = '';\n",
              "        dataTable['output_type'] = 'display_data';\n",
              "        await google.colab.output.renderOutput(dataTable, element);\n",
              "        const docLink = document.createElement('div');\n",
              "        docLink.innerHTML = docLinkHtml;\n",
              "        element.appendChild(docLink);\n",
              "      }\n",
              "    </script>\n",
              "  </div>\n",
              "\n",
              "\n",
              "<div id=\"df-30598240-a49e-4846-8c9e-bf9734f36c52\">\n",
              "  <button class=\"colab-df-quickchart\" onclick=\"quickchart('df-30598240-a49e-4846-8c9e-bf9734f36c52')\"\n",
              "            title=\"Suggest charts\"\n",
              "            style=\"display:none;\">\n",
              "\n",
              "<svg xmlns=\"http://www.w3.org/2000/svg\" height=\"24px\"viewBox=\"0 0 24 24\"\n",
              "     width=\"24px\">\n",
              "    <g>\n",
              "        <path d=\"M19 3H5c-1.1 0-2 .9-2 2v14c0 1.1.9 2 2 2h14c1.1 0 2-.9 2-2V5c0-1.1-.9-2-2-2zM9 17H7v-7h2v7zm4 0h-2V7h2v10zm4 0h-2v-4h2v4z\"/>\n",
              "    </g>\n",
              "</svg>\n",
              "  </button>\n",
              "\n",
              "<style>\n",
              "  .colab-df-quickchart {\n",
              "      --bg-color: #E8F0FE;\n",
              "      --fill-color: #1967D2;\n",
              "      --hover-bg-color: #E2EBFA;\n",
              "      --hover-fill-color: #174EA6;\n",
              "      --disabled-fill-color: #AAA;\n",
              "      --disabled-bg-color: #DDD;\n",
              "  }\n",
              "\n",
              "  [theme=dark] .colab-df-quickchart {\n",
              "      --bg-color: #3B4455;\n",
              "      --fill-color: #D2E3FC;\n",
              "      --hover-bg-color: #434B5C;\n",
              "      --hover-fill-color: #FFFFFF;\n",
              "      --disabled-bg-color: #3B4455;\n",
              "      --disabled-fill-color: #666;\n",
              "  }\n",
              "\n",
              "  .colab-df-quickchart {\n",
              "    background-color: var(--bg-color);\n",
              "    border: none;\n",
              "    border-radius: 50%;\n",
              "    cursor: pointer;\n",
              "    display: none;\n",
              "    fill: var(--fill-color);\n",
              "    height: 32px;\n",
              "    padding: 0;\n",
              "    width: 32px;\n",
              "  }\n",
              "\n",
              "  .colab-df-quickchart:hover {\n",
              "    background-color: var(--hover-bg-color);\n",
              "    box-shadow: 0 1px 2px rgba(60, 64, 67, 0.3), 0 1px 3px 1px rgba(60, 64, 67, 0.15);\n",
              "    fill: var(--button-hover-fill-color);\n",
              "  }\n",
              "\n",
              "  .colab-df-quickchart-complete:disabled,\n",
              "  .colab-df-quickchart-complete:disabled:hover {\n",
              "    background-color: var(--disabled-bg-color);\n",
              "    fill: var(--disabled-fill-color);\n",
              "    box-shadow: none;\n",
              "  }\n",
              "\n",
              "  .colab-df-spinner {\n",
              "    border: 2px solid var(--fill-color);\n",
              "    border-color: transparent;\n",
              "    border-bottom-color: var(--fill-color);\n",
              "    animation:\n",
              "      spin 1s steps(1) infinite;\n",
              "  }\n",
              "\n",
              "  @keyframes spin {\n",
              "    0% {\n",
              "      border-color: transparent;\n",
              "      border-bottom-color: var(--fill-color);\n",
              "      border-left-color: var(--fill-color);\n",
              "    }\n",
              "    20% {\n",
              "      border-color: transparent;\n",
              "      border-left-color: var(--fill-color);\n",
              "      border-top-color: var(--fill-color);\n",
              "    }\n",
              "    30% {\n",
              "      border-color: transparent;\n",
              "      border-left-color: var(--fill-color);\n",
              "      border-top-color: var(--fill-color);\n",
              "      border-right-color: var(--fill-color);\n",
              "    }\n",
              "    40% {\n",
              "      border-color: transparent;\n",
              "      border-right-color: var(--fill-color);\n",
              "      border-top-color: var(--fill-color);\n",
              "    }\n",
              "    60% {\n",
              "      border-color: transparent;\n",
              "      border-right-color: var(--fill-color);\n",
              "    }\n",
              "    80% {\n",
              "      border-color: transparent;\n",
              "      border-right-color: var(--fill-color);\n",
              "      border-bottom-color: var(--fill-color);\n",
              "    }\n",
              "    90% {\n",
              "      border-color: transparent;\n",
              "      border-bottom-color: var(--fill-color);\n",
              "    }\n",
              "  }\n",
              "</style>\n",
              "\n",
              "  <script>\n",
              "    async function quickchart(key) {\n",
              "      const quickchartButtonEl =\n",
              "        document.querySelector('#' + key + ' button');\n",
              "      quickchartButtonEl.disabled = true;  // To prevent multiple clicks.\n",
              "      quickchartButtonEl.classList.add('colab-df-spinner');\n",
              "      try {\n",
              "        const charts = await google.colab.kernel.invokeFunction(\n",
              "            'suggestCharts', [key], {});\n",
              "      } catch (error) {\n",
              "        console.error('Error during call to suggestCharts:', error);\n",
              "      }\n",
              "      quickchartButtonEl.classList.remove('colab-df-spinner');\n",
              "      quickchartButtonEl.classList.add('colab-df-quickchart-complete');\n",
              "    }\n",
              "    (() => {\n",
              "      let quickchartButtonEl =\n",
              "        document.querySelector('#df-30598240-a49e-4846-8c9e-bf9734f36c52 button');\n",
              "      quickchartButtonEl.style.display =\n",
              "        google.colab.kernel.accessAllowed ? 'block' : 'none';\n",
              "    })();\n",
              "  </script>\n",
              "</div>\n",
              "    </div>\n",
              "  </div>\n"
            ],
            "application/vnd.google.colaboratory.intrinsic+json": {
              "type": "dataframe",
              "variable_name": "df",
              "summary": "{\n  \"name\": \"df\",\n  \"rows\": 3,\n  \"fields\": [\n    {\n      \"column\": \"name\",\n      \"properties\": {\n        \"dtype\": \"string\",\n        \"num_unique_values\": 3,\n        \"samples\": [\n          \"Maria\",\n          \"Nick\",\n          \"Luka\"\n        ],\n        \"semantic_type\": \"\",\n        \"description\": \"\"\n      }\n    },\n    {\n      \"column\": \"age\",\n      \"properties\": {\n        \"dtype\": \"number\",\n        \"std\": 11,\n        \"min\": 23,\n        \"max\": 45,\n        \"num_unique_values\": 3,\n        \"samples\": [\n          23,\n          30,\n          45\n        ],\n        \"semantic_type\": \"\",\n        \"description\": \"\"\n      }\n    },\n    {\n      \"column\": \"hobbi\",\n      \"properties\": {\n        \"dtype\": \"string\",\n        \"num_unique_values\": 3,\n        \"samples\": [\n          \"music\",\n          \"rock\",\n          \"mountions\"\n        ],\n        \"semantic_type\": \"\",\n        \"description\": \"\"\n      }\n    }\n  ]\n}"
            }
          },
          "metadata": {},
          "execution_count": 4
        }
      ]
    },
    {
      "cell_type": "markdown",
      "source": [
        "* **With data list and columns**"
      ],
      "metadata": {
        "id": "UZuyr-Y_L6e9"
      }
    },
    {
      "cell_type": "code",
      "source": [
        "data_list = [\n",
        "    ['Maria',23, 'music'],\n",
        "    ['Nick', 30, 'rock'],\n",
        "    ['Luca', 45,'mountions']\n",
        "]\n",
        "\n",
        "df_columns = ['name','age','hobbi']\n",
        "\n",
        "df = pd.DataFrame(data_list,columns = df_columns)\n",
        "df"
      ],
      "metadata": {
        "colab": {
          "base_uri": "https://localhost:8080/",
          "height": 143
        },
        "id": "wfAzj1AuMPE4",
        "outputId": "e2614b72-68b4-4cfb-8b3f-1131bc58db90"
      },
      "execution_count": 5,
      "outputs": [
        {
          "output_type": "execute_result",
          "data": {
            "text/plain": [
              "    name  age      hobbi\n",
              "0  Maria   23      music\n",
              "1   Nick   30       rock\n",
              "2   Luca   45  mountions"
            ],
            "text/html": [
              "\n",
              "  <div id=\"df-d0af1e77-b3ca-4798-af04-e50938a0da79\" class=\"colab-df-container\">\n",
              "    <div>\n",
              "<style scoped>\n",
              "    .dataframe tbody tr th:only-of-type {\n",
              "        vertical-align: middle;\n",
              "    }\n",
              "\n",
              "    .dataframe tbody tr th {\n",
              "        vertical-align: top;\n",
              "    }\n",
              "\n",
              "    .dataframe thead th {\n",
              "        text-align: right;\n",
              "    }\n",
              "</style>\n",
              "<table border=\"1\" class=\"dataframe\">\n",
              "  <thead>\n",
              "    <tr style=\"text-align: right;\">\n",
              "      <th></th>\n",
              "      <th>name</th>\n",
              "      <th>age</th>\n",
              "      <th>hobbi</th>\n",
              "    </tr>\n",
              "  </thead>\n",
              "  <tbody>\n",
              "    <tr>\n",
              "      <th>0</th>\n",
              "      <td>Maria</td>\n",
              "      <td>23</td>\n",
              "      <td>music</td>\n",
              "    </tr>\n",
              "    <tr>\n",
              "      <th>1</th>\n",
              "      <td>Nick</td>\n",
              "      <td>30</td>\n",
              "      <td>rock</td>\n",
              "    </tr>\n",
              "    <tr>\n",
              "      <th>2</th>\n",
              "      <td>Luca</td>\n",
              "      <td>45</td>\n",
              "      <td>mountions</td>\n",
              "    </tr>\n",
              "  </tbody>\n",
              "</table>\n",
              "</div>\n",
              "    <div class=\"colab-df-buttons\">\n",
              "\n",
              "  <div class=\"colab-df-container\">\n",
              "    <button class=\"colab-df-convert\" onclick=\"convertToInteractive('df-d0af1e77-b3ca-4798-af04-e50938a0da79')\"\n",
              "            title=\"Convert this dataframe to an interactive table.\"\n",
              "            style=\"display:none;\">\n",
              "\n",
              "  <svg xmlns=\"http://www.w3.org/2000/svg\" height=\"24px\" viewBox=\"0 -960 960 960\">\n",
              "    <path d=\"M120-120v-720h720v720H120Zm60-500h600v-160H180v160Zm220 220h160v-160H400v160Zm0 220h160v-160H400v160ZM180-400h160v-160H180v160Zm440 0h160v-160H620v160ZM180-180h160v-160H180v160Zm440 0h160v-160H620v160Z\"/>\n",
              "  </svg>\n",
              "    </button>\n",
              "\n",
              "  <style>\n",
              "    .colab-df-container {\n",
              "      display:flex;\n",
              "      gap: 12px;\n",
              "    }\n",
              "\n",
              "    .colab-df-convert {\n",
              "      background-color: #E8F0FE;\n",
              "      border: none;\n",
              "      border-radius: 50%;\n",
              "      cursor: pointer;\n",
              "      display: none;\n",
              "      fill: #1967D2;\n",
              "      height: 32px;\n",
              "      padding: 0 0 0 0;\n",
              "      width: 32px;\n",
              "    }\n",
              "\n",
              "    .colab-df-convert:hover {\n",
              "      background-color: #E2EBFA;\n",
              "      box-shadow: 0px 1px 2px rgba(60, 64, 67, 0.3), 0px 1px 3px 1px rgba(60, 64, 67, 0.15);\n",
              "      fill: #174EA6;\n",
              "    }\n",
              "\n",
              "    .colab-df-buttons div {\n",
              "      margin-bottom: 4px;\n",
              "    }\n",
              "\n",
              "    [theme=dark] .colab-df-convert {\n",
              "      background-color: #3B4455;\n",
              "      fill: #D2E3FC;\n",
              "    }\n",
              "\n",
              "    [theme=dark] .colab-df-convert:hover {\n",
              "      background-color: #434B5C;\n",
              "      box-shadow: 0px 1px 3px 1px rgba(0, 0, 0, 0.15);\n",
              "      filter: drop-shadow(0px 1px 2px rgba(0, 0, 0, 0.3));\n",
              "      fill: #FFFFFF;\n",
              "    }\n",
              "  </style>\n",
              "\n",
              "    <script>\n",
              "      const buttonEl =\n",
              "        document.querySelector('#df-d0af1e77-b3ca-4798-af04-e50938a0da79 button.colab-df-convert');\n",
              "      buttonEl.style.display =\n",
              "        google.colab.kernel.accessAllowed ? 'block' : 'none';\n",
              "\n",
              "      async function convertToInteractive(key) {\n",
              "        const element = document.querySelector('#df-d0af1e77-b3ca-4798-af04-e50938a0da79');\n",
              "        const dataTable =\n",
              "          await google.colab.kernel.invokeFunction('convertToInteractive',\n",
              "                                                    [key], {});\n",
              "        if (!dataTable) return;\n",
              "\n",
              "        const docLinkHtml = 'Like what you see? Visit the ' +\n",
              "          '<a target=\"_blank\" href=https://colab.research.google.com/notebooks/data_table.ipynb>data table notebook</a>'\n",
              "          + ' to learn more about interactive tables.';\n",
              "        element.innerHTML = '';\n",
              "        dataTable['output_type'] = 'display_data';\n",
              "        await google.colab.output.renderOutput(dataTable, element);\n",
              "        const docLink = document.createElement('div');\n",
              "        docLink.innerHTML = docLinkHtml;\n",
              "        element.appendChild(docLink);\n",
              "      }\n",
              "    </script>\n",
              "  </div>\n",
              "\n",
              "\n",
              "<div id=\"df-390d4328-f3f3-4df1-8b05-bc19f67eda04\">\n",
              "  <button class=\"colab-df-quickchart\" onclick=\"quickchart('df-390d4328-f3f3-4df1-8b05-bc19f67eda04')\"\n",
              "            title=\"Suggest charts\"\n",
              "            style=\"display:none;\">\n",
              "\n",
              "<svg xmlns=\"http://www.w3.org/2000/svg\" height=\"24px\"viewBox=\"0 0 24 24\"\n",
              "     width=\"24px\">\n",
              "    <g>\n",
              "        <path d=\"M19 3H5c-1.1 0-2 .9-2 2v14c0 1.1.9 2 2 2h14c1.1 0 2-.9 2-2V5c0-1.1-.9-2-2-2zM9 17H7v-7h2v7zm4 0h-2V7h2v10zm4 0h-2v-4h2v4z\"/>\n",
              "    </g>\n",
              "</svg>\n",
              "  </button>\n",
              "\n",
              "<style>\n",
              "  .colab-df-quickchart {\n",
              "      --bg-color: #E8F0FE;\n",
              "      --fill-color: #1967D2;\n",
              "      --hover-bg-color: #E2EBFA;\n",
              "      --hover-fill-color: #174EA6;\n",
              "      --disabled-fill-color: #AAA;\n",
              "      --disabled-bg-color: #DDD;\n",
              "  }\n",
              "\n",
              "  [theme=dark] .colab-df-quickchart {\n",
              "      --bg-color: #3B4455;\n",
              "      --fill-color: #D2E3FC;\n",
              "      --hover-bg-color: #434B5C;\n",
              "      --hover-fill-color: #FFFFFF;\n",
              "      --disabled-bg-color: #3B4455;\n",
              "      --disabled-fill-color: #666;\n",
              "  }\n",
              "\n",
              "  .colab-df-quickchart {\n",
              "    background-color: var(--bg-color);\n",
              "    border: none;\n",
              "    border-radius: 50%;\n",
              "    cursor: pointer;\n",
              "    display: none;\n",
              "    fill: var(--fill-color);\n",
              "    height: 32px;\n",
              "    padding: 0;\n",
              "    width: 32px;\n",
              "  }\n",
              "\n",
              "  .colab-df-quickchart:hover {\n",
              "    background-color: var(--hover-bg-color);\n",
              "    box-shadow: 0 1px 2px rgba(60, 64, 67, 0.3), 0 1px 3px 1px rgba(60, 64, 67, 0.15);\n",
              "    fill: var(--button-hover-fill-color);\n",
              "  }\n",
              "\n",
              "  .colab-df-quickchart-complete:disabled,\n",
              "  .colab-df-quickchart-complete:disabled:hover {\n",
              "    background-color: var(--disabled-bg-color);\n",
              "    fill: var(--disabled-fill-color);\n",
              "    box-shadow: none;\n",
              "  }\n",
              "\n",
              "  .colab-df-spinner {\n",
              "    border: 2px solid var(--fill-color);\n",
              "    border-color: transparent;\n",
              "    border-bottom-color: var(--fill-color);\n",
              "    animation:\n",
              "      spin 1s steps(1) infinite;\n",
              "  }\n",
              "\n",
              "  @keyframes spin {\n",
              "    0% {\n",
              "      border-color: transparent;\n",
              "      border-bottom-color: var(--fill-color);\n",
              "      border-left-color: var(--fill-color);\n",
              "    }\n",
              "    20% {\n",
              "      border-color: transparent;\n",
              "      border-left-color: var(--fill-color);\n",
              "      border-top-color: var(--fill-color);\n",
              "    }\n",
              "    30% {\n",
              "      border-color: transparent;\n",
              "      border-left-color: var(--fill-color);\n",
              "      border-top-color: var(--fill-color);\n",
              "      border-right-color: var(--fill-color);\n",
              "    }\n",
              "    40% {\n",
              "      border-color: transparent;\n",
              "      border-right-color: var(--fill-color);\n",
              "      border-top-color: var(--fill-color);\n",
              "    }\n",
              "    60% {\n",
              "      border-color: transparent;\n",
              "      border-right-color: var(--fill-color);\n",
              "    }\n",
              "    80% {\n",
              "      border-color: transparent;\n",
              "      border-right-color: var(--fill-color);\n",
              "      border-bottom-color: var(--fill-color);\n",
              "    }\n",
              "    90% {\n",
              "      border-color: transparent;\n",
              "      border-bottom-color: var(--fill-color);\n",
              "    }\n",
              "  }\n",
              "</style>\n",
              "\n",
              "  <script>\n",
              "    async function quickchart(key) {\n",
              "      const quickchartButtonEl =\n",
              "        document.querySelector('#' + key + ' button');\n",
              "      quickchartButtonEl.disabled = true;  // To prevent multiple clicks.\n",
              "      quickchartButtonEl.classList.add('colab-df-spinner');\n",
              "      try {\n",
              "        const charts = await google.colab.kernel.invokeFunction(\n",
              "            'suggestCharts', [key], {});\n",
              "      } catch (error) {\n",
              "        console.error('Error during call to suggestCharts:', error);\n",
              "      }\n",
              "      quickchartButtonEl.classList.remove('colab-df-spinner');\n",
              "      quickchartButtonEl.classList.add('colab-df-quickchart-complete');\n",
              "    }\n",
              "    (() => {\n",
              "      let quickchartButtonEl =\n",
              "        document.querySelector('#df-390d4328-f3f3-4df1-8b05-bc19f67eda04 button');\n",
              "      quickchartButtonEl.style.display =\n",
              "        google.colab.kernel.accessAllowed ? 'block' : 'none';\n",
              "    })();\n",
              "  </script>\n",
              "</div>\n",
              "    </div>\n",
              "  </div>\n"
            ],
            "application/vnd.google.colaboratory.intrinsic+json": {
              "type": "dataframe",
              "variable_name": "df",
              "summary": "{\n  \"name\": \"df\",\n  \"rows\": 3,\n  \"fields\": [\n    {\n      \"column\": \"name\",\n      \"properties\": {\n        \"dtype\": \"string\",\n        \"num_unique_values\": 3,\n        \"samples\": [\n          \"Maria\",\n          \"Nick\",\n          \"Luca\"\n        ],\n        \"semantic_type\": \"\",\n        \"description\": \"\"\n      }\n    },\n    {\n      \"column\": \"age\",\n      \"properties\": {\n        \"dtype\": \"number\",\n        \"std\": 11,\n        \"min\": 23,\n        \"max\": 45,\n        \"num_unique_values\": 3,\n        \"samples\": [\n          23,\n          30,\n          45\n        ],\n        \"semantic_type\": \"\",\n        \"description\": \"\"\n      }\n    },\n    {\n      \"column\": \"hobbi\",\n      \"properties\": {\n        \"dtype\": \"string\",\n        \"num_unique_values\": 3,\n        \"samples\": [\n          \"music\",\n          \"rock\",\n          \"mountions\"\n        ],\n        \"semantic_type\": \"\",\n        \"description\": \"\"\n      }\n    }\n  ]\n}"
            }
          },
          "metadata": {},
          "execution_count": 5
        }
      ]
    },
    {
      "cell_type": "markdown",
      "source": [
        "* **Only with columns, and after adding rows**"
      ],
      "metadata": {
        "id": "JMIPyhk-khkm"
      }
    },
    {
      "cell_type": "code",
      "source": [
        "df = pd.DataFrame(columns=[\"name\",'age','hobby'])\n",
        "print(f'EMPTY DF: \\n {df} \\n')\n",
        "row1 = {\"name\":'Daniel','age':15,'hobby':'sport'}\n",
        "# df = df.append(row1, ignore_index=True) doesnt work ???\n",
        "df.loc[0]=row1\n",
        "print(f'DF WITH ONE ROW: \\n {df} \\n')"
      ],
      "metadata": {
        "colab": {
          "base_uri": "https://localhost:8080/"
        },
        "id": "tmKcoEnNRvCJ",
        "outputId": "a6256207-7b7b-44af-a0c7-238bf31ee496"
      },
      "execution_count": 6,
      "outputs": [
        {
          "output_type": "stream",
          "name": "stdout",
          "text": [
            "EMPTY DF: \n",
            " Empty DataFrame\n",
            "Columns: [name, age, hobby]\n",
            "Index: [] \n",
            "\n",
            "DF WITH ONE ROW: \n",
            "      name  age  hobby\n",
            "0  Daniel   15  sport \n",
            "\n"
          ]
        }
      ]
    },
    {
      "cell_type": "markdown",
      "source": [
        "A DataFrame in pandas has several attributes that provide information about its structure, contents, and metadata. Here are some common attributes of a pandas DataFrame:\n",
        "\n",
        "**index**: Returns the index (row labels) of the DataFrame.\n",
        "\n",
        "**columns**: Returns the column labels of the DataFrame.\n",
        "\n",
        "**values**: Returns the data values of the DataFrame as a 2D NumPy array.\n",
        "shape: Returns a tuple representing the dimensions (rows, columns) of the DataFrame.\n",
        "\n",
        "**dtypes**: Returns the data types of each column in the DataFrame.\n",
        "\n",
        "**empty**: Returns a boolean value indicating whether the DataFrame is empty.\n",
        "\n",
        "**size**: Returns the number of elements (rows * columns) in the DataFrame.\n",
        "\n",
        "\n",
        "**ndim**: Returns the number of dimensions (always 2 for DataFrames).\n",
        "\n",
        "**info()**: Provides a concise summary of the DataFrame, including data types, non-null values, and memory usage.\n",
        "\n",
        "**head(n)**: Returns the first n rows of the DataFrame.\n",
        "\n",
        "**tail(n)**: Returns the last n rows of the DataFrame.\n",
        "\n",
        "**loc[]**: Access a group of rows and columns by label(s) or a boolean array.\n",
        "\n",
        "**iloc[]**: Access a group of rows and columns by integer position(s).\n",
        "\n",
        "**values_counts()**: Returns a Series containing counts of unique values in a column.\n",
        "\n",
        "**describe()**: Generates descriptive statistics for numerical columns.\n",
        "\n",
        "**transpose()**: Transposes the DataFrame (rows become columns, and vice versa)\n",
        "\n",
        "**copy()**: Returns a copy of the DataFrame.\n",
        "\n",
        "**isna() / isnull()**: Detects missing values in the DataFrame.\n",
        "\n",
        "**notna() / notnull()**: Detects non-missing values in the DataFrame.\n",
        "\n",
        "**index.name / columns.name**: Returns or sets the name of the index or columns, respectively."
      ],
      "metadata": {
        "id": "kzlmX0szQ4e-"
      }
    },
    {
      "cell_type": "code",
      "source": [
        "print(f' COLUMNS:\\n {df.columns} \\n')\n",
        "\n",
        "print(f'INDEXES:\\n {df.index} \\n')\n",
        "\n",
        "print(f'VALUES:\\n {df.values} \\n')\n",
        "\n",
        "print(f'SHOW TYPES:\\n {df.dtypes} \\n')\n",
        "\n",
        "print(f'DF EMPTY:\\n {df.empty} \\n')\n",
        "\n",
        "print(f'DF DIM:\\n {df.ndim} \\n')\n",
        "\n",
        "print(f'DF size:\\n {df.size} \\n')\n",
        "\n",
        "print(f'DF size:\\n {df.shape} \\n')\n"
      ],
      "metadata": {
        "colab": {
          "base_uri": "https://localhost:8080/"
        },
        "id": "RYoD1hG9RwA6",
        "outputId": "9677ed12-faca-47f5-df9d-8f21671832d2"
      },
      "execution_count": null,
      "outputs": [
        {
          "output_type": "stream",
          "name": "stdout",
          "text": [
            " COLUMNS:\n",
            " Index(['age', 'hobbi'], dtype='object') \n",
            "\n",
            "INDEXES:\n",
            " Index(['Maria', 'Nick', 'Luca'], dtype='object', name='name') \n",
            "\n",
            "VALUES:\n",
            " [[23 'music']\n",
            " [30 'rock']\n",
            " [45 'mountions']] \n",
            "\n",
            "SHOW TYPES:\n",
            " age       int64\n",
            "hobbi    object\n",
            "dtype: object \n",
            "\n",
            "DF EMPTY:\n",
            " False \n",
            "\n",
            "DF DIM:\n",
            " 2 \n",
            "\n",
            "DF size:\n",
            " 6 \n",
            "\n",
            "DF size:\n",
            " (3, 2) \n",
            "\n"
          ]
        }
      ]
    },
    {
      "cell_type": "code",
      "source": [
        "df['name'], df[['name','age']],df.loc[:,['name','age']], df.loc[:,'name':'age'], df.iloc[1,0:2]"
      ],
      "metadata": {
        "colab": {
          "base_uri": "https://localhost:8080/"
        },
        "id": "w4fZIicnVB61",
        "outputId": "ecf07fa8-f350-4f82-e5d5-e3b8cafa4d94"
      },
      "execution_count": null,
      "outputs": [
        {
          "output_type": "execute_result",
          "data": {
            "text/plain": [
              "(0    Maria\n",
              " 1     Nick\n",
              " 2     Luca\n",
              " Name: name, dtype: object,\n",
              "     name  age\n",
              " 0  Maria   23\n",
              " 1   Nick   30\n",
              " 2   Luca   45,\n",
              "     name  age\n",
              " 0  Maria   23\n",
              " 1   Nick   30\n",
              " 2   Luca   45,\n",
              "     name  age\n",
              " 0  Maria   23\n",
              " 1   Nick   30\n",
              " 2   Luca   45,\n",
              " name    Nick\n",
              " age       30\n",
              " Name: 1, dtype: object)"
            ]
          },
          "metadata": {},
          "execution_count": 47
        }
      ]
    },
    {
      "cell_type": "code",
      "source": [
        "# Add a new column 'C' with values [3, 4, 5]\n",
        "df['C'] = [3, 4, 5]\n",
        "\n",
        "# Insert a new column 'C' at index 2 with values [3, 4, 5]\n",
        "df.insert(2, 'C', [3, 4, 5])\n",
        "\n",
        "# Create a new DataFrame with an additional column 'C'\n",
        "df = df.assign(C=[3, 4, 5])"
      ],
      "metadata": {
        "id": "7yHmm-oJZvnb"
      },
      "execution_count": null,
      "outputs": []
    },
    {
      "cell_type": "markdown",
      "source": [
        "Adding columns\n",
        "* **Direct Assignment**:\n",
        "* **Using insert():** You can use the insert() method to insert a new column at a specific location.\n",
        "* **Using assign():**\n",
        "\n",
        "When pandas returns columns from a DataFrame, they are typically represented as **pandas Series objects**. A Series is a **one-dimensional labeled array** capable of holding any data type. **It is essentially a single column of data with associated row labels (index)**.\n",
        "\n",
        "However, if you want to extract the data as a NumPy array or a Python list, you can easily do so using the **values attribute**(array) or the **tolist()** method, respectively."
      ],
      "metadata": {
        "id": "eIT8CQOBm74T"
      }
    },
    {
      "cell_type": "code",
      "source": [
        "bdf = pd.DataFrame(data_list,columns = df_columns)\n",
        "df = df.set_index('name')\n",
        "\n",
        "print(f'\\n INDEXES: \\n {df.index}')\n",
        "print(f'\\n MODIFIED DATAFRAME: \\n {df}')\n",
        "print()\n",
        "print([ind for ind in df.index if ind[-1]=='a'])"
      ],
      "metadata": {
        "colab": {
          "base_uri": "https://localhost:8080/"
        },
        "id": "I0uREHJ8X3i_",
        "outputId": "bd8bcdba-3a6c-4200-f32d-170b7b92ba6e"
      },
      "execution_count": null,
      "outputs": [
        {
          "output_type": "stream",
          "name": "stdout",
          "text": [
            "\n",
            " INDEXES: \n",
            " Index(['Maria', 'Nick', 'Luca'], dtype='object', name='name')\n",
            "\n",
            " MODIFIED DATAFRAME: \n",
            "        age      hobbi\n",
            "name                 \n",
            "Maria   23      music\n",
            "Nick    30       rock\n",
            "Luca    45  mountions\n",
            "\n",
            "['Maria', 'Luca']\n"
          ]
        }
      ]
    },
    {
      "cell_type": "markdown",
      "source": [
        "The **df.index** attribute returns an Index object, which is an immutable array-like structure in pandas.\n",
        " It's similar to a list but has additional functionalities tailored for indexing and alignment in pandas DataFrames and Series.\n",
        "\n",
        "While it behaves like an array or list in many respects, it's not exactly a Python list or NumPy array.\n",
        "However, *you can easily convert it to a list or array if needed* using the **tolist()** or **numpy.array()** methods respectively."
      ],
      "metadata": {
        "id": "rOfP8KWegd2M"
      }
    },
    {
      "cell_type": "code",
      "source": [
        "df_modif = df.reset_index(drop = True,inplace=False)\n",
        "print(df_modif)\n",
        "print()\n",
        "print(df)\n"
      ],
      "metadata": {
        "colab": {
          "base_uri": "https://localhost:8080/"
        },
        "id": "4oRBDBG4Y2E_",
        "outputId": "9e060970-d270-45d7-8a95-feb4690af650"
      },
      "execution_count": null,
      "outputs": [
        {
          "output_type": "stream",
          "name": "stdout",
          "text": [
            "   age      hobbi\n",
            "0   23      music\n",
            "1   30       rock\n",
            "2   45  mountions\n",
            "\n",
            "       age      hobbi\n",
            "name                 \n",
            "Maria   23      music\n",
            "Nick    30       rock\n",
            "Luca    45  mountions\n"
          ]
        }
      ]
    },
    {
      "cell_type": "markdown",
      "source": [
        "When **inplace=True**:\n",
        " The modifications are applied to the original DataFrame, and the function returns None. This means that the DataFrame is modified in place, and no new DataFrame is returned.\n",
        "\n",
        "When **inplace=False** (or omitted, as it defaults to False):\n",
        "The modifications are not applied to the original DataFrame. Instead, the function returns a new DataFrame with the modifications applied, leaving the original DataFrame unchanged.\n",
        "\n",
        "**drop =True** delete current index"
      ],
      "metadata": {
        "id": "ZIbz16T9b07C"
      }
    },
    {
      "cell_type": "code",
      "source": [
        "df = pd.DataFrame(data_list,columns = df_columns)\n",
        "print(f'ORIGINAL DATAFRAME: \\n {df}')\n",
        "# adding new row\n",
        "df.loc[3] = {'name':'Maria', 'age': 35, 'hobbi':'art'}\n",
        "print(f'\\n MODIFIED DATAFRAME: \\n {df}')\n",
        "\n",
        "person = df[(df['name'] == 'Maria')& (df['age']==23)]\n",
        "person\n"
      ],
      "metadata": {
        "colab": {
          "base_uri": "https://localhost:8080/",
          "height": 289
        },
        "id": "fkgG-9fbZRSu",
        "outputId": "427d26a1-c354-4fee-8d6a-5fbdde048372"
      },
      "execution_count": 7,
      "outputs": [
        {
          "output_type": "stream",
          "name": "stdout",
          "text": [
            "ORIGINAL DATAFRAME: \n",
            "     name  age      hobbi\n",
            "0  Maria   23      music\n",
            "1   Nick   30       rock\n",
            "2   Luca   45  mountions\n",
            "\n",
            " MODIFIED DATAFRAME: \n",
            "     name  age      hobbi\n",
            "0  Maria   23      music\n",
            "1   Nick   30       rock\n",
            "2   Luca   45  mountions\n",
            "3  Maria   35        art\n"
          ]
        },
        {
          "output_type": "execute_result",
          "data": {
            "text/plain": [
              "    name  age  hobbi\n",
              "0  Maria   23  music"
            ],
            "text/html": [
              "\n",
              "  <div id=\"df-bc70ec8e-c184-4522-a139-f551924ebe74\" class=\"colab-df-container\">\n",
              "    <div>\n",
              "<style scoped>\n",
              "    .dataframe tbody tr th:only-of-type {\n",
              "        vertical-align: middle;\n",
              "    }\n",
              "\n",
              "    .dataframe tbody tr th {\n",
              "        vertical-align: top;\n",
              "    }\n",
              "\n",
              "    .dataframe thead th {\n",
              "        text-align: right;\n",
              "    }\n",
              "</style>\n",
              "<table border=\"1\" class=\"dataframe\">\n",
              "  <thead>\n",
              "    <tr style=\"text-align: right;\">\n",
              "      <th></th>\n",
              "      <th>name</th>\n",
              "      <th>age</th>\n",
              "      <th>hobbi</th>\n",
              "    </tr>\n",
              "  </thead>\n",
              "  <tbody>\n",
              "    <tr>\n",
              "      <th>0</th>\n",
              "      <td>Maria</td>\n",
              "      <td>23</td>\n",
              "      <td>music</td>\n",
              "    </tr>\n",
              "  </tbody>\n",
              "</table>\n",
              "</div>\n",
              "    <div class=\"colab-df-buttons\">\n",
              "\n",
              "  <div class=\"colab-df-container\">\n",
              "    <button class=\"colab-df-convert\" onclick=\"convertToInteractive('df-bc70ec8e-c184-4522-a139-f551924ebe74')\"\n",
              "            title=\"Convert this dataframe to an interactive table.\"\n",
              "            style=\"display:none;\">\n",
              "\n",
              "  <svg xmlns=\"http://www.w3.org/2000/svg\" height=\"24px\" viewBox=\"0 -960 960 960\">\n",
              "    <path d=\"M120-120v-720h720v720H120Zm60-500h600v-160H180v160Zm220 220h160v-160H400v160Zm0 220h160v-160H400v160ZM180-400h160v-160H180v160Zm440 0h160v-160H620v160ZM180-180h160v-160H180v160Zm440 0h160v-160H620v160Z\"/>\n",
              "  </svg>\n",
              "    </button>\n",
              "\n",
              "  <style>\n",
              "    .colab-df-container {\n",
              "      display:flex;\n",
              "      gap: 12px;\n",
              "    }\n",
              "\n",
              "    .colab-df-convert {\n",
              "      background-color: #E8F0FE;\n",
              "      border: none;\n",
              "      border-radius: 50%;\n",
              "      cursor: pointer;\n",
              "      display: none;\n",
              "      fill: #1967D2;\n",
              "      height: 32px;\n",
              "      padding: 0 0 0 0;\n",
              "      width: 32px;\n",
              "    }\n",
              "\n",
              "    .colab-df-convert:hover {\n",
              "      background-color: #E2EBFA;\n",
              "      box-shadow: 0px 1px 2px rgba(60, 64, 67, 0.3), 0px 1px 3px 1px rgba(60, 64, 67, 0.15);\n",
              "      fill: #174EA6;\n",
              "    }\n",
              "\n",
              "    .colab-df-buttons div {\n",
              "      margin-bottom: 4px;\n",
              "    }\n",
              "\n",
              "    [theme=dark] .colab-df-convert {\n",
              "      background-color: #3B4455;\n",
              "      fill: #D2E3FC;\n",
              "    }\n",
              "\n",
              "    [theme=dark] .colab-df-convert:hover {\n",
              "      background-color: #434B5C;\n",
              "      box-shadow: 0px 1px 3px 1px rgba(0, 0, 0, 0.15);\n",
              "      filter: drop-shadow(0px 1px 2px rgba(0, 0, 0, 0.3));\n",
              "      fill: #FFFFFF;\n",
              "    }\n",
              "  </style>\n",
              "\n",
              "    <script>\n",
              "      const buttonEl =\n",
              "        document.querySelector('#df-bc70ec8e-c184-4522-a139-f551924ebe74 button.colab-df-convert');\n",
              "      buttonEl.style.display =\n",
              "        google.colab.kernel.accessAllowed ? 'block' : 'none';\n",
              "\n",
              "      async function convertToInteractive(key) {\n",
              "        const element = document.querySelector('#df-bc70ec8e-c184-4522-a139-f551924ebe74');\n",
              "        const dataTable =\n",
              "          await google.colab.kernel.invokeFunction('convertToInteractive',\n",
              "                                                    [key], {});\n",
              "        if (!dataTable) return;\n",
              "\n",
              "        const docLinkHtml = 'Like what you see? Visit the ' +\n",
              "          '<a target=\"_blank\" href=https://colab.research.google.com/notebooks/data_table.ipynb>data table notebook</a>'\n",
              "          + ' to learn more about interactive tables.';\n",
              "        element.innerHTML = '';\n",
              "        dataTable['output_type'] = 'display_data';\n",
              "        await google.colab.output.renderOutput(dataTable, element);\n",
              "        const docLink = document.createElement('div');\n",
              "        docLink.innerHTML = docLinkHtml;\n",
              "        element.appendChild(docLink);\n",
              "      }\n",
              "    </script>\n",
              "  </div>\n",
              "\n",
              "    </div>\n",
              "  </div>\n"
            ],
            "application/vnd.google.colaboratory.intrinsic+json": {
              "type": "dataframe",
              "variable_name": "person",
              "summary": "{\n  \"name\": \"person\",\n  \"rows\": 1,\n  \"fields\": [\n    {\n      \"column\": \"name\",\n      \"properties\": {\n        \"dtype\": \"string\",\n        \"num_unique_values\": 1,\n        \"samples\": [\n          \"Maria\"\n        ],\n        \"semantic_type\": \"\",\n        \"description\": \"\"\n      }\n    },\n    {\n      \"column\": \"age\",\n      \"properties\": {\n        \"dtype\": \"number\",\n        \"std\": null,\n        \"min\": 23,\n        \"max\": 23,\n        \"num_unique_values\": 1,\n        \"samples\": [\n          23\n        ],\n        \"semantic_type\": \"\",\n        \"description\": \"\"\n      }\n    },\n    {\n      \"column\": \"hobbi\",\n      \"properties\": {\n        \"dtype\": \"string\",\n        \"num_unique_values\": 1,\n        \"samples\": [\n          \"music\"\n        ],\n        \"semantic_type\": \"\",\n        \"description\": \"\"\n      }\n    }\n  ]\n}"
            }
          },
          "metadata": {},
          "execution_count": 7
        }
      ]
    },
    {
      "cell_type": "code",
      "source": [
        "df = pd.DataFrame(data_list,columns = df_columns)\n",
        "df = df.drop(['age'], axis=1)\n",
        "print(f'\\n MODIFIED DATAFRAME: \\n {df}')\n",
        "\n",
        "df = pd.DataFrame(data_list,columns = df_columns)\n",
        "df = df.drop(df.index[1], axis=0)\n",
        "print(f'\\n MODIFIED DATAFRAME: \\n {df}')\n"
      ],
      "metadata": {
        "colab": {
          "base_uri": "https://localhost:8080/"
        },
        "id": "Fq7i_8NQZtHR",
        "outputId": "379c23a3-3179-43f6-db18-046f905cec8d"
      },
      "execution_count": 8,
      "outputs": [
        {
          "output_type": "stream",
          "name": "stdout",
          "text": [
            "\n",
            " MODIFIED DATAFRAME: \n",
            "     name      hobbi\n",
            "0  Maria      music\n",
            "1   Nick       rock\n",
            "2   Luca  mountions\n",
            "\n",
            " MODIFIED DATAFRAME: \n",
            "     name  age      hobbi\n",
            "0  Maria   23      music\n",
            "2   Luca   45  mountions\n"
          ]
        }
      ]
    },
    {
      "cell_type": "code",
      "source": [
        "df = pd.DataFrame(data_list,columns = df_columns)\n",
        "df_new = df.loc[[1,2], ['age','name']]\n",
        "print(f'\\n MODIFIED DATAFRAME: \\n {df_new}')\n",
        "\n",
        "df_new = df.loc[1,'name']\n",
        "print(f'\\n MODIFIED DATAFRAME: \\n {df_new}')\n",
        "\n",
        "df_new = df.loc[:1,:]\n",
        "print(f'\\n MODIFIED DATAFRAME: \\n {df_new}')\n",
        "\n",
        "df.loc[df['hobbi']=='rock']\n",
        "\n",
        "df_new = df.loc[:,df.nunique()<4]\n",
        "print(f'\\n MODIFIED DATAFRAME: \\n {df_new}')"
      ],
      "metadata": {
        "colab": {
          "base_uri": "https://localhost:8080/"
        },
        "id": "PnBp3ey1WtRw",
        "outputId": "eac4daf7-9536-49c6-e4cc-c103bf44e722"
      },
      "execution_count": 36,
      "outputs": [
        {
          "output_type": "stream",
          "name": "stdout",
          "text": [
            "\n",
            " MODIFIED DATAFRAME: \n",
            "    age  name\n",
            "1   30  Nick\n",
            "2   45  Luca\n",
            "\n",
            " MODIFIED DATAFRAME: \n",
            " Nick\n",
            "\n",
            " MODIFIED DATAFRAME: \n",
            "     name  age  hobbi\n",
            "0  Maria   23  music\n",
            "1   Nick   30   rock\n",
            "\n",
            " MODIFIED DATAFRAME: \n",
            "     name  age      hobbi\n",
            "0  Maria   23      music\n",
            "1   Nick   30       rock\n",
            "2   Luca   45  mountions\n"
          ]
        }
      ]
    },
    {
      "cell_type": "code",
      "source": [
        "ls = [f'{i}' for i in range(10)]\n",
        "type(ls[0])"
      ],
      "metadata": {
        "colab": {
          "base_uri": "https://localhost:8080/"
        },
        "id": "cu8KR8E1elUa",
        "outputId": "fb2a27e0-3baf-4cc7-fb7b-199318449f83"
      },
      "execution_count": 31,
      "outputs": [
        {
          "output_type": "execute_result",
          "data": {
            "text/plain": [
              "str"
            ]
          },
          "metadata": {},
          "execution_count": 31
        }
      ]
    },
    {
      "cell_type": "markdown",
      "source": [
        "the **drop()** method is used to delete rows through by **`df.index[n]`** or specific one **`df.drop('Y', inplace=True)**`.\n",
        "By default, it returns a new DataFrame with the specified rows removed.\n",
        "\n",
        "However, when **inplace=True** is specified, the operation is performed in place, modifying the original DataFrame."
      ],
      "metadata": {
        "id": "jGQ7otS6tNh-"
      }
    },
    {
      "cell_type": "code",
      "source": [],
      "metadata": {
        "id": "rj7DkUVgDcgh"
      },
      "execution_count": null,
      "outputs": []
    },
    {
      "cell_type": "code",
      "source": [
        "def get_variable_type(dataframe):\n",
        "  continuos_vars = []\n",
        "  categorical_vars =[]\n",
        "\n",
        "  for col in dataframe.columns:\n",
        "    if col.dtype == 'object'\n",
        "      categorical_vars.append(col)\n",
        "\n",
        "    else:\n",
        "      continuos_vars.append(col)\n",
        "  return continuos_vars, categorical_vars\n",
        "\n",
        "continuous_vars, categorical_vars = get_variable_type(df_train)\n",
        "categorical_vars.remove('NObeyesdad')"
      ],
      "metadata": {
        "id": "9RxyjxEAKvYQ"
      },
      "execution_count": null,
      "outputs": []
    },
    {
      "cell_type": "markdown",
      "source": [],
      "metadata": {
        "id": "TcK1c1DIf9uI"
      }
    },
    {
      "cell_type": "code",
      "source": [],
      "metadata": {
        "id": "tE68D1AZOaYg"
      },
      "execution_count": null,
      "outputs": []
    },
    {
      "cell_type": "code",
      "source": [],
      "metadata": {
        "id": "4W8FQMo6PAfl"
      },
      "execution_count": null,
      "outputs": []
    },
    {
      "cell_type": "code",
      "source": [],
      "metadata": {
        "id": "9TZFpRUqRXHI"
      },
      "execution_count": null,
      "outputs": []
    },
    {
      "cell_type": "code",
      "source": [],
      "metadata": {
        "id": "kG4JVgxkRpf4"
      },
      "execution_count": null,
      "outputs": []
    },
    {
      "cell_type": "code",
      "source": [],
      "metadata": {
        "id": "jFu71SHpSPl2"
      },
      "execution_count": null,
      "outputs": []
    },
    {
      "cell_type": "code",
      "source": [],
      "metadata": {
        "id": "lMFCMfQoSkXv"
      },
      "execution_count": null,
      "outputs": []
    }
  ]
}