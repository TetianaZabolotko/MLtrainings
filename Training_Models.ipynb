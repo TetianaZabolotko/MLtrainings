{
  "nbformat": 4,
  "nbformat_minor": 0,
  "metadata": {
    "colab": {
      "provenance": [],
      "toc_visible": true,
      "authorship_tag": "ABX9TyOA4mjoI765cMqh6Hs0rO+Q",
      "include_colab_link": true
    },
    "kernelspec": {
      "name": "python3",
      "display_name": "Python 3"
    },
    "language_info": {
      "name": "python"
    }
  },
  "cells": [
    {
      "cell_type": "markdown",
      "metadata": {
        "id": "view-in-github",
        "colab_type": "text"
      },
      "source": [
        "<a href=\"https://colab.research.google.com/github/TetianaZabolotko/MLtrainings/blob/main/Training_Models.ipynb\" target=\"_parent\"><img src=\"https://colab.research.google.com/assets/colab-badge.svg\" alt=\"Open In Colab\"/></a>"
      ]
    },
    {
      "cell_type": "markdown",
      "source": [
        "# Linear Regresion"
      ],
      "metadata": {
        "id": "1GLLgbXvOS0L"
      }
    },
    {
      "cell_type": "markdown",
      "source": [
        "More generally, a linear model makes a prediction by simply computing a weighted\n",
        "sum of the input features, plus a constant called the bias term (also called the intercept\n",
        "term)\n",
        "\n",
        "Linear Regression model prediction\n",
        "$$ ŷ = θ_0 + θ_1x_1 + θ_2x_2 + ... + θ_nx_n$$\n",
        "\n",
        "ŷ is the predicted value.\n",
        "\n",
        "*   ŷ is the predicted value.\n",
        "*   n is the number of features.\n",
        "*   $x_i$ is the $i^{th}$ feature value.\n",
        "*   $θ_j$ is the $j^{th}$ model parameter (including the bias term $θ_0$ and the feature weights $ (θ_1, θ_2, ⋯, θ_n)$."
      ],
      "metadata": {
        "id": "tXRvQp95COpC"
      }
    },
    {
      "cell_type": "markdown",
      "source": [
        "Linear Regression model prediction (vectorized form)\n",
        "$$y = h_θx = θ_T · x$$\n",
        "\n",
        "$h_θ$ is the hypothesis function, using the model parameters $θ$."
      ],
      "metadata": {
        "id": "SG-y2_lIEayr"
      }
    },
    {
      "cell_type": "markdown",
      "source": [
        "Well, recall that\n",
        "training a model means setting its parameters so that the model best fits the training\n",
        "set. For this purpose, we first need a measure of how well (or poorly) the model fits\n",
        "the training data. The most common performance measure\n",
        "of a regression model is the Root Mean Square Error (RMSE). \n",
        "Therefore, to train a Linear Regression model, you need to find the value of $θ$ that minimizes the RMSE. In practice, it is simpler to minimize the Mean Square Error (MSE)\n",
        "than the RMSE, and it leads to the same result (because the value that minimizes a\n",
        "function also minimizes its square root).\n",
        "\n",
        "**`MSE cost function`** for a Linear Regression model\n",
        "$$\\texttt{MSE}\\,X,h_θ = \\frac {1} {m}\\sum^m_{i=1}(θ^T \\cdot x^{(i)}-y^{(i)})^2$$"
      ],
      "metadata": {
        "id": "4w7drDtjFFHJ"
      }
    },
    {
      "cell_type": "markdown",
      "source": [
        "To find the value of $θ$ that minimizes the cost function, there is a closed-form solution\n",
        "— in other words, a mathematical equation that gives the result directly. This is called\n",
        "the Normal Equation\n",
        "Normal Equation\n",
        "$$ θ^{̂} = (X^T⋅X)^{-1}⋅X^{T}⋅y $$\n",
        "\n",
        "*   $θ^{̂}$ is the value of $\\theta$ that minimizes the cost function.\n",
        "*   $y$ is the vector of target values containing $y^{(1)}$ to $y^{(m)}$.\n"
      ],
      "metadata": {
        "id": "RdZREqMXOaXp"
      }
    },
    {
      "cell_type": "code",
      "source": [
        "import numpy as np\n",
        "\n",
        "%matplotlib inline\n",
        "import matplotlib\n",
        "import matplotlib.pyplot as plt\n",
        "\n",
        "X = 2*np.random.rand(100,1)\n",
        "#Create an array of the given shape and populate it with random samples \n",
        "#from a uniform distribution over [0, 1). \n",
        "y = 4 + 3*X + np.random.randn(100,1) # Gaussian noise\n",
        "# Return a sample (or samples) from the “standard normal” distribution.\n",
        "# For random samples from the normal distribution with mean mu and standard deviation \n",
        "#sigma, use: sigma * np.random.randn(...) + mu\n",
        "\n",
        "\n",
        "plt.figure(figsize=(8,4))\n",
        "plt.plot(X,y,'b.')\n",
        "#plt.legend('top right')\n",
        "plt.xlabel('$X_1$', fontsize =18)\n",
        "plt.ylabel('$y$', rotation=0, fontsize =18)\n",
        "plt.axis([0,2,0,15])\n",
        "plt.show\n",
        "\n",
        "\n"
      ],
      "metadata": {
        "colab": {
          "base_uri": "https://localhost:8080/",
          "height": 306
        },
        "id": "V4e2m_1PRwvA",
        "outputId": "a0909db2-452e-4544-a4b3-1bb563047649"
      },
      "execution_count": 1,
      "outputs": [
        {
          "output_type": "execute_result",
          "data": {
            "text/plain": [
              "<function matplotlib.pyplot.show(*args, **kw)>"
            ]
          },
          "metadata": {},
          "execution_count": 1
        },
        {
          "output_type": "display_data",
          "data": {
            "text/plain": [
              "<Figure size 576x288 with 1 Axes>"
            ],
            "image/png": "[encoded data removed]"
          },
          "metadata": {
            "needs_background": "light"
          }
        }
      ]
    },
    {
      "cell_type": "code",
      "source": [
        "X_b = np.c_[np.ones((100,1)), X]\n",
        "y.shape\n",
        "theta_best = np.linalg.inv(X_b.T.dot(X_b)).dot(X_b.T).dot(y)\n",
        "theta_best"
      ],
      "metadata": {
        "colab": {
          "base_uri": "https://localhost:8080/"
        },
        "id": "k6c1PYf0OZvg",
        "outputId": "b11b5662-2d0c-406b-d7e6-35842e47ec0f"
      },
      "execution_count": 2,
      "outputs": [
        {
          "output_type": "execute_result",
          "data": {
            "text/plain": [
              "array([[3.86869395],\n",
              "       [3.17038009]])"
            ]
          },
          "metadata": {},
          "execution_count": 2
        }
      ]
    },
    {
      "cell_type": "markdown",
      "source": [
        "Predictions using $ θ^̂ $ :"
      ],
      "metadata": {
        "id": "fZSMAhcugWIe"
      }
    },
    {
      "cell_type": "code",
      "source": [
        "X_new  = np.array([[0], [2]])\n",
        "X_new.shape"
      ],
      "metadata": {
        "colab": {
          "base_uri": "https://localhost:8080/"
        },
        "id": "0DH4DzgMgjHn",
        "outputId": "291c0e39-3a05-4b44-fb74-6bbed5faf996"
      },
      "execution_count": 3,
      "outputs": [
        {
          "output_type": "execute_result",
          "data": {
            "text/plain": [
              "(2, 1)"
            ]
          },
          "metadata": {},
          "execution_count": 3
        }
      ]
    },
    {
      "cell_type": "code",
      "source": [
        "X_new_b = np.c_[np.ones((2,1)), X_new]\n",
        "y_predict = X_new_b.dot(theta_best)\n",
        "y_predict"
      ],
      "metadata": {
        "colab": {
          "base_uri": "https://localhost:8080/"
        },
        "id": "daFypRRjhAGn",
        "outputId": "b40678f3-325f-49d4-e76d-031d78d0d15f"
      },
      "execution_count": 4,
      "outputs": [
        {
          "output_type": "execute_result",
          "data": {
            "text/plain": [
              "array([[ 3.86869395],\n",
              "       [10.20945412]])"
            ]
          },
          "metadata": {},
          "execution_count": 4
        }
      ]
    },
    {
      "cell_type": "markdown",
      "source": [
        "The actual function that we used to generate the data is $ y = 4 + 3x_0 + $ Gaussian noise.\n",
        "\n",
        "$$y = \\begin{pmatrix}\n",
        "    1 & 0\\\\\n",
        "    1 & 2 \n",
        "\\end{pmatrix}  · \\begin{pmatrix}\n",
        "    4.08\\\\\n",
        "    2.94 \n",
        "\\end{pmatrix}$$"
      ],
      "metadata": {
        "id": "ir-rvGASihVV"
      }
    },
    {
      "cell_type": "code",
      "source": [
        "plt.figure(figsize=(8,4))\n",
        "plt.plot(X_new, y_predict, \"r-\")\n",
        "plt.plot(X, y,'b.')\n",
        "plt.axis([0,2,0,15])\n",
        "plt.show()"
      ],
      "metadata": {
        "colab": {
          "base_uri": "https://localhost:8080/",
          "height": 265
        },
        "id": "Xz-vrLDmkmZT",
        "outputId": "5ed2a605-1adf-4bde-b553-044b7b1502f1"
      },
      "execution_count": 5,
      "outputs": [
        {
          "output_type": "display_data",
          "data": {
            "text/plain": [
              "<Figure size 576x288 with 1 Axes>"
            ],
            "image/png": "[encoded data removed]"
          },
          "metadata": {
            "needs_background": "light"
          }
        }
      ]
    },
    {
      "cell_type": "code",
      "source": [
        "from sklearn.linear_model import LinearRegression\n",
        "lin_reg = LinearRegression()\n",
        "lin_reg.fit(X,y)\n",
        "lin_reg.intercept_, lin_reg.coef_"
      ],
      "metadata": {
        "colab": {
          "base_uri": "https://localhost:8080/"
        },
        "id": "ueHBkazx3vjj",
        "outputId": "8c9fb049-c2d1-45b4-9496-c6080bf5a6c3"
      },
      "execution_count": 6,
      "outputs": [
        {
          "output_type": "execute_result",
          "data": {
            "text/plain": [
              "(array([3.86869395]), array([[3.17038009]]))"
            ]
          },
          "metadata": {},
          "execution_count": 6
        }
      ]
    },
    {
      "cell_type": "code",
      "source": [
        "lin_reg.predict(X_new)"
      ],
      "metadata": {
        "colab": {
          "base_uri": "https://localhost:8080/"
        },
        "id": "TgZt4K-y5HFA",
        "outputId": "3afd3ecc-b7ef-47f9-a296-3d69ff1926d7"
      },
      "execution_count": 7,
      "outputs": [
        {
          "output_type": "execute_result",
          "data": {
            "text/plain": [
              "array([[ 3.86869395],\n",
              "       [10.20945412]])"
            ]
          },
          "metadata": {},
          "execution_count": 7
        }
      ]
    },
    {
      "cell_type": "markdown",
      "source": [
        "# Computational Complexity"
      ],
      "metadata": {
        "id": "0tecCjQu71sU"
      }
    },
    {
      "cell_type": "markdown",
      "source": [
        "The Normal Equation computes the inverse of $X^T · X$, which is an $n × n$ matrix\n",
        "(where $n$ is the number of features). The computational complexity of inverting such a\n",
        "matrix is typically about $O(n^{2.4})$ to $O(n^3)$ (depending on the implementation).\n",
        "\n",
        "On the positive side, this equation is linear with regards to the number of instances in\n",
        "the training set (it is O(m)), so it handles large training sets efficiently, provided they\n",
        "can fit in memory."
      ],
      "metadata": {
        "id": "i4j0_aD8QbGM"
      }
    },
    {
      "cell_type": "markdown",
      "source": [
        "# Gradient Descent"
      ],
      "metadata": {
        "id": "gPVSKWzf77Ke"
      }
    },
    {
      "cell_type": "markdown",
      "source": [
        "Gradient Descent is a very generic optimization algorithm capable of finding optimal\n",
        "solutions to a wide range of problems. The general idea of Gradient Descent is to\n",
        "tweak parameters iteratively in order to minimize a cost function."
      ],
      "metadata": {
        "id": "nsMrSxjdVlvK"
      }
    },
    {
      "cell_type": "markdown",
      "source": [
        "# Batch Gradient Descent"
      ],
      "metadata": {
        "id": "DYLWQn1x8Haw"
      }
    },
    {
      "cell_type": "markdown",
      "source": [
        "# Stochastic Gradient Descent"
      ],
      "metadata": {
        "id": "QqcP7VWc8OAd"
      }
    },
    {
      "cell_type": "markdown",
      "source": [
        "# Mini-batch Gradient Descent"
      ],
      "metadata": {
        "id": "D15prgNw8TdB"
      }
    },
    {
      "cell_type": "markdown",
      "source": [
        "# Polynomial Regression"
      ],
      "metadata": {
        "id": "luKKw6sM8a1v"
      }
    },
    {
      "cell_type": "markdown",
      "source": [
        "if your data is actually more complex than a simple straight line? Surprisingly,\n",
        "you can actually use a linear model to fit nonlinear data.\n",
        "**`Polynomial Regression`** is technique that add powers of each feature as new features, then train a linear model on this extended\n",
        "set of features."
      ],
      "metadata": {
        "id": "2At_NXrgDByc"
      }
    },
    {
      "cell_type": "code",
      "source": [
        "m=100\n",
        "X = 6 * np.random.rand(m, 1) - 3\n",
        "y = 0.5 * X**2 + X + 2 + np.random.randn(m, 1)\n",
        "y.shape"
      ],
      "metadata": {
        "colab": {
          "base_uri": "https://localhost:8080/"
        },
        "id": "6bY6t4dQ___0",
        "outputId": "c51a5d2f-8963-46d8-89d9-894d04c16f05"
      },
      "execution_count": 8,
      "outputs": [
        {
          "output_type": "execute_result",
          "data": {
            "text/plain": [
              "(100, 1)"
            ]
          },
          "metadata": {},
          "execution_count": 8
        }
      ]
    },
    {
      "cell_type": "code",
      "source": [
        "plt.figure(figsize=(8,4))\n",
        "plt.plot(X,y,'b.')\n",
        "plt.xlabel('x', fontsize =18)\n",
        "plt.ylabel('y', rotation =False, fontsize =18)\n",
        "plt.axis([-3,3,0,10])\n",
        "plt.show\n"
      ],
      "metadata": {
        "colab": {
          "base_uri": "https://localhost:8080/",
          "height": 308
        },
        "id": "U2MZ043eBLd-",
        "outputId": "f064268f-9515-4c7c-e513-6254b3baf563"
      },
      "execution_count": 9,
      "outputs": [
        {
          "output_type": "execute_result",
          "data": {
            "text/plain": [
              "<function matplotlib.pyplot.show(*args, **kw)>"
            ]
          },
          "metadata": {},
          "execution_count": 9
        },
        {
          "output_type": "display_data",
          "data": {
            "text/plain": [
              "<Figure size 576x288 with 1 Axes>"
            ],
            "image/png": "[encoded data removed]"
          },
          "metadata": {
            "needs_background": "light"
          }
        }
      ]
    },
    {
      "cell_type": "markdown",
      "source": [
        "Generated nonlinear and noisy dataset"
      ],
      "metadata": {
        "id": "aqG5v-neDmX6"
      }
    },
    {
      "cell_type": "markdown",
      "source": [
        "Clearly, a straight line will never fit this data properly. So let’s use Scikit-Learn’s **`PolynomialFeatures class`** to transform our training data, adding the square (2nd-degree\n",
        "polynomial) of each feature in the training set as new features (in this case there is\n",
        "just one feature):"
      ],
      "metadata": {
        "id": "LEC7lmX-ENKi"
      }
    },
    {
      "cell_type": "code",
      "source": [
        "from sklearn.preprocessing import PolynomialFeatures\n",
        "poly_features = PolynomialFeatures(degree=2, include_bias=False)\n",
        "X_poly = poly_features.fit_transform(X)\n",
        "X[0]"
      ],
      "metadata": {
        "colab": {
          "base_uri": "https://localhost:8080/"
        },
        "id": "FXcmoAPODnJv",
        "outputId": "1f412d53-2cae-4a7a-b6b9-8e9e964d32f0"
      },
      "execution_count": 10,
      "outputs": [
        {
          "output_type": "execute_result",
          "data": {
            "text/plain": [
              "array([-1.78289578])"
            ]
          },
          "metadata": {},
          "execution_count": 10
        }
      ]
    },
    {
      "cell_type": "code",
      "source": [
        "X_poly[0]"
      ],
      "metadata": {
        "colab": {
          "base_uri": "https://localhost:8080/"
        },
        "id": "fKIZa7jeFdN_",
        "outputId": "812f00a8-94fa-41a0-86e8-08e93c8e51b5"
      },
      "execution_count": 11,
      "outputs": [
        {
          "output_type": "execute_result",
          "data": {
            "text/plain": [
              "array([-1.78289578,  3.17871736])"
            ]
          },
          "metadata": {},
          "execution_count": 11
        }
      ]
    },
    {
      "cell_type": "markdown",
      "source": [
        "X_poly now contains the original feature of X plus the square of this feature."
      ],
      "metadata": {
        "id": "qnOVZAwNFkl6"
      }
    },
    {
      "cell_type": "code",
      "source": [
        "lin_reg = LinearRegression()\n",
        "lin_reg.fit(X_poly,y)\n",
        "lin_reg.intercept_,lin_reg.coef_"
      ],
      "metadata": {
        "colab": {
          "base_uri": "https://localhost:8080/"
        },
        "id": "uNsrdme4GK-5",
        "outputId": "c5df2d6b-1af0-4aad-a664-53fc660ee54c"
      },
      "execution_count": 12,
      "outputs": [
        {
          "output_type": "execute_result",
          "data": {
            "text/plain": [
              "(array([1.89196681]), array([[1.05980569, 0.53260286]]))"
            ]
          },
          "metadata": {},
          "execution_count": 12
        }
      ]
    },
    {
      "cell_type": "code",
      "source": [
        "\n",
        "X_new =np.linspace(-3,3,100).reshape(100,1)\n",
        "X_new_poly = poly_features.transform(X_new)\n",
        "y_new = lin_reg.predict(X_new_poly)\n",
        "plt.figure(figsize=(8,4))\n",
        "plt.plot(X,y,'b.')\n",
        "plt.plot(X_new,y_new,'r-', linewidth=3, label='Prediction')\n",
        "plt.xlabel('x', fontsize =18)\n",
        "plt.ylabel('y', rotation =False, fontsize =18)\n",
        "plt.legend(loc='upper left', fontsize=14)\n",
        "plt.axis([-3,3,0,10])\n",
        "plt.show"
      ],
      "metadata": {
        "colab": {
          "base_uri": "https://localhost:8080/",
          "height": 308
        },
        "id": "pWMj2WbLLH0l",
        "outputId": "9ad9ae12-3877-4054-b646-53a7b723a2f3"
      },
      "execution_count": 13,
      "outputs": [
        {
          "output_type": "execute_result",
          "data": {
            "text/plain": [
              "<function matplotlib.pyplot.show(*args, **kw)>"
            ]
          },
          "metadata": {},
          "execution_count": 13
        },
        {
          "output_type": "display_data",
          "data": {
            "text/plain": [
              "<Figure size 576x288 with 1 Axes>"
            ],
            "image/png": "[encoded data removed]"
          },
          "metadata": {
            "needs_background": "light"
          }
        }
      ]
    },
    {
      "cell_type": "markdown",
      "source": [
        "Note that when there are multiple features, Polynomial Regression is capable of find‐\n",
        "ing relationships between features (which is something a plain Linear Regression\n",
        "model cannot do). This is made possible by the fact that PolynomialFeatures also\n",
        "adds all combinations of features up to the given degree. For example, if there were two features a and b, **`PolynomialFeatures`** with degree=3 would not only add the\n",
        "features $a_2, a_3, b_2$, and $b_3$, but also the combinations $ab, a_2b$, and $ab_2$."
      ],
      "metadata": {
        "id": "GCCCZZuZQ3jX"
      }
    },
    {
      "cell_type": "markdown",
      "source": [
        "PolynomialFeatures(degree=d) transforms an array containing n features into an array containing $\\frac{(n+d)!}{d!n!}$"
      ],
      "metadata": {
        "id": "M8FI8riyRN1B"
      }
    },
    {
      "cell_type": "markdown",
      "source": [
        "# Learning Curves"
      ],
      "metadata": {
        "id": "x0RnQMvm8fz8"
      }
    },
    {
      "cell_type": "code",
      "source": [
        "from sklearn.preprocessing import StandardScaler\n",
        "from sklearn.pipeline import Pipeline\n",
        "\n",
        "for style, width, degree in (('g-',1, 300), ('b--', 2, 2), ('r-+', 2, 1)):\n",
        "  polybig_features = PolynomialFeatures(degree=degree, include_bias=False)\n",
        "  std_scaler = StandardScaler()\n",
        "  lin_reg = LinearRegression()\n",
        "  polynomial_regression = Pipeline([\n",
        "      ('poly_features', polybig_features),\n",
        "      ('std_scaler', std_scaler),\n",
        "      ('lin_reg',lin_reg )    \n",
        "  ])\n",
        "\n",
        "  polynomial_regression.fit(X,y)\n",
        "  y_new_big = polynomial_regression.predict(X_new)\n",
        "  plt.plot(X_new,y_new_big,style,label=str(degree), linewidth=width)\n",
        "  \n",
        "plt.plot(X, y, \"b.\", linewidth=3)\n",
        "plt.legend(loc=\"upper left\")\n",
        "plt.xlabel(\"$x_1$\", fontsize=18)\n",
        "plt.ylabel(\"$y$\", rotation=0, fontsize=18)\n",
        "plt.axis([-3, 3, 0, 10])\n",
        "plt.show()"
      ],
      "metadata": {
        "colab": {
          "base_uri": "https://localhost:8080/",
          "height": 291
        },
        "id": "6X7mLcbK9kVO",
        "outputId": "9301cc98-a7db-460b-ae47-52f9cac942e4"
      },
      "execution_count": 14,
      "outputs": [
        {
          "output_type": "display_data",
          "data": {
            "text/plain": [
              "<Figure size 432x288 with 1 Axes>"
            ],
            "image/png": "[encoded data removed]"
          },
          "metadata": {
            "needs_background": "light"
          }
        }
      ]
    },
    {
      "cell_type": "markdown",
      "source": [
        "you used cross-validation to get an estimate of a model’s generalization\n",
        "performance. If a model performs well on the training data but generalizes poorly\n",
        "according to the cross-validation metrics, then your model is **`overfitting`**. If it per‐\n",
        "forms poorly on both, then it is **`underfitting`**. This is one way to tell when a model is\n",
        "too simple or too complex.\n",
        "\n",
        "Another way is to look at the **`learning curves`**: these are plots of the model’s perfor‐\n",
        "mance on the training set and the validation set as a function of the training set size.\n",
        "To generate the plots, simply train the model several times on different sized subsets\n",
        "of the training set. The following code defines a function that plots the learning\n",
        "curves of a model given some training data:"
      ],
      "metadata": {
        "id": "5aGBUQysTdP8"
      }
    },
    {
      "cell_type": "code",
      "source": [
        "from sklearn.metrics import mean_squared_error\n",
        "from sklearn.model_selection import train_test_split\n",
        "\n",
        "def plot_learning_curves(model, X,y):\n",
        "  X_train, X_val, y_train, y_val = train_test_split(X,y, test_size=0.2)\n",
        "  train_errors, val_errors = [], []\n",
        "  for m in range(1, len(X_train)):\n",
        "    model.fit(X_train[:m], y_train[:m])\n",
        "    y_train_predict = model.predict(X_train[:m])\n",
        "    y_val_predict = model.predict(X_val)\n",
        "    train_errors.append(mean_squared_error(y_train[:m], y_train_predict))\n",
        "    val_errors.append(mean_squared_error(y_val, y_val_predict))\n",
        "\n",
        "  plt.plot(np.sqrt(train_errors), 'r-+', linewidth=2, label='Training Set')\n",
        "  plt.plot(np.sqrt(val_errors), 'b-', linewidth=3, label='Validation Set')\n",
        "  plt.xlabel('Train Set Size', fontsize =15)\n",
        "  plt.ylabel('RMSE', fontsize =15)\n",
        "  plt.legend(loc='upper right', fontsize=15)\n",
        "\n",
        "plt.figure(figsize=(12,6))\n",
        "lin_reg = LinearRegression()\n",
        "plot_learning_curves(lin_reg,X,y)"
      ],
      "metadata": {
        "id": "SPAq8sm-XD10",
        "colab": {
          "base_uri": "https://localhost:8080/",
          "height": 393
        },
        "outputId": "8129c753-19fe-4db8-b22a-9403d20ac067"
      },
      "execution_count": 15,
      "outputs": [
        {
          "output_type": "display_data",
          "data": {
            "text/plain": [
              "<Figure size 864x432 with 1 Axes>"
            ],
            "image/png": "[encoded data removed]"
          },
          "metadata": {
            "needs_background": "light"
          }
        }
      ]
    },
    {
      "cell_type": "markdown",
      "source": [
        "These learning curves are typical of an underfitting model. Both curves have reached\n",
        "a plateau; they are close and fairly high"
      ],
      "metadata": {
        "id": "vmzYUdOGgMm4"
      }
    },
    {
      "cell_type": "markdown",
      "source": [
        "If your model is underfitting the training data, adding more train‐\n",
        "ing examples will not help. You need to use a more complex model\n",
        "or come up with better features."
      ],
      "metadata": {
        "id": "5grTpavUgNtt"
      }
    },
    {
      "cell_type": "code",
      "source": [
        "from sklearn.pipeline import Pipeline\n",
        "\n",
        "polynomial_regression = Pipeline((\n",
        "    (\"poly_features\", PolynomialFeatures(degree=10, include_bias=False)),\n",
        "    ('sgd_reg', LinearRegression())\n",
        "))\n",
        "plt.figure(figsize=(8,4))\n",
        "plt.axis([0,80,0,5])\n",
        "\n",
        "plot_learning_curves(polynomial_regression, X, y)"
      ],
      "metadata": {
        "id": "lE1-Zs6QgZQZ",
        "colab": {
          "base_uri": "https://localhost:8080/",
          "height": 288
        },
        "outputId": "e60c1773-2b1a-4726-b6e9-371d421fbda7"
      },
      "execution_count": 16,
      "outputs": [
        {
          "output_type": "display_data",
          "data": {
            "text/plain": [
              "<Figure size 576x288 with 1 Axes>"
            ],
            "image/png": "[encoded data removed]"
          },
          "metadata": {
            "needs_background": "light"
          }
        }
      ]
    },
    {
      "cell_type": "markdown",
      "source": [
        "These learning curves look a bit like the previous ones, but there are two very impor‐\n",
        "tant differences:\n",
        "* The error on the training data is much lower than with the Linear Regression\n",
        "model.\n",
        "* There is a gap between the curves. This means that the model performs signifi‐\n",
        "cantly better on the training data than on the validation data, which is the hall‐\n",
        "mark of an **`overfitting`** model. However, if you used a much larger training set,\n",
        "the two curves would continue to get closer."
      ],
      "metadata": {
        "id": "MeS-PgnCnetb"
      }
    },
    {
      "cell_type": "markdown",
      "source": [
        "One way to improve an overfitting model is to feed it more training\n",
        "data until the validation error reaches the training error."
      ],
      "metadata": {
        "id": "kTZeXLTEoOJg"
      }
    },
    {
      "cell_type": "markdown",
      "source": [
        "**The Bias/Variance Tradeoff**\n",
        "An important theoretical result of statistics and Machine Learning is the fact that a\n",
        "model’s generalization error can be expressed as the sum of three very different\n",
        "errors:\n",
        "* **Bias**\n",
        "\n",
        "This part of the generalization error is due to wrong assumptions, such as assum‐\n",
        "ing that the data is linear when it is actually quadratic. A high-bias model is most\n",
        "likely to underfit the training data.10\n",
        "* **Variance**\n",
        "\n",
        "This part is due to the model’s excessive sensitivity to small variations in the\n",
        "training data. A model with many degrees of freedom (such as a high-degree polynomial model) is likely to have high variance, and thus to overfit the training\n",
        "data.\n",
        "\n",
        "* **Irreducible error**\n",
        "\n",
        "This part is due to the noisiness of the data itself. The only way to reduce this\n",
        "part of the error is to clean up the data (e.g., fix the data sources, such as broken\n",
        "sensors, or detect and remove outliers).\n",
        "Increasing a model’s complexity will typically increase its variance and reduce its bias.\n",
        "\n",
        "Conversely, reducing a model’s complexity increases its bias and reduces its variance.\n",
        "This is why it is called a tradeoff."
      ],
      "metadata": {
        "id": "5spUqbNZobHT"
      }
    },
    {
      "cell_type": "markdown",
      "source": [
        "# Regularized Linear Models"
      ],
      "metadata": {
        "id": "0i6DcESC8n9X"
      }
    },
    {
      "cell_type": "markdown",
      "source": [
        "A good way to reduce overfitting is to **`regularize`** the\n",
        "model (i.e., to constrain it): the fewer degrees of freedom it has, the harder it will be for it to overfit the data.\n",
        "For a linear model, regularization is typically achieved by constraining the weights of\n",
        "the model."
      ],
      "metadata": {
        "id": "9-XwJF4ErAK0"
      }
    },
    {
      "cell_type": "markdown",
      "source": [
        "# Ridge Regression"
      ],
      "metadata": {
        "id": "eEbsOt0grfRB"
      }
    },
    {
      "cell_type": "markdown",
      "source": [
        "**`Ridge Regression`** (also called `Tikhonov regularization`) is a regularized version of Linear Regression: a regularization term equal to **$α∑^n_{i=1} θ^2_i$** is added to the cost function.\n",
        "This forces the learning algorithm to not only fit the data but also keep the model weights as small as possible."
      ],
      "metadata": {
        "id": "pW5-bSdpVCqL"
      }
    },
    {
      "cell_type": "markdown",
      "source": [
        "Note that the regularization term should only be added\n",
        "to the cost function during training. Once the model is trained, you want to evaluate\n",
        "the model’s performance using the unregularized performance measure."
      ],
      "metadata": {
        "id": "qGDRLvybViBf"
      }
    },
    {
      "cell_type": "markdown",
      "source": [
        "The hyperparameter $α$ controls how much you want to regularize the model. If $α = 0$\n",
        "then Ridge Regression is just Linear Regression. If $α$ is very large, then all weights end up very close to zero and the result is a flat line going through the data’s mean."
      ],
      "metadata": {
        "id": "8-9ZCrftVtYY"
      }
    },
    {
      "cell_type": "markdown",
      "source": [
        "$$J θ = \\texttt{MSE} (θ) + α\\frac12\\sum_{i=1}^n \\theta_i^2$$"
      ],
      "metadata": {
        "id": "qpEE333IWBv7"
      }
    },
    {
      "cell_type": "markdown",
      "source": [
        "Ridge Regression cost function"
      ],
      "metadata": {
        "id": "tqWv_cguWxy0"
      }
    },
    {
      "cell_type": "markdown",
      "source": [
        "Note that the bias term $θ_0$ is not regularized (the sum starts at $i = 1$, not $0$). If we define  $w$ as the vector of feature weights ($θ_1$ to $θ_n$), then the regularization term is\n",
        "simply equal to $½(∥ w ∥_2)^2$, where $∥ · ∥^2$ represents the $ℓ_2$ norm of the weight vector.\n",
        "\n",
        "For Gradient Descent, just add $αw$ to the MSE gradient vector"
      ],
      "metadata": {
        "id": "idGrqguJXE8s"
      }
    },
    {
      "cell_type": "markdown",
      "source": [
        "It is important to scale the data (e.g., using a StandardScaler)\n",
        "before performing Ridge Regression, as it is sensitive to the scale of\n",
        "the input features. This is true of most regularized models."
      ],
      "metadata": {
        "id": "lF3zHFuPYMKK"
      }
    },
    {
      "cell_type": "markdown",
      "source": [
        "$$ θ^{̂} = (X^T\\cdot X + αA)^{-1}\\cdot X^{T}\\cdot y$$"
      ],
      "metadata": {
        "id": "TQ-ImlQ-YlQp"
      }
    },
    {
      "cell_type": "markdown",
      "source": [
        "Ridge Regression closed-form solution"
      ],
      "metadata": {
        "id": "x8kYn5TDZvAV"
      }
    },
    {
      "cell_type": "markdown",
      "source": [
        "Here is how to perform Ridge Regression with Scikit-Learn using a closed-form solution (a variant using a matrix factorization technique by André-Louis\n",
        "Cholesky):"
      ],
      "metadata": {
        "id": "28IWaj8NbL9n"
      }
    },
    {
      "cell_type": "code",
      "source": [
        "from sklearn.linear_model import Ridge\n",
        "\n",
        "ridge_reg = Ridge(alpha=1, solver='cholesky')\n",
        "ridge_reg.fit(X,y)\n",
        "ridge_reg.predict([[1.5]])"
      ],
      "metadata": {
        "colab": {
          "base_uri": "https://localhost:8080/"
        },
        "id": "g39bbsiqZzs5",
        "outputId": "a34cf2fe-008f-43eb-f67f-e3f4638a9f23"
      },
      "execution_count": 17,
      "outputs": [
        {
          "output_type": "execute_result",
          "data": {
            "text/plain": [
              "array([[4.91824403]])"
            ]
          },
          "metadata": {},
          "execution_count": 17
        }
      ]
    },
    {
      "cell_type": "markdown",
      "source": [
        "And using Stochastic Gradient Descent"
      ],
      "metadata": {
        "id": "yVChdAhvbgQo"
      }
    },
    {
      "cell_type": "code",
      "source": [
        "from sklearn.linear_model import SGDRegressor\n",
        "sgd_reg = SGDRegressor(penalty='l2')\n",
        "sgd_reg.fit(X,y.ravel())\n",
        "sgd_reg.predict([[1.5]])"
      ],
      "metadata": {
        "colab": {
          "base_uri": "https://localhost:8080/"
        },
        "id": "VBRKIalg50-V",
        "outputId": "d1f174a8-dd73-4e05-923f-2037cb26277d"
      },
      "execution_count": 19,
      "outputs": [
        {
          "output_type": "execute_result",
          "data": {
            "text/plain": [
              "array([4.88765587])"
            ]
          },
          "metadata": {},
          "execution_count": 19
        }
      ]
    },
    {
      "cell_type": "markdown",
      "source": [
        "The penalty hyperparameter sets the type of regularization term to use."
      ],
      "metadata": {
        "id": "ecmCPHe2dSid"
      }
    },
    {
      "cell_type": "markdown",
      "source": [
        "# Lasso Regression"
      ],
      "metadata": {
        "id": "B3a4gAh38t-j"
      }
    },
    {
      "cell_type": "markdown",
      "source": [
        "Least Absolute Shrinkage and Selection Operator Regression (simply called Lasso\n",
        "Regression) is another regularized version of Linear Regression: just like Ridge\n",
        "Regression, it adds a regularization term to the cost function, but it uses the $ℓ_1$ norm\n",
        "of the weight vector instead of half the square of the $ℓ_2$ norm"
      ],
      "metadata": {
        "id": "OJvsl03th5r9"
      }
    },
    {
      "cell_type": "markdown",
      "source": [
        "$$J θ = \\texttt{MSE} (θ) + α\\frac12\\sum_{i=1}^n |\\theta_i|$$"
      ],
      "metadata": {
        "id": "cUVKpprziFl0"
      }
    },
    {
      "cell_type": "markdown",
      "source": [
        "Lasso Regression cost function"
      ],
      "metadata": {
        "id": "99BWKTjEiC9p"
      }
    },
    {
      "cell_type": "markdown",
      "source": [
        "An important characteristic of Lasso Regression is that it tends to completely eliminate the weights of the least important features"
      ],
      "metadata": {
        "id": "P8yRjC7iicpo"
      }
    },
    {
      "cell_type": "markdown",
      "source": [
        "The Lasso cost function is not differentiable at $θ_i = 0$ (for $i = 1, 2, ⋯, n)$, but Gradient\n",
        "Descent still works fine if you use a subgradient vector $g$.\n"
      ],
      "metadata": {
        "id": "cHzpW8-dkEZj"
      }
    },
    {
      "cell_type": "markdown",
      "source": [
        "$$ g(θ,J) = \\nabla_{\\theta}\\texttt{MSE}(\\theta)+\\alpha\\begin{pmatrix} \\texttt{sign}(\\theta_1) \\\\ \\vdots \\\\ \\texttt{sign}(\\theta_n) \\end{pmatrix}, \\;\\,\\,\\,\\, \\texttt{sign}(\\theta_i) = \\begin{cases} -1, & \\mbox{if } \\theta_i<0 \\\\ 0, & \\mbox{if }\\theta_i=0,  \\\\ +1, & \\mbox{if } \\theta_i>0 & \\end{cases} $$"
      ],
      "metadata": {
        "id": "KjLoy_SZk_UX"
      }
    },
    {
      "cell_type": "code",
      "source": [
        "from sklearn.linear_model import Lasso\n",
        "lasso_reg = Lasso(alpha=0.1)\n",
        "lasso_reg.fit(X,y)\n",
        "lasso_reg.predict([[1.5]])"
      ],
      "metadata": {
        "colab": {
          "base_uri": "https://localhost:8080/"
        },
        "id": "Q4I-jms9opAu",
        "outputId": "7a77789e-ee11-437d-ed27-0aeba0421de7"
      },
      "execution_count": 20,
      "outputs": [
        {
          "output_type": "execute_result",
          "data": {
            "text/plain": [
              "array([4.87125445])"
            ]
          },
          "metadata": {},
          "execution_count": 20
        }
      ]
    },
    {
      "cell_type": "code",
      "source": [],
      "metadata": {
        "id": "-0u_ma-opB0Y"
      },
      "execution_count": 21,
      "outputs": []
    },
    {
      "cell_type": "markdown",
      "source": [
        "# Elastic Net"
      ],
      "metadata": {
        "id": "ZqUuKZrj8yGY"
      }
    },
    {
      "cell_type": "markdown",
      "source": [
        "Elastic Net is a middle ground between Ridge Regression and Lasso Regression. The\n",
        "regularization term is a simple mix of both Ridge and Lasso’s regularization terms,\n",
        "and you can control the mix ratio r. When $r = 0$, Elastic Net is equivalent to Ridge\n",
        "Regression, and when $r = 1$, it is equivalent to Lasso Regression"
      ],
      "metadata": {
        "id": "WEd1Q2oEpsJU"
      }
    },
    {
      "cell_type": "markdown",
      "source": [
        "Elastic Net cost function\n",
        "$$J θ = \\texttt{MSE} (θ) + rα\\frac12\\sum_{i=1}^n |\\theta_i| + \\frac{1-r}{2}α\\frac12\\sum_{i=1}^n \\theta_i^2$$"
      ],
      "metadata": {
        "id": "tBvgJD0dq2Cx"
      }
    },
    {
      "cell_type": "markdown",
      "source": [
        "So when should you use Linear Regression, Ridge, Lasso, or Elastic Net? It is almost\n",
        "always preferable to have at least a little bit of regularization, so generally you *`should\n",
        "avoid plain Linear Regression`*. Ridge is a good default, but *`if you suspect that only a\n",
        "few features are actually useful, you should prefer Lasso or Elastic Net since they tend\n",
        "to reduce the useless features’ weights down to zero`* as we have discussed . In general,\n",
        "Elastic Net is preferred over Lasso since Lasso may behave erratically when the number of features is greater than the number of training instances or when several features are strongly correlated."
      ],
      "metadata": {
        "id": "cmDg9pWIqEz2"
      }
    },
    {
      "cell_type": "markdown",
      "source": [
        "# Early Stopping"
      ],
      "metadata": {
        "id": "HMSWHKeD821u"
      }
    },
    {
      "cell_type": "markdown",
      "source": [
        "# Logistic Regression"
      ],
      "metadata": {
        "id": "kgNclrRK86-S"
      }
    },
    {
      "cell_type": "markdown",
      "source": [
        "# Training and Cost Function"
      ],
      "metadata": {
        "id": "5de1VkrA8_63"
      }
    },
    {
      "cell_type": "markdown",
      "source": [
        "# Decision Boundaries"
      ],
      "metadata": {
        "id": "yozMfK3o9DpZ"
      }
    },
    {
      "cell_type": "markdown",
      "source": [
        "# Softmax Regression"
      ],
      "metadata": {
        "id": "WqefBWMV9HEL"
      }
    }
  ]
}