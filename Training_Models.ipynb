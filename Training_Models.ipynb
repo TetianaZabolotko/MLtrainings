{
  "nbformat": 4,
  "nbformat_minor": 0,
  "metadata": {
    "colab": {
      "provenance": [],
      "toc_visible": true,
      "authorship_tag": "ABX9TyOS9S4jLjTF+rdrW16LJtxO",
      "include_colab_link": true
    },
    "kernelspec": {
      "name": "python3",
      "display_name": "Python 3"
    },
    "language_info": {
      "name": "python"
    }
  },
  "cells": [
    {
      "cell_type": "markdown",
      "metadata": {
        "id": "view-in-github",
        "colab_type": "text"
      },
      "source": [
        "<a href=\"https://colab.research.google.com/github/TetianaZabolotko/MLtrainings/blob/main/Training_Models.ipynb\" target=\"_parent\"><img src=\"https://colab.research.google.com/assets/colab-badge.svg\" alt=\"Open In Colab\"/></a>"
      ]
    },
    {
      "cell_type": "markdown",
      "source": [
        "# Linear Regresion"
      ],
      "metadata": {
        "id": "1GLLgbXvOS0L"
      }
    },
    {
      "cell_type": "markdown",
      "source": [
        "More generally, a linear model makes a prediction by simply computing a weighted\n",
        "sum of the input features, plus a constant called the bias term (also called the intercept\n",
        "term)\n",
        "\n",
        "Linear Regression model prediction\n",
        "$$ ŷ = θ_0 + θ_1x_1 + θ_2x_2 + ... + θ_nx_n$$\n",
        "\n",
        "ŷ is the predicted value.\n",
        "\n",
        "*   ŷ is the predicted value.\n",
        "*   n is the number of features.\n",
        "*   $x_i$ is the $i^{th}$ feature value.\n",
        "*   $θ_j$ is the $j^{th}$ model parameter (including the bias term $θ_0$ and the feature weights $ (θ_1, θ_2, ⋯, θ_n)$."
      ],
      "metadata": {
        "id": "tXRvQp95COpC"
      }
    },
    {
      "cell_type": "markdown",
      "source": [
        "Linear Regression model prediction (vectorized form)\n",
        "$$y = h_θx = θ_T · x$$\n",
        "\n",
        "$h_θ$ is the hypothesis function, using the model parameters $θ$."
      ],
      "metadata": {
        "id": "SG-y2_lIEayr"
      }
    },
    {
      "cell_type": "markdown",
      "source": [
        "Well, recall that\n",
        "training a model means setting its parameters so that the model best fits the training\n",
        "set. For this purpose, we first need a measure of how well (or poorly) the model fits\n",
        "the training data. The most common performance measure\n",
        "of a regression model is the Root Mean Square Error (RMSE). \n",
        "Therefore, to train a Linear Regression model, you need to find the value of $θ$ that minimizes the RMSE. In practice, it is simpler to minimize the Mean Square Error (MSE)\n",
        "than the RMSE, and it leads to the same result (because the value that minimizes a\n",
        "function also minimizes its square root).\n",
        "\n",
        "**`MSE cost function`** for a Linear Regression model\n",
        "$$\\texttt{MSE}\\,X,h_θ = \\frac {1} {m}\\sum^m_{i=1}(θ^T \\cdot x^{(i)}-y^{(i)})^2$$"
      ],
      "metadata": {
        "id": "4w7drDtjFFHJ"
      }
    },
    {
      "cell_type": "markdown",
      "source": [
        "To find the value of $θ$ that minimizes the cost function, there is a closed-form solution\n",
        "— in other words, a mathematical equation that gives the result directly. This is called\n",
        "the Normal Equation\n",
        "Normal Equation\n",
        "$$ θ^{̂} = (X^T⋅X)^{-1}⋅X^{T}⋅y $$\n",
        "\n",
        "*   $θ^{̂}$ is the value of $\\theta$ that minimizes the cost function.\n",
        "*   $y$ is the vector of target values containing $y^{(1)}$ to $y^{(m)}$.\n"
      ],
      "metadata": {
        "id": "RdZREqMXOaXp"
      }
    },
    {
      "cell_type": "code",
      "source": [
        "import numpy as np\n",
        "\n",
        "%matplotlib inline\n",
        "import matplotlib\n",
        "import matplotlib.pyplot as plt\n",
        "\n",
        "X = 2*np.random.rand(100,1)\n",
        "#Create an array of the given shape and populate it with random samples \n",
        "#from a uniform distribution over [0, 1). \n",
        "y = 4 + 3*X + np.random.randn(100,1) # Gaussian noise\n",
        "# Return a sample (or samples) from the “standard normal” distribution.\n",
        "# For random samples from the normal distribution with mean mu and standard deviation \n",
        "#sigma, use: sigma * np.random.randn(...) + mu\n",
        "\n",
        "\n",
        "plt.figure(figsize=(8,4))\n",
        "plt.plot(X,y,'b.')\n",
        "#plt.legend('top right')\n",
        "plt.xlabel('$X_1$', fontsize =18)\n",
        "plt.ylabel('$y$', rotation=0, fontsize =18)\n",
        "plt.axis([0,2,0,15])\n",
        "plt.show\n",
        "\n",
        "\n"
      ],
      "metadata": {
        "colab": {
          "base_uri": "https://localhost:8080/",
          "height": 306
        },
        "id": "V4e2m_1PRwvA",
        "outputId": "794ee0f4-0f58-413f-b634-62686c2a70e6"
      },
      "execution_count": 2,
      "outputs": [
        {
          "output_type": "execute_result",
          "data": {
            "text/plain": [
              "<function matplotlib.pyplot.show(*args, **kw)>"
            ]
          },
          "metadata": {},
          "execution_count": 2
        },
        {
          "output_type": "display_data",
          "data": {
            "text/plain": [
              "<Figure size 576x288 with 1 Axes>"
            ],
            "image/png": "[encoded data removed]"
          },
          "metadata": {
            "needs_background": "light"
          }
        }
      ]
    },
    {
      "cell_type": "code",
      "source": [
        "X_b = np.c_[np.ones((100,1)), X]\n",
        "y.shape\n",
        "theta_best = np.linalg.inv(X_b.T.dot(X_b)).dot(X_b.T).dot(y)\n",
        "theta_best"
      ],
      "metadata": {
        "colab": {
          "base_uri": "https://localhost:8080/"
        },
        "id": "k6c1PYf0OZvg",
        "outputId": "eda161e2-9620-4b56-d3cc-8545f5f76913"
      },
      "execution_count": 3,
      "outputs": [
        {
          "output_type": "execute_result",
          "data": {
            "text/plain": [
              "array([[3.93082322],\n",
              "       [3.06738245]])"
            ]
          },
          "metadata": {},
          "execution_count": 3
        }
      ]
    },
    {
      "cell_type": "markdown",
      "source": [
        "Predictions using $ θ^̂ $ :"
      ],
      "metadata": {
        "id": "fZSMAhcugWIe"
      }
    },
    {
      "cell_type": "code",
      "source": [
        "X_new  = np.array([[0], [2]])\n",
        "X_new.shape"
      ],
      "metadata": {
        "colab": {
          "base_uri": "https://localhost:8080/"
        },
        "id": "0DH4DzgMgjHn",
        "outputId": "8d61a1f0-6da1-4761-b5ec-e72f741f1c78"
      },
      "execution_count": 4,
      "outputs": [
        {
          "output_type": "execute_result",
          "data": {
            "text/plain": [
              "(2, 1)"
            ]
          },
          "metadata": {},
          "execution_count": 4
        }
      ]
    },
    {
      "cell_type": "code",
      "source": [
        "X_new_b = np.c_[np.ones((2,1)), X_new]\n",
        "y_predict = X_new_b.dot(theta_best)\n",
        "y_predict"
      ],
      "metadata": {
        "colab": {
          "base_uri": "https://localhost:8080/"
        },
        "id": "daFypRRjhAGn",
        "outputId": "6bd9d8e1-3704-4179-b4e7-eba8d0c4159a"
      },
      "execution_count": 5,
      "outputs": [
        {
          "output_type": "execute_result",
          "data": {
            "text/plain": [
              "array([[ 3.93082322],\n",
              "       [10.06558813]])"
            ]
          },
          "metadata": {},
          "execution_count": 5
        }
      ]
    },
    {
      "cell_type": "markdown",
      "source": [
        "The actual function that we used to generate the data is $ y = 4 + 3x_0 + $ Gaussian noise.\n",
        "\n",
        "$$y = \\begin{pmatrix}\n",
        "    1 & 0\\\\\n",
        "    1 & 2 \n",
        "\\end{pmatrix}  · \\begin{pmatrix}\n",
        "    4.08\\\\\n",
        "    2.94 \n",
        "\\end{pmatrix}$$"
      ],
      "metadata": {
        "id": "ir-rvGASihVV"
      }
    },
    {
      "cell_type": "code",
      "source": [
        "plt.figure(figsize=(8,4))\n",
        "plt.plot(X_new, y_predict, \"r-\")\n",
        "plt.plot(X, y,'b.')\n",
        "plt.axis([0,2,0,15])\n",
        "plt.show()"
      ],
      "metadata": {
        "colab": {
          "base_uri": "https://localhost:8080/",
          "height": 265
        },
        "id": "Xz-vrLDmkmZT",
        "outputId": "e84f6c16-c7a3-4e68-cf2a-54b9720f2c77"
      },
      "execution_count": 6,
      "outputs": [
        {
          "output_type": "display_data",
          "data": {
            "text/plain": [
              "<Figure size 576x288 with 1 Axes>"
            ],
            "image/png": "[encoded data removed]"
          },
          "metadata": {
            "needs_background": "light"
          }
        }
      ]
    },
    {
      "cell_type": "code",
      "source": [
        "from sklearn.linear_model import LinearRegression\n",
        "lin_reg = LinearRegression()\n",
        "lin_reg.fit(X,y)\n",
        "lin_reg.intercept_, lin_reg.coef_"
      ],
      "metadata": {
        "colab": {
          "base_uri": "https://localhost:8080/"
        },
        "id": "ueHBkazx3vjj",
        "outputId": "1acdcd0b-b4d9-4cf7-eb93-12025eb78ef4"
      },
      "execution_count": 7,
      "outputs": [
        {
          "output_type": "execute_result",
          "data": {
            "text/plain": [
              "(array([3.93082322]), array([[3.06738245]]))"
            ]
          },
          "metadata": {},
          "execution_count": 7
        }
      ]
    },
    {
      "cell_type": "code",
      "source": [
        "lin_reg.predict(X_new)"
      ],
      "metadata": {
        "colab": {
          "base_uri": "https://localhost:8080/"
        },
        "id": "TgZt4K-y5HFA",
        "outputId": "8f152372-26c1-4ab8-bd29-78ef22a7f76c"
      },
      "execution_count": 8,
      "outputs": [
        {
          "output_type": "execute_result",
          "data": {
            "text/plain": [
              "array([[ 3.93082322],\n",
              "       [10.06558813]])"
            ]
          },
          "metadata": {},
          "execution_count": 8
        }
      ]
    },
    {
      "cell_type": "markdown",
      "source": [
        "# Computational Complexity"
      ],
      "metadata": {
        "id": "0tecCjQu71sU"
      }
    },
    {
      "cell_type": "markdown",
      "source": [
        "The Normal Equation computes the inverse of $X^T · X$, which is an $n × n$ matrix\n",
        "(where $n$ is the number of features). The computational complexity of inverting such a\n",
        "matrix is typically about $O(n^{2.4})$ to $O(n^3)$ (depending on the implementation).\n",
        "\n",
        "On the positive side, this equation is linear with regards to the number of instances in\n",
        "the training set (it is O(m)), so it handles large training sets efficiently, provided they\n",
        "can fit in memory."
      ],
      "metadata": {
        "id": "i4j0_aD8QbGM"
      }
    },
    {
      "cell_type": "markdown",
      "source": [
        "# Gradient Descent"
      ],
      "metadata": {
        "id": "gPVSKWzf77Ke"
      }
    },
    {
      "cell_type": "markdown",
      "source": [
        "Gradient Descent is a very generic optimization algorithm capable of finding optimal\n",
        "solutions to a wide range of problems. The general idea of Gradient Descent is to\n",
        "tweak parameters iteratively in order to minimize a cost function."
      ],
      "metadata": {
        "id": "nsMrSxjdVlvK"
      }
    },
    {
      "cell_type": "markdown",
      "source": [
        "# Batch Gradient Descent"
      ],
      "metadata": {
        "id": "DYLWQn1x8Haw"
      }
    },
    {
      "cell_type": "markdown",
      "source": [
        "# Stochastic Gradient Descent"
      ],
      "metadata": {
        "id": "QqcP7VWc8OAd"
      }
    },
    {
      "cell_type": "markdown",
      "source": [
        "# Mini-batch Gradient Descent"
      ],
      "metadata": {
        "id": "D15prgNw8TdB"
      }
    },
    {
      "cell_type": "markdown",
      "source": [
        "# Polynomial Regression"
      ],
      "metadata": {
        "id": "luKKw6sM8a1v"
      }
    },
    {
      "cell_type": "markdown",
      "source": [
        "if your data is actually more complex than a simple straight line? Surprisingly,\n",
        "you can actually use a linear model to fit nonlinear data.\n",
        "**`Polynomial Regression`** is technique that add powers of each feature as new features, then train a linear model on this extended\n",
        "set of features."
      ],
      "metadata": {
        "id": "2At_NXrgDByc"
      }
    },
    {
      "cell_type": "code",
      "source": [
        "m=100\n",
        "X = 6 * np.random.rand(m, 1) - 3\n",
        "y = 0.5 * X**2 + X + 2 + np.random.randn(m, 1)\n",
        "y.shape"
      ],
      "metadata": {
        "colab": {
          "base_uri": "https://localhost:8080/"
        },
        "id": "6bY6t4dQ___0",
        "outputId": "77140dcb-f627-4e87-c2a3-e55f845e6d2f"
      },
      "execution_count": 15,
      "outputs": [
        {
          "output_type": "execute_result",
          "data": {
            "text/plain": [
              "(100, 1)"
            ]
          },
          "metadata": {},
          "execution_count": 15
        }
      ]
    },
    {
      "cell_type": "code",
      "source": [
        "plt.figure(figsize=(8,4))\n",
        "plt.plot(X,y,'b.')\n",
        "plt.xlabel('x', fontsize =18)\n",
        "plt.ylabel('y', rotation =False, fontsize =18)\n",
        "plt.axis([-3,3,0,10])\n",
        "plt.show\n"
      ],
      "metadata": {
        "colab": {
          "base_uri": "https://localhost:8080/",
          "height": 308
        },
        "id": "U2MZ043eBLd-",
        "outputId": "cb0edb18-7d1e-464b-cf22-40b17cda0f58"
      },
      "execution_count": 22,
      "outputs": [
        {
          "output_type": "execute_result",
          "data": {
            "text/plain": [
              "<function matplotlib.pyplot.show(*args, **kw)>"
            ]
          },
          "metadata": {},
          "execution_count": 22
        },
        {
          "output_type": "display_data",
          "data": {
            "text/plain": [
              "<Figure size 576x288 with 1 Axes>"
            ],
            "image/png": "[encoded data removed]"
          },
          "metadata": {
            "needs_background": "light"
          }
        }
      ]
    },
    {
      "cell_type": "markdown",
      "source": [
        "Generated nonlinear and noisy dataset"
      ],
      "metadata": {
        "id": "aqG5v-neDmX6"
      }
    },
    {
      "cell_type": "markdown",
      "source": [
        "Clearly, a straight line will never fit this data properly. So let’s use Scikit-Learn’s **`PolynomialFeatures class`** to transform our training data, adding the square (2nd-degree\n",
        "polynomial) of each feature in the training set as new features (in this case there is\n",
        "just one feature):"
      ],
      "metadata": {
        "id": "LEC7lmX-ENKi"
      }
    },
    {
      "cell_type": "code",
      "source": [
        "from sklearn.preprocessing import PolynomialFeatures\n",
        "poly_features = PolynomialFeatures(degree=2, include_bias=False)\n",
        "X_poly = poly_features.fit_transform(X)\n",
        "X[0]"
      ],
      "metadata": {
        "colab": {
          "base_uri": "https://localhost:8080/"
        },
        "id": "FXcmoAPODnJv",
        "outputId": "efcb1625-3e43-4401-862f-3f43fd2db97a"
      },
      "execution_count": 25,
      "outputs": [
        {
          "output_type": "execute_result",
          "data": {
            "text/plain": [
              "array([-0.92904322])"
            ]
          },
          "metadata": {},
          "execution_count": 25
        }
      ]
    },
    {
      "cell_type": "code",
      "source": [
        "X_poly[0]"
      ],
      "metadata": {
        "colab": {
          "base_uri": "https://localhost:8080/"
        },
        "id": "fKIZa7jeFdN_",
        "outputId": "7c288e60-0be4-411b-b7b3-626a97ed53fc"
      },
      "execution_count": 26,
      "outputs": [
        {
          "output_type": "execute_result",
          "data": {
            "text/plain": [
              "array([-0.92904322,  0.86312131])"
            ]
          },
          "metadata": {},
          "execution_count": 26
        }
      ]
    },
    {
      "cell_type": "markdown",
      "source": [
        "X_poly now contains the original feature of X plus the square of this feature."
      ],
      "metadata": {
        "id": "qnOVZAwNFkl6"
      }
    },
    {
      "cell_type": "code",
      "source": [
        "lin_reg = LinearRegression()\n",
        "lin_reg.fit(X_poly,y)\n",
        "lin_reg.intercept_,lin_reg.coef_"
      ],
      "metadata": {
        "colab": {
          "base_uri": "https://localhost:8080/"
        },
        "id": "uNsrdme4GK-5",
        "outputId": "f18d7e85-b3d6-44df-b919-44d128951109"
      },
      "execution_count": 27,
      "outputs": [
        {
          "output_type": "execute_result",
          "data": {
            "text/plain": [
              "(array([1.77636098]), array([[0.94552077, 0.57733984]]))"
            ]
          },
          "metadata": {},
          "execution_count": 27
        }
      ]
    },
    {
      "cell_type": "code",
      "source": [
        "\n",
        "X_new =np.linspace(-3,3,100).reshape(100,1)\n",
        "X_new_poly = poly_features.transform(X_new)\n",
        "y_new = lin_reg.predict(X_new_poly)\n",
        "plt.figure(figsize=(8,4))\n",
        "plt.plot(X,y,'b.')\n",
        "plt.plot(X_new,y_new,'r-', linewidth=3, label='Prediction')\n",
        "plt.xlabel('x', fontsize =18)\n",
        "plt.ylabel('y', rotation =False, fontsize =18)\n",
        "plt.legend(loc='upper left', fontsize=14)\n",
        "plt.axis([-3,3,0,10])\n",
        "plt.show"
      ],
      "metadata": {
        "colab": {
          "base_uri": "https://localhost:8080/",
          "height": 308
        },
        "id": "pWMj2WbLLH0l",
        "outputId": "f2a38f95-f233-4fe7-9fc9-b22ced59d1ab"
      },
      "execution_count": 33,
      "outputs": [
        {
          "output_type": "execute_result",
          "data": {
            "text/plain": [
              "<function matplotlib.pyplot.show(*args, **kw)>"
            ]
          },
          "metadata": {},
          "execution_count": 33
        },
        {
          "output_type": "display_data",
          "data": {
            "text/plain": [
              "<Figure size 576x288 with 1 Axes>"
            ],
            "image/png": "[encoded data removed]"
          },
          "metadata": {
            "needs_background": "light"
          }
        }
      ]
    },
    {
      "cell_type": "markdown",
      "source": [
        "Note that when there are multiple features, Polynomial Regression is capable of find‐\n",
        "ing relationships between features (which is something a plain Linear Regression\n",
        "model cannot do). This is made possible by the fact that PolynomialFeatures also\n",
        "adds all combinations of features up to the given degree. For example, if there were two features a and b, **`PolynomialFeatures`** with degree=3 would not only add the\n",
        "features $a_2, a_3, b_2$, and $b_3$, but also the combinations $ab, a_2b$, and $ab_2$."
      ],
      "metadata": {
        "id": "GCCCZZuZQ3jX"
      }
    },
    {
      "cell_type": "markdown",
      "source": [
        "PolynomialFeatures(degree=d) transforms an array containing n features into an array containing $\\frac{(n+d)!}{d!n!}$"
      ],
      "metadata": {
        "id": "M8FI8riyRN1B"
      }
    },
    {
      "cell_type": "markdown",
      "source": [
        "# Learning Curves"
      ],
      "metadata": {
        "id": "x0RnQMvm8fz8"
      }
    },
    {
      "cell_type": "markdown",
      "source": [
        "you used cross-validation to get an estimate of a model’s generalization\n",
        "performance. If a model performs well on the training data but generalizes poorly\n",
        "according to the cross-validation metrics, then your model is **`overfitting`**. If it per‐\n",
        "forms poorly on both, then it is **`underfitting`**. This is one way to tell when a model is\n",
        "too simple or too complex.\n",
        "\n",
        "Another way is to look at the **`learning curves`**: these are plots of the model’s perfor‐\n",
        "mance on the training set and the validation set as a function of the training set size.\n",
        "To generate the plots, simply train the model several times on different sized subsets\n",
        "of the training set. The following code defines a function that plots the learning\n",
        "curves of a model given some training data:"
      ],
      "metadata": {
        "id": "5aGBUQysTdP8"
      }
    },
    {
      "cell_type": "code",
      "source": [
        "from sklearn.metrics import mean_squared_error\n",
        "from sklearn.model_selection import train_test_split\n",
        "\n",
        "def plot_learning_curves(model, X,y):\n",
        "  X_train, X_val, y_train, y_val = train_test_split(X,y, test_size=0.2)\n",
        "  train_errors, val_errors = [], []\n",
        "  for m in range(1, len(X_train)):\n",
        "    model.fit(X_train[:m], y_train[:m])\n",
        "    y_train_predict = model.predict(X_train[:m])\n",
        "    y_val_predict = model.predict(X_val)\n",
        "    train_errors.append(mean_squared_error(y_train[:m], y_train_predict))\n",
        "    val_errors.append(mean_squared_error(y_val, y_val_predict))\n",
        "\n",
        "  plt.plot(np.sqrt(train_errors), 'r-+', linewidth=2, label='Training Set')\n",
        "  plt.plot(np.sqrt(val_errors), 'b-', linewidth=3, label='Validation Set')\n",
        "  plt.xlabel('Train Set Size', fontsize =15)\n",
        "  plt.ylabel('RMSE', fontsize =15)\n",
        "  plt.legend(loc='upper right', fontsize=15)\n",
        "\n",
        "plt.figure(figsize=(12,6))\n",
        "lin_reg = LinearRegression()\n",
        "plot_learning_curves(lin_reg,X,y)"
      ],
      "metadata": {
        "colab": {
          "base_uri": "https://localhost:8080/",
          "height": 393
        },
        "id": "SPAq8sm-XD10",
        "outputId": "491055c2-45e4-4c7c-e1bb-19b48ddf210a"
      },
      "execution_count": 45,
      "outputs": [
        {
          "output_type": "display_data",
          "data": {
            "text/plain": [
              "<Figure size 864x432 with 1 Axes>"
            ],
            "image/png": "[encoded data removed]"
          },
          "metadata": {
            "needs_background": "light"
          }
        }
      ]
    },
    {
      "cell_type": "markdown",
      "source": [
        "# Regularized Linear Models"
      ],
      "metadata": {
        "id": "0i6DcESC8n9X"
      }
    },
    {
      "cell_type": "markdown",
      "source": [
        "# Lasso Regression"
      ],
      "metadata": {
        "id": "B3a4gAh38t-j"
      }
    },
    {
      "cell_type": "markdown",
      "source": [
        "# Elastic Net"
      ],
      "metadata": {
        "id": "ZqUuKZrj8yGY"
      }
    },
    {
      "cell_type": "markdown",
      "source": [
        "# Early Stopping"
      ],
      "metadata": {
        "id": "HMSWHKeD821u"
      }
    },
    {
      "cell_type": "markdown",
      "source": [
        "# Logistic Regression"
      ],
      "metadata": {
        "id": "kgNclrRK86-S"
      }
    },
    {
      "cell_type": "markdown",
      "source": [
        "# Training and Cost Function"
      ],
      "metadata": {
        "id": "5de1VkrA8_63"
      }
    },
    {
      "cell_type": "markdown",
      "source": [
        "# Decision Boundaries"
      ],
      "metadata": {
        "id": "yozMfK3o9DpZ"
      }
    },
    {
      "cell_type": "markdown",
      "source": [
        "# Softmax Regression"
      ],
      "metadata": {
        "id": "WqefBWMV9HEL"
      }
    }
  ]
}