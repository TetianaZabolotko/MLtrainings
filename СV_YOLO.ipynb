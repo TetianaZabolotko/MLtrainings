{
  "nbformat": 4,
  "nbformat_minor": 0,
  "metadata": {
    "colab": {
      "provenance": [],
      "authorship_tag": "ABX9TyMYF78egBudRE7XSi2k8C8j",
      "include_colab_link": true
    },
    "kernelspec": {
      "name": "python3",
      "display_name": "Python 3"
    },
    "language_info": {
      "name": "python"
    }
  },
  "cells": [
    {
      "cell_type": "markdown",
      "metadata": {
        "id": "view-in-github",
        "colab_type": "text"
      },
      "source": [
        "<a href=\"https://colab.research.google.com/github/TetianaZabolotko/MLtrainings/blob/main/%D0%A1V_YOLO.ipynb\" target=\"_parent\"><img src=\"https://colab.research.google.com/assets/colab-badge.svg\" alt=\"Open In Colab\"/></a>"
      ]
    },
    {
      "cell_type": "code",
      "execution_count": null,
      "metadata": {
        "id": "V_35yjNzjk3q"
      },
      "outputs": [],
      "source": []
    },
    {
      "cell_type": "code",
      "source": [
        "from ultralitics import YOLO\n",
        "import cv2"
      ],
      "metadata": {
        "id": "hCehw74Z312i"
      },
      "execution_count": null,
      "outputs": []
    },
    {
      "cell_type": "code",
      "source": [
        "model_path = ''\n",
        "image_path = ''\n",
        "\n",
        "img = cv2.imread(image_path)\n",
        "\n",
        "H, W, _ = img.shape\n",
        "\n",
        "model = YOLO(model_path)\n",
        "results = model(img)\n",
        "\n",
        "for result in results:\n",
        "  for j, mask in enumerate(result.masks.data):\n",
        "    mask = mask.numpy()*255\n",
        "    mask = cv2.resize(mask,(W, H))\n",
        "    cv2.imwrite('./output.png', mask)\n"
      ],
      "metadata": {
        "id": "D8ywBh0a4Bq4"
      },
      "execution_count": null,
      "outputs": []
    }
  ]
}