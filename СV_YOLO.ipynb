{
  "nbformat": 4,
  "nbformat_minor": 0,
  "metadata": {
    "colab": {
      "provenance": [],
      "authorship_tag": "ABX9TyPfcNWgElCHYFWZcjU0+pLH",
      "include_colab_link": true
    },
    "kernelspec": {
      "name": "python3",
      "display_name": "Python 3"
    },
    "language_info": {
      "name": "python"
    }
  },
  "cells": [
    {
      "cell_type": "markdown",
      "metadata": {
        "id": "view-in-github",
        "colab_type": "text"
      },
      "source": [
        "<a href=\"https://colab.research.google.com/github/TetianaZabolotko/MLtrainings/blob/main/%D0%A1V_YOLO.ipynb\" target=\"_parent\"><img src=\"https://colab.research.google.com/assets/colab-badge.svg\" alt=\"Open In Colab\"/></a>"
      ]
    },
    {
      "cell_type": "code",
      "execution_count": null,
      "metadata": {
        "id": "V_35yjNzjk3q"
      },
      "outputs": [],
      "source": []
    },
    {
      "cell_type": "code",
      "source": [
        "from ultralitics import YOLO\n",
        "import cv2"
      ],
      "metadata": {
        "id": "hCehw74Z312i"
      },
      "execution_count": null,
      "outputs": []
    },
    {
      "cell_type": "code",
      "source": [
        "model_path = ''\n",
        "image_path = ''\n",
        "\n",
        "img = cv2.imread(image_path)\n",
        "\n",
        "H, W, _ = img.shape\n",
        "\n",
        "model = YOLO(model_path)\n",
        "results = model(img)\n",
        "\n",
        "for result in results:\n",
        "  for j, mask in enumerate(result.masks.data):\n",
        "    mask = mask.numpy()*255\n",
        "    mask = cv2.resize(mask,(W, H))\n",
        "    cv2.imwrite('./output.png', mask)\n"
      ],
      "metadata": {
        "id": "D8ywBh0a4Bq4"
      },
      "execution_count": null,
      "outputs": []
    },
    {
      "cell_type": "code",
      "source": [
        "import os\n",
        "import cv2\n",
        "\n",
        "img = cv2.imread(os.path.join('.','dogs.jpg'))\n",
        "\n",
        "img_resized = cv2.resize(img,(640,200))\n",
        "print(img.shape)\n",
        "print(img.img_resized)\n",
        "\n",
        "cv2.imshow('img', img)\n",
        "cv2.imshow('img2', img_resized)\n",
        "cv2.waitKey(0)\n",
        "\n"
      ],
      "metadata": {
        "id": "CrbTFnJdXBZp"
      },
      "execution_count": null,
      "outputs": []
    },
    {
      "cell_type": "code",
      "source": [
        "cropped_img = img[320:450, 420:840]"
      ],
      "metadata": {
        "id": "_lTJJC1fYhUT"
      },
      "execution_count": null,
      "outputs": []
    },
    {
      "cell_type": "code",
      "source": [
        "img_edg = cv2.Canny(img, 100,200)\n",
        "\n",
        "img_edge_d = cv2.dilate(img_edg, np.ones((3,3), dtype=np.int8))\n",
        "\n",
        "img_edge_e = cv2.dilate(img_edg_d, np.ones((3,3), dtype=np.int8))"
      ],
      "metadata": {
        "id": "EmjCc4iIY709"
      },
      "execution_count": null,
      "outputs": []
    },
    {
      "cell_type": "code",
      "source": [
        "img_gray = cv2.cvtColor(img, cv2.COLOR_BGR2GRAY)\n",
        "ret, thesh = cv2.threshold(img_gray, 127, 255, cv2.THRESH_BINARY_INV)\n",
        "\n",
        "countour, hierarchy = cv2.findContours(thresh, APPROX_SIMPLE)\n",
        "\n",
        "for cnt in contours:\n",
        "  if cv2.contourArea(cnt):\n",
        "    x1,y1,w,h = cv2.boundingRect(cnt)\n",
        "    cv2.rectagle(img,(x1,y1),(x1+w, y1+h),(0,255,0),2)"
      ],
      "metadata": {
        "id": "5uasLfa_ZwUN"
      },
      "execution_count": null,
      "outputs": []
    }
  ]
}