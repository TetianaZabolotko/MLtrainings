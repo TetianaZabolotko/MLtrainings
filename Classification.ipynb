{
  "nbformat": 4,
  "nbformat_minor": 0,
  "metadata": {
    "colab": {
      "provenance": [],
      "toc_visible": true,
      "authorship_tag": "ABX9TyM4BfQb0zy4u/y5MGMOT5N0",
      "include_colab_link": true
    },
    "kernelspec": {
      "name": "python3",
      "display_name": "Python 3"
    },
    "language_info": {
      "name": "python"
    }
  },
  "cells": [
    {
      "cell_type": "markdown",
      "metadata": {
        "id": "view-in-github",
        "colab_type": "text"
      },
      "source": [
        "<a href=\"https://colab.research.google.com/github/TetianaZabolotko/MLtrainings/blob/main/Classification.ipynb\" target=\"_parent\"><img src=\"https://colab.research.google.com/assets/colab-badge.svg\" alt=\"Open In Colab\"/></a>"
      ]
    },
    {
      "cell_type": "markdown",
      "source": [
        "# MNIST"
      ],
      "metadata": {
        "id": "x63QmO7zPPXH"
      }
    },
    {
      "cell_type": "code",
      "source": [
        "import numpy as np\n",
        "import os"
      ],
      "metadata": {
        "id": "5N5KueGzlU2-"
      },
      "execution_count": 43,
      "outputs": []
    },
    {
      "cell_type": "code",
      "source": [
        "def sort_by_target(mnist):\n",
        "    reorder_train = np.array(sorted([(target, i) for i, target in enumerate(mnist.target[:60000])]))[:, 1]\n",
        "    reorder_test = np.array(sorted([(target, i) for i, target in enumerate(mnist.target[60000:])]))[:, 1]\n",
        "    mnist.data[:60000] = mnist.data[reorder_train]\n",
        "    mnist.target[:60000] = mnist.target[reorder_train]\n",
        "    mnist.data[60000:] = mnist.data[reorder_test + 60000]\n",
        "    mnist.target[60000:] = mnist.target[reorder_test + 60000]"
      ],
      "metadata": {
        "id": "TfGeyggevT8e"
      },
      "execution_count": 44,
      "outputs": []
    },
    {
      "cell_type": "code",
      "source": [
        "try:\n",
        "    from sklearn.datasets import fetch_openml\n",
        "    mnist = fetch_openml('mnist_784', version=1, cache=True, as_frame=False)\n",
        "    mnist.target = mnist.target.astype(np.int8) # fetch_openml() returns targets as strings\n",
        "    sort_by_target(mnist) # fetch_openml() returns an unsorted dataset\n",
        "except ImportError:\n",
        "    from sklearn.datasets import fetch_mldata\n",
        "    mnist = fetch_mldata('MNIST original')\n",
        "mnist[\"data\"], mnist[\"target\"]"
      ],
      "metadata": {
        "colab": {
          "base_uri": "https://localhost:8080/"
        },
        "id": "P0eye-FevXvw",
        "outputId": "62a4b084-d276-46e5-fdcd-a668d465056b"
      },
      "execution_count": 45,
      "outputs": [
        {
          "output_type": "execute_result",
          "data": {
            "text/plain": [
              "(array([[0., 0., 0., ..., 0., 0., 0.],\n",
              "        [0., 0., 0., ..., 0., 0., 0.],\n",
              "        [0., 0., 0., ..., 0., 0., 0.],\n",
              "        ...,\n",
              "        [0., 0., 0., ..., 0., 0., 0.],\n",
              "        [0., 0., 0., ..., 0., 0., 0.],\n",
              "        [0., 0., 0., ..., 0., 0., 0.]]),\n",
              " array([0, 0, 0, ..., 9, 9, 9], dtype=int8))"
            ]
          },
          "metadata": {},
          "execution_count": 45
        }
      ]
    },
    {
      "cell_type": "markdown",
      "source": [
        "\n",
        "\n",
        "\n",
        "Scikit-Learn provides many helper functions to download popular datasets. MNIST is one of them. The following code fetches the MNIST dataset\n",
        "\n",
        "\n"
      ],
      "metadata": {
        "id": "RrGSweiEQD_O"
      }
    },
    {
      "cell_type": "code",
      "execution_count": 46,
      "metadata": {
        "id": "aWYNj4K_GKT2",
        "colab": {
          "base_uri": "https://localhost:8080/"
        },
        "outputId": "a8f0632f-d499-4941-9219-97f5872dad82"
      },
      "outputs": [
        {
          "output_type": "execute_result",
          "data": {
            "text/plain": [
              "(array([[0., 0., 0., ..., 0., 0., 0.],\n",
              "        [0., 0., 0., ..., 0., 0., 0.],\n",
              "        [0., 0., 0., ..., 0., 0., 0.],\n",
              "        ...,\n",
              "        [0., 0., 0., ..., 0., 0., 0.],\n",
              "        [0., 0., 0., ..., 0., 0., 0.],\n",
              "        [0., 0., 0., ..., 0., 0., 0.]]),\n",
              " array([0, 0, 0, ..., 9, 9, 9], dtype=int8))"
            ]
          },
          "metadata": {},
          "execution_count": 46
        }
      ],
      "source": [
        "# from sklearn.datasets import fetch_openml\n",
        "# mnist = fetch_openml('mnist_784', version=1, cache=True)\n",
        "# mnist = fetch_openml(\"mnist_784\")\n",
        "\n",
        "X, y = mnist['data'],mnist['target']\n",
        "X,y"
      ]
    },
    {
      "cell_type": "markdown",
      "source": [
        "\n",
        "*   A DESCR key describing the dataset\n",
        "\n",
        "*    A data key containing an array with one row per instance and one column per\n",
        "feature\n",
        "\n",
        "* A target key containing an array with the labels"
      ],
      "metadata": {
        "id": "oN_FlmciU_0c"
      }
    },
    {
      "cell_type": "code",
      "source": [
        "print(type(X))"
      ],
      "metadata": {
        "id": "lbvpIHp6AdIS",
        "colab": {
          "base_uri": "https://localhost:8080/"
        },
        "outputId": "0bac8321-d03e-464e-fdeb-c24c8bed068c"
      },
      "execution_count": 47,
      "outputs": [
        {
          "output_type": "stream",
          "name": "stdout",
          "text": [
            "<class 'numpy.ndarray'>\n"
          ]
        }
      ]
    },
    {
      "cell_type": "code",
      "source": [
        "print(type(y))"
      ],
      "metadata": {
        "colab": {
          "base_uri": "https://localhost:8080/"
        },
        "id": "zmrk8Z-M7Ohh",
        "outputId": "2945218b-e5eb-4cae-e790-404c995d997c"
      },
      "execution_count": 48,
      "outputs": [
        {
          "output_type": "stream",
          "name": "stdout",
          "text": [
            "<class 'numpy.ndarray'>\n"
          ]
        }
      ]
    },
    {
      "cell_type": "markdown",
      "source": [],
      "metadata": {
        "id": "jMLiF_6c7NG4"
      }
    },
    {
      "cell_type": "code",
      "source": [
        "X.shape"
      ],
      "metadata": {
        "colab": {
          "base_uri": "https://localhost:8080/"
        },
        "id": "XYQMS8O1VV9P",
        "outputId": "88ea8113-96c7-4a3b-eb14-365a2a3fdd42"
      },
      "execution_count": 49,
      "outputs": [
        {
          "output_type": "execute_result",
          "data": {
            "text/plain": [
              "(70000, 784)"
            ]
          },
          "metadata": {},
          "execution_count": 49
        }
      ]
    },
    {
      "cell_type": "markdown",
      "source": [
        "There are 70,000 images, and each image has 784 features. This is because each image\n",
        "is 28×28 pixels, and each feature simply represents one pixel’s intensity, from 0\n",
        "(white) to 255 (black)."
      ],
      "metadata": {
        "id": "o2LKNckUVk_H"
      }
    },
    {
      "cell_type": "code",
      "source": [
        "# X['pixel1']"
      ],
      "metadata": {
        "id": "FID2HZclAfkn"
      },
      "execution_count": 50,
      "outputs": []
    },
    {
      "cell_type": "code",
      "source": [
        "# X['pixel1'].values"
      ],
      "metadata": {
        "id": "fQWaqU3ZnlP3"
      },
      "execution_count": 51,
      "outputs": []
    },
    {
      "cell_type": "code",
      "source": [
        "# X['pixel1'].values.shape"
      ],
      "metadata": {
        "id": "fiiaOfbBoM-N"
      },
      "execution_count": 52,
      "outputs": []
    },
    {
      "cell_type": "code",
      "source": [
        "# X[['pixel1']]"
      ],
      "metadata": {
        "id": "elnOrpBQI3on"
      },
      "execution_count": 53,
      "outputs": []
    },
    {
      "cell_type": "code",
      "source": [
        "# X[['pixel1']].values"
      ],
      "metadata": {
        "id": "x_6f3U5CoA4w"
      },
      "execution_count": 54,
      "outputs": []
    },
    {
      "cell_type": "code",
      "source": [
        "# X[['pixel1']].values.shape"
      ],
      "metadata": {
        "id": "_84badHYoeam"
      },
      "execution_count": 55,
      "outputs": []
    },
    {
      "cell_type": "code",
      "source": [
        "# X.iloc[5].values.shape"
      ],
      "metadata": {
        "id": "xDRN1A94gkih"
      },
      "execution_count": 56,
      "outputs": []
    },
    {
      "cell_type": "code",
      "source": [
        "# X.iloc[[5]].values.shape"
      ],
      "metadata": {
        "id": "XD26e_RDi96s"
      },
      "execution_count": 57,
      "outputs": []
    },
    {
      "cell_type": "code",
      "source": [
        "# X.iloc[[5]].values[:,3]"
      ],
      "metadata": {
        "id": "y18gco5-jE7X"
      },
      "execution_count": 58,
      "outputs": []
    },
    {
      "cell_type": "markdown",
      "source": [
        "Let’s take a peek at one digit from the dataset"
      ],
      "metadata": {
        "id": "vjk1uz4Pbqv1"
      }
    },
    {
      "cell_type": "code",
      "source": [
        "%matplotlib inline\n",
        "import matplotlib\n",
        "import matplotlib.pyplot as plt\n",
        "some_digit = X[36000]\n",
        "\n",
        "some_digit_image = some_digit.reshape(28, 28)\n",
        "plt.imshow(some_digit_image, cmap = matplotlib.cm.binary,\n",
        "interpolation=\"nearest\")\n",
        "plt.axis(\"off\")\n",
        "plt.show()"
      ],
      "metadata": {
        "id": "aLCOGv7iIozE",
        "colab": {
          "base_uri": "https://localhost:8080/",
          "height": 248
        },
        "outputId": "c4ed41dc-6bda-4983-f22f-8fa69175e06d"
      },
      "execution_count": 59,
      "outputs": [
        {
          "output_type": "display_data",
          "data": {
            "text/plain": [
              "<Figure size 432x288 with 1 Axes>"
            ],
            "image/png": "[encoded data removed]"
          },
          "metadata": {
            "needs_background": "light"
          }
        }
      ]
    },
    {
      "cell_type": "code",
      "source": [
        "y[36000]"
      ],
      "metadata": {
        "id": "5oX9jmqAAhaq",
        "colab": {
          "base_uri": "https://localhost:8080/"
        },
        "outputId": "60f6d8bd-93cf-45d5-ffb5-6b94989769fe"
      },
      "execution_count": 60,
      "outputs": [
        {
          "output_type": "execute_result",
          "data": {
            "text/plain": [
              "5"
            ]
          },
          "metadata": {},
          "execution_count": 60
        }
      ]
    },
    {
      "cell_type": "markdown",
      "source": [
        "The MNIST dataset is actually already split into a training set (the first 60,000\n",
        "images) and a test set (the last 10,000 images):"
      ],
      "metadata": {
        "id": "JltddsVScWhd"
      }
    },
    {
      "cell_type": "code",
      "source": [
        "X_train, X_test, y_train, y_test = X[:60000], X[60000:], y[:60000], y[60000:]\n",
        "y_train "
      ],
      "metadata": {
        "id": "-5z3N9l6A0aM",
        "colab": {
          "base_uri": "https://localhost:8080/"
        },
        "outputId": "c9ec7c2e-b0fe-4d22-a990-648210cd9670"
      },
      "execution_count": 61,
      "outputs": [
        {
          "output_type": "execute_result",
          "data": {
            "text/plain": [
              "array([0, 0, 0, ..., 9, 9, 9], dtype=int8)"
            ]
          },
          "metadata": {},
          "execution_count": 61
        }
      ]
    },
    {
      "cell_type": "markdown",
      "source": [
        "Let’s also shuffle the training set; this will guarantee that all cross-validation folds will\n",
        "be similar (you don’t want one fold to be missing some digits)"
      ],
      "metadata": {
        "id": "1q1w9rxfcjyl"
      }
    },
    {
      "cell_type": "code",
      "source": [
        "import numpy as np\n",
        "shuffle_index = np.random.permutation(60000)\n",
        "X_train, y_train = X_train[shuffle_index], y_train[shuffle_index]\n",
        "y_train"
      ],
      "metadata": {
        "id": "iqODluSMBm-k",
        "colab": {
          "base_uri": "https://localhost:8080/"
        },
        "outputId": "42ce2fa1-0ffd-4d85-b460-78d5ec62a918"
      },
      "execution_count": 62,
      "outputs": [
        {
          "output_type": "execute_result",
          "data": {
            "text/plain": [
              "array([2, 6, 1, ..., 2, 7, 2], dtype=int8)"
            ]
          },
          "metadata": {},
          "execution_count": 62
        }
      ]
    },
    {
      "cell_type": "code",
      "source": [
        "shuffle_index"
      ],
      "metadata": {
        "id": "r_R7XHQPWMkW",
        "colab": {
          "base_uri": "https://localhost:8080/"
        },
        "outputId": "663ec0df-1ead-4987-a97b-210747b2f836"
      },
      "execution_count": 63,
      "outputs": [
        {
          "output_type": "execute_result",
          "data": {
            "text/plain": [
              "array([13779, 37474,  6779, ..., 12756, 42871, 14446])"
            ]
          },
          "metadata": {},
          "execution_count": 63
        }
      ]
    },
    {
      "cell_type": "markdown",
      "source": [
        "# Training a Binary Classifier"
      ],
      "metadata": {
        "id": "hu7gWTwNmTq7"
      }
    },
    {
      "cell_type": "markdown",
      "source": [
        "Let’s simplify the problem for now and only try to identify one digit—for example,\n",
        "the number 5. This “5-detector” will be an example of a binary classifier, capable of\n",
        "distinguishing between just two classes, 5 and not-5."
      ],
      "metadata": {
        "id": "xKJIROaLnlJO"
      }
    },
    {
      "cell_type": "code",
      "source": [
        "# y_train = y_train.astype(np.int8)\n",
        "# y_test = y_test.astype(np.int8)\n",
        "y_train_5 = (y_train == 5) # True for all 9s, False for all other digits\n",
        "y_test_5 = (y_test == 5)"
      ],
      "metadata": {
        "id": "RZA6zZssBm5I"
      },
      "execution_count": 64,
      "outputs": []
    },
    {
      "cell_type": "markdown",
      "source": [
        "A good place to start is with a **Stochastic\n",
        "Gradient Descent (SGD)** classifier, using Scikit-Learn’s **SGDClassifier class**. This classifier has the advantage of being capable of handling very large datasets efficiently."
      ],
      "metadata": {
        "id": "1zPKr-m0pHJM"
      }
    },
    {
      "cell_type": "markdown",
      "source": [
        "The SGDClassifier relies on randomness during training (hence\n",
        "the name “stochastic”). If you want reproducible results, you\n",
        "should set the random_state parameter."
      ],
      "metadata": {
        "id": "DIGax8jhq1O0"
      }
    },
    {
      "cell_type": "code",
      "source": [
        "np.unique(y_train_5)"
      ],
      "metadata": {
        "id": "sPVgQaquyeO_",
        "colab": {
          "base_uri": "https://localhost:8080/"
        },
        "outputId": "126d8728-94a7-4bc4-8b6d-259f0be5925b"
      },
      "execution_count": 65,
      "outputs": [
        {
          "output_type": "execute_result",
          "data": {
            "text/plain": [
              "array([False,  True])"
            ]
          },
          "metadata": {},
          "execution_count": 65
        }
      ]
    },
    {
      "cell_type": "code",
      "source": [
        "X_train.dtype"
      ],
      "metadata": {
        "id": "dcoPMXru9TPt",
        "colab": {
          "base_uri": "https://localhost:8080/"
        },
        "outputId": "78c1bd4c-bab4-48a3-8f21-818443975e6c"
      },
      "execution_count": 66,
      "outputs": [
        {
          "output_type": "execute_result",
          "data": {
            "text/plain": [
              "dtype('float64')"
            ]
          },
          "metadata": {},
          "execution_count": 66
        }
      ]
    },
    {
      "cell_type": "code",
      "source": [
        "y_train.dtype\n"
      ],
      "metadata": {
        "id": "MlJuqZY9Ehlk",
        "colab": {
          "base_uri": "https://localhost:8080/"
        },
        "outputId": "70aabb70-70fa-481e-be5d-25b34d21a4a4"
      },
      "execution_count": 67,
      "outputs": [
        {
          "output_type": "execute_result",
          "data": {
            "text/plain": [
              "dtype('int8')"
            ]
          },
          "metadata": {},
          "execution_count": 67
        }
      ]
    },
    {
      "cell_type": "code",
      "source": [
        "from sklearn.linear_model import SGDClassifier\n",
        "\n",
        "sgd_clf = SGDClassifier(max_iter=5, tol=-np.infty, random_state=42)\n",
        "sgd_clf.fit(X_train, y_train_5)"
      ],
      "metadata": {
        "id": "we50w7xdBm2L",
        "colab": {
          "base_uri": "https://localhost:8080/"
        },
        "outputId": "efae2d59-839d-4128-975f-6081a86c2284"
      },
      "execution_count": 68,
      "outputs": [
        {
          "output_type": "execute_result",
          "data": {
            "text/plain": [
              "SGDClassifier(max_iter=5, random_state=42, tol=-inf)"
            ]
          },
          "metadata": {},
          "execution_count": 68
        }
      ]
    },
    {
      "cell_type": "code",
      "source": [
        "sgd_clf.predict([some_digit])"
      ],
      "metadata": {
        "id": "27_zlMJIBmwi",
        "colab": {
          "base_uri": "https://localhost:8080/"
        },
        "outputId": "5e35927b-20ec-40ce-ab78-27dc7c879402"
      },
      "execution_count": 69,
      "outputs": [
        {
          "output_type": "execute_result",
          "data": {
            "text/plain": [
              "array([ True])"
            ]
          },
          "metadata": {},
          "execution_count": 69
        }
      ]
    },
    {
      "cell_type": "markdown",
      "source": [
        "Occasionally you will need more control over the cross-validation process than what\n",
        "cross_val_score() and similar functions provide."
      ],
      "metadata": {
        "id": "AYWv_ZxFwnw0"
      }
    },
    {
      "cell_type": "markdown",
      "source": [
        "The StratifiedKFold class performs stratified sampling \n",
        "to produce folds that contain a representative ratio of each class"
      ],
      "metadata": {
        "id": "0wwWBVRInCJV"
      }
    },
    {
      "cell_type": "code",
      "source": [
        "from sklearn.model_selection import cross_val_score\n",
        "cross_val_score(sgd_clf, X_train, y_train_5, cv=3, scoring=\"accuracy\")"
      ],
      "metadata": {
        "id": "wZLATy5jBmcD",
        "colab": {
          "base_uri": "https://localhost:8080/"
        },
        "outputId": "c0528b7c-edf0-4a7e-ca80-cc056e930992"
      },
      "execution_count": 70,
      "outputs": [
        {
          "output_type": "execute_result",
          "data": {
            "text/plain": [
              "array([0.95565, 0.9448 , 0.96205])"
            ]
          },
          "metadata": {},
          "execution_count": 70
        }
      ]
    },
    {
      "cell_type": "code",
      "source": [
        "from sklearn.model_selection import StratifiedKFold\n",
        "from sklearn.base import clone\n",
        "\n",
        "skfolds = StratifiedKFold(n_splits=3, random_state=42, shuffle=True)\n",
        "for train_index, test_index in skfolds.split(X_train, y_train_5):\n",
        "  clone_clf = clone(sgd_clf)\n",
        "  X_train_folds = X_train[train_index]\n",
        "  y_train_folds = (y_train_5[train_index])\n",
        "  X_test_folds = X_train[test_index]\n",
        "  y_test_folds = (y_train_5[test_index])\n",
        "\n",
        "  clone_clf.fit(X_train_folds, y_train_folds)\n",
        "  y_pred = clone_clf.predict(X_test_folds)\n",
        "  print(y_pred)\n",
        "  n_correct = sum(y_pred == y_test_folds)\n",
        "  print(n_correct)\n",
        "  print(n_correct/len(y_pred))\n",
        "\n",
        "\n"
      ],
      "metadata": {
        "id": "h4btSQLHBlwO",
        "colab": {
          "base_uri": "https://localhost:8080/"
        },
        "outputId": "116ea1f6-d04a-4cb5-803d-034947601aeb"
      },
      "execution_count": 71,
      "outputs": [
        {
          "output_type": "stream",
          "name": "stdout",
          "text": [
            "[ True False False ... False False False]\n",
            "19300\n",
            "0.965\n",
            "[False False False ... False False False]\n",
            "19355\n",
            "0.96775\n",
            "[False False False ... False False False]\n",
            "19199\n",
            "0.95995\n"
          ]
        }
      ]
    },
    {
      "cell_type": "markdown",
      "source": [
        "let’s look at a very\n",
        "dumb classifier that just classifies every single image in the “not-5” class"
      ],
      "metadata": {
        "id": "xKb8Cu5vfwsT"
      }
    },
    {
      "cell_type": "code",
      "source": [
        "from sklearn.base import BaseEstimator\n",
        "\n",
        "class Never5Classifier(BaseEstimator):\n",
        "  def fit(self, X, y=None):\n",
        "    pass\n",
        "  def predict(self, X):\n",
        "    return np.zeros((len(X), 1), dtype=bool)"
      ],
      "metadata": {
        "id": "OOHJBKc6gixl"
      },
      "execution_count": 72,
      "outputs": []
    },
    {
      "cell_type": "markdown",
      "source": [
        "That’s right, it has over 90% accuracy! This is simply because only about 10% of the\n",
        "images are 5s, so if you always guess that an image is not a 5, you will be right about\n",
        "90% of the time. Beats Nostradamus.\n",
        "This demonstrates why accuracy is generally not the preferred performance measure\n",
        "for classifiers, especially when you are dealing with skewed datasets (i.e., when some\n",
        "classes are much more frequent than others)"
      ],
      "metadata": {
        "id": "2P-ax2h6Qcm7"
      }
    },
    {
      "cell_type": "code",
      "source": [
        "never_5_clf = Never5Classifier()\n",
        "cross_val_score(never_5_clf, X_train, y_train_5, cv=3, scoring=\"accuracy\")"
      ],
      "metadata": {
        "id": "7BqFSdrhnQYR",
        "colab": {
          "base_uri": "https://localhost:8080/"
        },
        "outputId": "41d1b4e2-5066-479a-a709-1994a3ec2a0a"
      },
      "execution_count": 73,
      "outputs": [
        {
          "output_type": "execute_result",
          "data": {
            "text/plain": [
              "array([0.9101 , 0.9091 , 0.90975])"
            ]
          },
          "metadata": {},
          "execution_count": 73
        }
      ]
    },
    {
      "cell_type": "code",
      "source": [
        "np.zeros([3,2], dtype=bool)"
      ],
      "metadata": {
        "id": "jF3amXFTginT",
        "colab": {
          "base_uri": "https://localhost:8080/"
        },
        "outputId": "4df7a27d-3fb5-4db3-9241-292d6bf8b222"
      },
      "execution_count": 74,
      "outputs": [
        {
          "output_type": "execute_result",
          "data": {
            "text/plain": [
              "array([[False, False],\n",
              "       [False, False],\n",
              "       [False, False]])"
            ]
          },
          "metadata": {},
          "execution_count": 74
        }
      ]
    },
    {
      "cell_type": "markdown",
      "source": [
        "# Confusion Matrix"
      ],
      "metadata": {
        "id": "9BBv4_2oWiU1"
      }
    },
    {
      "cell_type": "markdown",
      "source": [
        "Just like the cross_val_score() function, cross_val_predict() performs K-fold\n",
        "cross-validation, but instead of returning the evaluation scores, it returns the predictions made on each test fold."
      ],
      "metadata": {
        "id": "jacCX3PcWpil"
      }
    },
    {
      "cell_type": "code",
      "source": [
        "from sklearn.model_selection import cross_val_predict\n",
        "y_train_pred = cross_val_predict(sgd_clf, X_train, y_train_5, cv=3)"
      ],
      "metadata": {
        "id": "b3--qcaNWrxQ"
      },
      "execution_count": 75,
      "outputs": []
    },
    {
      "cell_type": "markdown",
      "source": [
        "you are ready to get the confusion matrix using the confusion_matrix() func‐\n",
        "tion. Just pass it the target classes (y_train_5) and the predicted classes\n",
        "(y_train_pred):"
      ],
      "metadata": {
        "id": "SxIFy-41om3f"
      }
    },
    {
      "cell_type": "code",
      "source": [
        "from sklearn.metrics import confusion_matrix\n",
        "confusion_matrix(y_train_5, y_train_pred)"
      ],
      "metadata": {
        "colab": {
          "base_uri": "https://localhost:8080/"
        },
        "id": "x3r3nQ-lbEyE",
        "outputId": "46e3cc5e-9488-4535-887a-4c686fc86c04"
      },
      "execution_count": 76,
      "outputs": [
        {
          "output_type": "execute_result",
          "data": {
            "text/plain": [
              "array([[54250,   329],\n",
              "       [ 2421,  3000]])"
            ]
          },
          "metadata": {},
          "execution_count": 76
        }
      ]
    },
    {
      "cell_type": "markdown",
      "source": [
        "Each row in a confusion matrix represents an**`actual class`**, while each column represents a **`predicted class`**\n",
        "\n",
        "```\n",
        "[ True Negative    False Positive]\n",
        "[ False Negative   True Positive ]\n",
        "```\n",
        "\n"
      ],
      "metadata": {
        "id": "pZB-CY5qosaK"
      }
    },
    {
      "cell_type": "code",
      "source": [
        "y_train_perfect_predictions = y_train_5\n",
        "\n",
        "confusion_matrix(y_train_5, y_train_perfect_predictions)"
      ],
      "metadata": {
        "colab": {
          "base_uri": "https://localhost:8080/"
        },
        "id": "6Ipe3xvRszvZ",
        "outputId": "d629308d-116c-423c-cb3b-44afe8e4d380"
      },
      "execution_count": 77,
      "outputs": [
        {
          "output_type": "execute_result",
          "data": {
            "text/plain": [
              "array([[54579,     0],\n",
              "       [    0,  5421]])"
            ]
          },
          "metadata": {},
          "execution_count": 77
        }
      ]
    },
    {
      "cell_type": "markdown",
      "source": [
        "A perfect classifier would have only true positives and true\n",
        "negatives, so its confusion matrix would have nonzero values only on its main diagonal (top left to bottom right)"
      ],
      "metadata": {
        "id": "r2H5YOqRqAkH"
      }
    },
    {
      "cell_type": "markdown",
      "source": [
        "The accuracy of the positive predictions is called the **```precision```** of the classifier\n",
        "\n",
        "\n",
        "\n",
        "```\n",
        "              TP\n",
        "precision = -------\n",
        "            TP + FP\n",
        "```\n",
        "\n"
      ],
      "metadata": {
        "id": "B1DS0HgpqW5s"
      }
    },
    {
      "cell_type": "markdown",
      "source": [
        "A trivial way to have perfect precision is to make one single positive prediction and\n",
        "ensure it is correct (precision = 1/1 = 100%). This would not be very useful since the\n",
        "classifier would ignore all but one positive instance. So precision is typically used\n",
        "along with another metric named **```recall```**, also called **```sensitivity```** or **```true positive rate\n",
        "(TPR)```**: this is the ratio of positive instances that are correctly detected by the classifier\n",
        "\n",
        "```\n",
        "            TP\n",
        "recall = ---------\n",
        "          TP + FN\n",
        "```"
      ],
      "metadata": {
        "id": "EMEa7rhBr1YV"
      }
    },
    {
      "cell_type": "markdown",
      "source": [
        "# Precision and Recall"
      ],
      "metadata": {
        "id": "jpU5qmnTvHuf"
      }
    },
    {
      "cell_type": "code",
      "source": [
        "from sklearn.metrics import precision_score, recall_score\n",
        "\n",
        "precision_score(y_train_5, y_train_pred)"
      ],
      "metadata": {
        "colab": {
          "base_uri": "https://localhost:8080/"
        },
        "id": "KrLLuhptvVc5",
        "outputId": "b476c766-5f42-4713-8066-d4537edde610"
      },
      "execution_count": 78,
      "outputs": [
        {
          "output_type": "execute_result",
          "data": {
            "text/plain": [
              "0.9011715229798738"
            ]
          },
          "metadata": {},
          "execution_count": 78
        }
      ]
    },
    {
      "cell_type": "code",
      "source": [
        "4351/(1348+4351)"
      ],
      "metadata": {
        "colab": {
          "base_uri": "https://localhost:8080/"
        },
        "id": "H4CiBLX3tQ5_",
        "outputId": "49e041c8-8eb0-4b15-9bc3-33c24eb682ca"
      },
      "execution_count": 79,
      "outputs": [
        {
          "output_type": "execute_result",
          "data": {
            "text/plain": [
              "0.7634672749605194"
            ]
          },
          "metadata": {},
          "execution_count": 79
        }
      ]
    },
    {
      "cell_type": "code",
      "source": [
        "recall_score(y_train_5, y_train_pred)"
      ],
      "metadata": {
        "colab": {
          "base_uri": "https://localhost:8080/"
        },
        "id": "goCuzJ8gwXIV",
        "outputId": "8aaa2424-3651-4a05-d4a6-5fc706b54e47"
      },
      "execution_count": 80,
      "outputs": [
        {
          "output_type": "execute_result",
          "data": {
            "text/plain": [
              "0.5534034311012729"
            ]
          },
          "metadata": {},
          "execution_count": 80
        }
      ]
    },
    {
      "cell_type": "code",
      "source": [
        "4351/(1070+4351)"
      ],
      "metadata": {
        "colab": {
          "base_uri": "https://localhost:8080/"
        },
        "id": "S9rMi6Fbtig9",
        "outputId": "fac35d5d-ddab-42d1-92ea-cebb053521b8"
      },
      "execution_count": 81,
      "outputs": [
        {
          "output_type": "execute_result",
          "data": {
            "text/plain": [
              "0.8026194429072127"
            ]
          },
          "metadata": {},
          "execution_count": 81
        }
      ]
    },
    {
      "cell_type": "markdown",
      "source": [
        "It claims an image represents a 5, it is correct only 87% of the time. Moreover,\n",
        "it only detects 71% of the 5s."
      ],
      "metadata": {
        "id": "yVJIAF0T1jMQ"
      }
    },
    {
      "cell_type": "markdown",
      "source": [
        "It is often convenient to combine precision and recall into a single metric called the F1\n",
        "score, in particular if you need a simple way to compare two classifiers. The F1 score is\n",
        "the harmonic mean of precision and recall. Whereas the regular mean\n",
        "treats all values equally, the harmonic mean gives much more weight to low values.\n",
        "As a result, the classifier will only get a high F1 score if both recall and precision are\n",
        "high.\n",
        "\n",
        "```\n",
        "               2\n",
        "F1 = ------------------ \n",
        "         1          1\n",
        "      --------- + -----\n",
        "      precision   recall\n",
        "\n"
      ],
      "metadata": {
        "id": "M58SmdYg1hcb"
      }
    },
    {
      "cell_type": "code",
      "source": [
        "from sklearn.metrics import f1_score\n",
        "f1_score(y_train_5, y_train_pred)"
      ],
      "metadata": {
        "colab": {
          "base_uri": "https://localhost:8080/"
        },
        "id": "wLMvojFo3hfx",
        "outputId": "a9a75f07-a181-4aa5-821b-fa88e3da4596"
      },
      "execution_count": 82,
      "outputs": [
        {
          "output_type": "execute_result",
          "data": {
            "text/plain": [
              "0.6857142857142857"
            ]
          },
          "metadata": {},
          "execution_count": 82
        }
      ]
    },
    {
      "cell_type": "markdown",
      "source": [
        "# Precision/Recall Tradeoff"
      ],
      "metadata": {
        "id": "5B0zEJQIORaW"
      }
    },
    {
      "cell_type": "markdown",
      "source": [
        "For each instance, it computes a score based on a **decision function**,\n",
        "and if that score is greater than a **threshold**, it assigns the instance to the positive\n",
        "class, or else it assigns it to the negative class."
      ],
      "metadata": {
        "id": "07C8fBi8viy_"
      }
    },
    {
      "cell_type": "markdown",
      "source": [
        "Instead of calling the classifier’s\n",
        "predict() method, you can call its decision_function() method, which returns a\n",
        "score for each instance"
      ],
      "metadata": {
        "id": "f2gc74gnxcwF"
      }
    },
    {
      "cell_type": "code",
      "source": [
        "y_scores = sgd_clf.decision_function([some_digit])\n",
        "y_scores"
      ],
      "metadata": {
        "id": "5fkKFwUUt1oX",
        "colab": {
          "base_uri": "https://localhost:8080/"
        },
        "outputId": "d6368371-24ac-492f-9fc0-9e46110ed21d"
      },
      "execution_count": 85,
      "outputs": [
        {
          "output_type": "execute_result",
          "data": {
            "text/plain": [
              "array([232069.54805759])"
            ]
          },
          "metadata": {},
          "execution_count": 85
        }
      ]
    },
    {
      "cell_type": "code",
      "source": [
        "threshold = 0\n",
        "y_some_digit_pred = (y_scores > threshold)\n",
        "y_some_digit_pred"
      ],
      "metadata": {
        "colab": {
          "base_uri": "https://localhost:8080/"
        },
        "id": "sefksrBevVK7",
        "outputId": "87235d6d-f201-4f4f-9133-86533f6b906a"
      },
      "execution_count": 87,
      "outputs": [
        {
          "output_type": "execute_result",
          "data": {
            "text/plain": [
              "array([ True])"
            ]
          },
          "metadata": {},
          "execution_count": 87
        }
      ]
    },
    {
      "cell_type": "markdown",
      "source": [
        "The SGDClassifier uses a threshold equal to 0, so the previous code returns the same\n",
        "result as the predict() method (i.e., True). Let’s raise the threshold"
      ],
      "metadata": {
        "id": "WRp30qXgw-BA"
      }
    },
    {
      "cell_type": "code",
      "source": [
        "threshold = 250000\n",
        "y_some_digit_pred = (y_scores > threshold)\n",
        "y_some_digit_pred"
      ],
      "metadata": {
        "colab": {
          "base_uri": "https://localhost:8080/"
        },
        "id": "4muP-bOexAho",
        "outputId": "aff8a14f-0f45-4185-df97-d0d713513a64"
      },
      "execution_count": 89,
      "outputs": [
        {
          "output_type": "execute_result",
          "data": {
            "text/plain": [
              "array([False])"
            ]
          },
          "metadata": {},
          "execution_count": 89
        }
      ]
    },
    {
      "cell_type": "markdown",
      "source": [
        "This confirms that raising the threshold decreases recall. The image actually represents a 5, and the classifier detects it when the threshold is 0, but it misses it when the\n",
        "threshold is increased to 200,000."
      ],
      "metadata": {
        "id": "k3aQk4iyydaU"
      }
    },
    {
      "cell_type": "markdown",
      "source": [
        "For decision which threshold to use  first need to get the\n",
        "scores of all instances in the training set using the `cross_val_predict()` function\n",
        "again, but this time specifying that you want it to return decision scores instead of\n",
        "predictions:"
      ],
      "metadata": {
        "id": "_Wokdp3KyzuL"
      }
    },
    {
      "cell_type": "code",
      "source": [
        "y_scores = cross_val_predict(sgd_clf, X_train, y_train_5, cv=3,\n",
        "method=\"decision_function\")\n",
        "y_scores.shape"
      ],
      "metadata": {
        "colab": {
          "base_uri": "https://localhost:8080/"
        },
        "id": "wCGuZW4F07SO",
        "outputId": "6b3aedb9-c890-42de-8c17-b40510b30e0c"
      },
      "execution_count": 92,
      "outputs": [
        {
          "output_type": "execute_result",
          "data": {
            "text/plain": [
              "(60000,)"
            ]
          },
          "metadata": {},
          "execution_count": 92
        }
      ]
    },
    {
      "cell_type": "markdown",
      "source": [
        "With these scores you can compute precision and recall for all possible thresholds using the `precision_recall_curve()` function:"
      ],
      "metadata": {
        "id": "aYcjjI5Uzg_5"
      }
    },
    {
      "cell_type": "code",
      "source": [
        "if y_scores.ndim == 2:\n",
        "    y_scores = y_scores[:, 1]"
      ],
      "metadata": {
        "id": "qLrRuo4u3UoB"
      },
      "execution_count": 100,
      "outputs": []
    },
    {
      "cell_type": "code",
      "source": [
        "from sklearn.metrics import precision_recall_curve\n",
        "precisions, recalls, thresholds = precision_recall_curve(y_train_5, y_scores)"
      ],
      "metadata": {
        "id": "lO6rmL3wziqz"
      },
      "execution_count": 101,
      "outputs": []
    },
    {
      "cell_type": "code",
      "source": [
        "precisions.shape"
      ],
      "metadata": {
        "colab": {
          "base_uri": "https://localhost:8080/"
        },
        "id": "KS86LbwE2mzC",
        "outputId": "d42696cb-0c67-4436-b194-0a9642d1fac2"
      },
      "execution_count": 102,
      "outputs": [
        {
          "output_type": "execute_result",
          "data": {
            "text/plain": [
              "(59682,)"
            ]
          },
          "metadata": {},
          "execution_count": 102
        }
      ]
    },
    {
      "cell_type": "code",
      "source": [
        "recalls.shape"
      ],
      "metadata": {
        "colab": {
          "base_uri": "https://localhost:8080/"
        },
        "id": "LEuCSSwM2n7_",
        "outputId": "bf28e14c-edbc-4728-cce1-de3ad6745f91"
      },
      "execution_count": 103,
      "outputs": [
        {
          "output_type": "execute_result",
          "data": {
            "text/plain": [
              "(59682,)"
            ]
          },
          "metadata": {},
          "execution_count": 103
        }
      ]
    },
    {
      "cell_type": "code",
      "source": [
        "precisions[:-1].shape"
      ],
      "metadata": {
        "colab": {
          "base_uri": "https://localhost:8080/"
        },
        "id": "IdBP_RtJ3QSP",
        "outputId": "da8c2215-eaed-4217-96b2-fd9d86b7cfe0"
      },
      "execution_count": 108,
      "outputs": [
        {
          "output_type": "execute_result",
          "data": {
            "text/plain": [
              "(59681,)"
            ]
          },
          "metadata": {},
          "execution_count": 108
        }
      ]
    },
    {
      "cell_type": "code",
      "source": [
        "thresholds.shape"
      ],
      "metadata": {
        "colab": {
          "base_uri": "https://localhost:8080/"
        },
        "id": "f-3O9nO46TJT",
        "outputId": "7ddb824a-3829-4d1f-b524-d498a36eae64"
      },
      "execution_count": 115,
      "outputs": [
        {
          "output_type": "execute_result",
          "data": {
            "text/plain": [
              "(59681,)"
            ]
          },
          "metadata": {},
          "execution_count": 115
        }
      ]
    },
    {
      "cell_type": "code",
      "source": [
        "def plot_precision_recall_vs_threshold(precision, recalls, thresholds):\n",
        "  plt.plot(thresholds, precisions[:-1], 'b--', label=\"Precision\", linewidth=2)\n",
        "  plt.plot(thresholds, recalls[:-1], 'g-', label=\"Recall\", linewidth=2)\n",
        "  plt.xlabel('Threshold')\n",
        "  plt.legend(loc='upper left')\n",
        "  plt.ylim([0,1])\n",
        "\n",
        "plt.figure(figsize=(8,4))\n",
        "plot_precision_recall_vs_threshold(precisions, recalls, thresholds)\n",
        "plt.xlim([-700000,700000])\n",
        "plt.show()\n"
      ],
      "metadata": {
        "colab": {
          "base_uri": "https://localhost:8080/",
          "height": 283
        },
        "id": "n7eA8vJM1eyS",
        "outputId": "f87f0f0e-dfa9-4ee1-9d77-56247260e94f"
      },
      "execution_count": 114,
      "outputs": [
        {
          "output_type": "display_data",
          "data": {
            "text/plain": [
              "<Figure size 576x288 with 1 Axes>"
            ],
            "image/png": "[encoded data removed]"
          },
          "metadata": {
            "needs_background": "light"
          }
        }
      ]
    },
    {
      "cell_type": "markdown",
      "source": [
        "precision may sometimes go\n",
        "down when you raise the threshold (although in general it will go\n",
        "up)"
      ],
      "metadata": {
        "id": "s7WozDZGSHXK"
      }
    },
    {
      "cell_type": "markdown",
      "source": [
        "# The ROC curve"
      ],
      "metadata": {
        "id": "Q6meSfk1UoLa"
      }
    },
    {
      "cell_type": "markdown",
      "source": [
        "# Multiclass Classification"
      ],
      "metadata": {
        "id": "DvPhZ1YoUx6Q"
      }
    }
  ]
}