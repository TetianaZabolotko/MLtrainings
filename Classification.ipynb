{
  "nbformat": 4,
  "nbformat_minor": 0,
  "metadata": {
    "colab": {
      "provenance": [],
      "authorship_tag": "ABX9TyPhtb6qvLycY3hSJEp5O0iu",
      "include_colab_link": true
    },
    "kernelspec": {
      "name": "python3",
      "display_name": "Python 3"
    },
    "language_info": {
      "name": "python"
    }
  },
  "cells": [
    {
      "cell_type": "markdown",
      "metadata": {
        "id": "view-in-github",
        "colab_type": "text"
      },
      "source": [
        "<a href=\"https://colab.research.google.com/github/TetianaZabolotko/MLtrainings/blob/main/Classification.ipynb\" target=\"_parent\"><img src=\"https://colab.research.google.com/assets/colab-badge.svg\" alt=\"Open In Colab\"/></a>"
      ]
    },
    {
      "cell_type": "markdown",
      "source": [
        "# MNIST"
      ],
      "metadata": {
        "id": "x63QmO7zPPXH"
      }
    },
    {
      "cell_type": "code",
      "source": [
        "import numpy as np\n",
        "import os"
      ],
      "metadata": {
        "id": "5N5KueGzlU2-"
      },
      "execution_count": null,
      "outputs": []
    },
    {
      "cell_type": "code",
      "source": [
        "def sort_by_target(mnist):\n",
        "    reorder_train = np.array(sorted([(target, i) for i, target in enumerate(mnist.target[:60000])]))[:, 1]\n",
        "    reorder_test = np.array(sorted([(target, i) for i, target in enumerate(mnist.target[60000:])]))[:, 1]\n",
        "    mnist.data[:60000] = mnist.data[reorder_train]\n",
        "    mnist.target[:60000] = mnist.target[reorder_train]\n",
        "    mnist.data[60000:] = mnist.data[reorder_test + 60000]\n",
        "    mnist.target[60000:] = mnist.target[reorder_test + 60000]"
      ],
      "metadata": {
        "id": "TfGeyggevT8e"
      },
      "execution_count": null,
      "outputs": []
    },
    {
      "cell_type": "code",
      "source": [
        "try:\n",
        "    from sklearn.datasets import fetch_openml\n",
        "    mnist = fetch_openml('mnist_784', version=1, cache=True, as_frame=False)\n",
        "    mnist.target = mnist.target.astype(np.int8) # fetch_openml() returns targets as strings\n",
        "    sort_by_target(mnist) # fetch_openml() returns an unsorted dataset\n",
        "except ImportError:\n",
        "    from sklearn.datasets import fetch_mldata\n",
        "    mnist = fetch_mldata('MNIST original')\n",
        "mnist[\"data\"], mnist[\"target\"]"
      ],
      "metadata": {
        "colab": {
          "base_uri": "https://localhost:8080/"
        },
        "id": "P0eye-FevXvw",
        "outputId": "c91299ec-1c62-482b-9384-96daa6b478d6"
      },
      "execution_count": null,
      "outputs": [
        {
          "output_type": "stream",
          "name": "stderr",
          "text": [
            "/usr/local/lib/python3.10/dist-packages/sklearn/datasets/_openml.py:968: FutureWarning: The default value of `parser` will change from `'liac-arff'` to `'auto'` in 1.4. You can set `parser='auto'` to silence this warning. Therefore, an `ImportError` will be raised from 1.4 if the dataset is dense and pandas is not installed. Note that the pandas parser may return different data types. See the Notes Section in fetch_openml's API doc for details.\n",
            "  warn(\n"
          ]
        },
        {
          "output_type": "execute_result",
          "data": {
            "text/plain": [
              "(array([[0., 0., 0., ..., 0., 0., 0.],\n",
              "        [0., 0., 0., ..., 0., 0., 0.],\n",
              "        [0., 0., 0., ..., 0., 0., 0.],\n",
              "        ...,\n",
              "        [0., 0., 0., ..., 0., 0., 0.],\n",
              "        [0., 0., 0., ..., 0., 0., 0.],\n",
              "        [0., 0., 0., ..., 0., 0., 0.]]),\n",
              " array([0, 0, 0, ..., 9, 9, 9], dtype=int8))"
            ]
          },
          "metadata": {},
          "execution_count": 3
        }
      ]
    },
    {
      "cell_type": "markdown",
      "source": [
        "\n",
        "\n",
        "\n",
        "Scikit-Learn provides many helper functions to download popular datasets. MNIST is one of them. The following code fetches the MNIST dataset\n",
        "\n",
        "\n"
      ],
      "metadata": {
        "id": "RrGSweiEQD_O"
      }
    },
    {
      "cell_type": "code",
      "execution_count": null,
      "metadata": {
        "id": "aWYNj4K_GKT2",
        "colab": {
          "base_uri": "https://localhost:8080/"
        },
        "outputId": "0ccb4666-e02d-4f82-cbae-6f6a637a55a9"
      },
      "outputs": [
        {
          "output_type": "execute_result",
          "data": {
            "text/plain": [
              "(array([[0., 0., 0., ..., 0., 0., 0.],\n",
              "        [0., 0., 0., ..., 0., 0., 0.],\n",
              "        [0., 0., 0., ..., 0., 0., 0.],\n",
              "        ...,\n",
              "        [0., 0., 0., ..., 0., 0., 0.],\n",
              "        [0., 0., 0., ..., 0., 0., 0.],\n",
              "        [0., 0., 0., ..., 0., 0., 0.]]),\n",
              " array([0, 0, 0, ..., 9, 9, 9], dtype=int8))"
            ]
          },
          "metadata": {},
          "execution_count": 4
        }
      ],
      "source": [
        "# from sklearn.datasets import fetch_openml\n",
        "# mnist = fetch_openml('mnist_784', version=1, cache=True)\n",
        "# mnist = fetch_openml(\"mnist_784\")\n",
        "\n",
        "X, y = mnist['data'],mnist['target']\n",
        "X,y"
      ]
    },
    {
      "cell_type": "markdown",
      "source": [
        "\n",
        "*   A DESCR key describing the dataset\n",
        "\n",
        "*    A data key containing an array with one row per instance and one column per\n",
        "feature\n",
        "\n",
        "* A target key containing an array with the labels"
      ],
      "metadata": {
        "id": "oN_FlmciU_0c"
      }
    },
    {
      "cell_type": "code",
      "source": [
        "print(type(X))"
      ],
      "metadata": {
        "id": "lbvpIHp6AdIS",
        "colab": {
          "base_uri": "https://localhost:8080/"
        },
        "outputId": "14a53041-afc0-4132-8fe5-5d51e5bd3c82"
      },
      "execution_count": null,
      "outputs": [
        {
          "output_type": "stream",
          "name": "stdout",
          "text": [
            "<class 'numpy.ndarray'>\n"
          ]
        }
      ]
    },
    {
      "cell_type": "code",
      "source": [
        "print(type(y))"
      ],
      "metadata": {
        "colab": {
          "base_uri": "https://localhost:8080/"
        },
        "id": "zmrk8Z-M7Ohh",
        "outputId": "5a18fe2e-fd20-40d8-dfd2-f46ac57e2173"
      },
      "execution_count": null,
      "outputs": [
        {
          "output_type": "stream",
          "name": "stdout",
          "text": [
            "<class 'numpy.ndarray'>\n"
          ]
        }
      ]
    },
    {
      "cell_type": "markdown",
      "source": [],
      "metadata": {
        "id": "jMLiF_6c7NG4"
      }
    },
    {
      "cell_type": "code",
      "source": [
        "X.shape"
      ],
      "metadata": {
        "colab": {
          "base_uri": "https://localhost:8080/"
        },
        "id": "XYQMS8O1VV9P",
        "outputId": "624ca308-a4f2-4e3a-88da-3657d8735f59"
      },
      "execution_count": null,
      "outputs": [
        {
          "output_type": "execute_result",
          "data": {
            "text/plain": [
              "(70000, 784)"
            ]
          },
          "metadata": {},
          "execution_count": 7
        }
      ]
    },
    {
      "cell_type": "markdown",
      "source": [
        "There are 70,000 images, and each image has 784 features. This is because each image\n",
        "is 28×28 pixels, and each feature simply represents one pixel’s intensity, from 0\n",
        "(white) to 255 (black)."
      ],
      "metadata": {
        "id": "o2LKNckUVk_H"
      }
    },
    {
      "cell_type": "code",
      "source": [
        "# X['pixel1']"
      ],
      "metadata": {
        "id": "FID2HZclAfkn"
      },
      "execution_count": null,
      "outputs": []
    },
    {
      "cell_type": "code",
      "source": [
        "# X['pixel1'].values"
      ],
      "metadata": {
        "id": "fQWaqU3ZnlP3"
      },
      "execution_count": null,
      "outputs": []
    },
    {
      "cell_type": "code",
      "source": [
        "# X['pixel1'].values.shape"
      ],
      "metadata": {
        "id": "fiiaOfbBoM-N"
      },
      "execution_count": null,
      "outputs": []
    },
    {
      "cell_type": "code",
      "source": [
        "# X[['pixel1']]"
      ],
      "metadata": {
        "id": "elnOrpBQI3on"
      },
      "execution_count": null,
      "outputs": []
    },
    {
      "cell_type": "code",
      "source": [
        "# X[['pixel1']].values"
      ],
      "metadata": {
        "id": "x_6f3U5CoA4w"
      },
      "execution_count": null,
      "outputs": []
    },
    {
      "cell_type": "code",
      "source": [
        "# X[['pixel1']].values.shape"
      ],
      "metadata": {
        "id": "_84badHYoeam"
      },
      "execution_count": null,
      "outputs": []
    },
    {
      "cell_type": "code",
      "source": [
        "# X.iloc[5].values.shape"
      ],
      "metadata": {
        "id": "xDRN1A94gkih"
      },
      "execution_count": null,
      "outputs": []
    },
    {
      "cell_type": "code",
      "source": [
        "# X.iloc[[5]].values.shape"
      ],
      "metadata": {
        "id": "XD26e_RDi96s"
      },
      "execution_count": null,
      "outputs": []
    },
    {
      "cell_type": "code",
      "source": [
        "# X.iloc[[5]].values[:,3]"
      ],
      "metadata": {
        "id": "y18gco5-jE7X"
      },
      "execution_count": null,
      "outputs": []
    },
    {
      "cell_type": "markdown",
      "source": [
        "Let’s take a peek at one digit from the dataset"
      ],
      "metadata": {
        "id": "vjk1uz4Pbqv1"
      }
    },
    {
      "cell_type": "code",
      "source": [
        "%matplotlib inline\n",
        "import matplotlib\n",
        "import matplotlib.pyplot as plt\n",
        "some_digit = X[36000]\n",
        "\n",
        "some_digit_image = some_digit.reshape(28, 28)\n",
        "plt.imshow(some_digit_image, cmap = matplotlib.cm.binary,\n",
        "interpolation=\"nearest\")\n",
        "plt.axis(\"off\")\n",
        "plt.show()"
      ],
      "metadata": {
        "id": "aLCOGv7iIozE",
        "colab": {
          "base_uri": "https://localhost:8080/",
          "height": 406
        },
        "outputId": "5e299595-ea76-4721-9bee-f3e2b3a58e72"
      },
      "execution_count": null,
      "outputs": [
        {
          "output_type": "display_data",
          "data": {
            "text/plain": [
              "<Figure size 640x480 with 1 Axes>"
            ],
            "image/png": "[encoded data removed]"
          },
          "metadata": {}
        }
      ]
    },
    {
      "cell_type": "markdown",
      "source": [
        " The **`reshape`**  *in NumPy is used to change the shape (dimensions) of\n",
        "an array* **without changing its data**.\n",
        "It returns a new array with the specified shape\n",
        "\n",
        " **`arr.reshape`**((2, 3)) *is equivalent to* **`np.reshape`**(arr, (2, 3))\n",
        "\n",
        "\n",
        "---\n",
        "\n",
        "\n",
        "**`imshow`** is a function in the Matplotlib library used to display images or 2D arrays as images.\n",
        "\n",
        "* X: The input image or 2D array to be displayed.\n",
        "* cmap: (Optional) The colormap to be used for mapping scalar data to colors. If not specified, the default colormap ('viridis') is used.\n",
        "* Other optional parameters: There are many additional optional parameters you can use to customize the appearance of the image, such as aspect, interpolation, vmin, vmax, etc. These parameters control aspects like the aspect ratio, interpolation method, and color range."
      ],
      "metadata": {
        "id": "390Q-dKYctlU"
      }
    },
    {
      "cell_type": "code",
      "source": [
        "y[36000]"
      ],
      "metadata": {
        "id": "5oX9jmqAAhaq",
        "colab": {
          "base_uri": "https://localhost:8080/"
        },
        "outputId": "4f372d2f-5775-4c91-859b-57b3d243427c"
      },
      "execution_count": null,
      "outputs": [
        {
          "output_type": "execute_result",
          "data": {
            "text/plain": [
              "5"
            ]
          },
          "metadata": {},
          "execution_count": 21
        }
      ]
    },
    {
      "cell_type": "markdown",
      "source": [
        "The MNIST dataset is actually already split into a training set (the first 60,000\n",
        "images) and a test set (the last 10,000 images):"
      ],
      "metadata": {
        "id": "JltddsVScWhd"
      }
    },
    {
      "cell_type": "code",
      "source": [
        "X_train, X_test, y_train, y_test = X[:60000], X[60000:], y[:60000], y[60000:]\n",
        "y_train"
      ],
      "metadata": {
        "id": "-5z3N9l6A0aM",
        "colab": {
          "base_uri": "https://localhost:8080/"
        },
        "outputId": "0e7dd8a7-3576-43de-98e7-1a5a7c6d6b90"
      },
      "execution_count": null,
      "outputs": [
        {
          "output_type": "execute_result",
          "data": {
            "text/plain": [
              "array([0, 0, 0, ..., 9, 9, 9], dtype=int8)"
            ]
          },
          "metadata": {},
          "execution_count": 22
        }
      ]
    },
    {
      "cell_type": "markdown",
      "source": [
        "Let’s also shuffle the training set; this will guarantee that all cross-validation folds will\n",
        "be similar (you don’t want one fold to be missing some digits)"
      ],
      "metadata": {
        "id": "1q1w9rxfcjyl"
      }
    },
    {
      "cell_type": "code",
      "source": [
        "import numpy as np\n",
        "shuffle_index = np.random.permutation(60000)\n",
        "X_train, y_train = X_train[shuffle_index], y_train[shuffle_index]\n",
        "y_train"
      ],
      "metadata": {
        "id": "iqODluSMBm-k",
        "colab": {
          "base_uri": "https://localhost:8080/"
        },
        "outputId": "9b9cbe49-6896-4870-9573-6f23f5579a99"
      },
      "execution_count": null,
      "outputs": [
        {
          "output_type": "execute_result",
          "data": {
            "text/plain": [
              "array([8, 7, 5, ..., 4, 0, 2], dtype=int8)"
            ]
          },
          "metadata": {},
          "execution_count": 23
        }
      ]
    },
    {
      "cell_type": "code",
      "source": [
        "shuffle_index"
      ],
      "metadata": {
        "id": "r_R7XHQPWMkW",
        "colab": {
          "base_uri": "https://localhost:8080/"
        },
        "outputId": "90b702aa-4ff8-452a-8a45-cdeb3153d177"
      },
      "execution_count": null,
      "outputs": [
        {
          "output_type": "execute_result",
          "data": {
            "text/plain": [
              "array([50029, 47809, 35783, ..., 26518,  3879, 14449])"
            ]
          },
          "metadata": {},
          "execution_count": 24
        }
      ]
    },
    {
      "cell_type": "markdown",
      "source": [
        "# Training a Binary Classifier"
      ],
      "metadata": {
        "id": "hu7gWTwNmTq7"
      }
    },
    {
      "cell_type": "markdown",
      "source": [
        "Let’s simplify the problem for now and only try to identify one digit—for example,\n",
        "the number 5. This “5-detector” will be an example of a binary classifier, capable of\n",
        "distinguishing between just two classes, 5 and not-5."
      ],
      "metadata": {
        "id": "xKJIROaLnlJO"
      }
    },
    {
      "cell_type": "code",
      "source": [
        "# y_train = y_train.astype(np.int8)\n",
        "# y_test = y_test.astype(np.int8)\n",
        "y_train_5 = (y_train == 5) # True for all 9s, False for all other digits\n",
        "y_test_5 = (y_test == 5)"
      ],
      "metadata": {
        "id": "RZA6zZssBm5I"
      },
      "execution_count": null,
      "outputs": []
    },
    {
      "cell_type": "markdown",
      "source": [
        "A good place to start is with a **Stochastic\n",
        "Gradient Descent (SGD)** classifier, using Scikit-Learn’s **SGDClassifier class**. This classifier has the advantage of being capable of handling very large datasets efficiently."
      ],
      "metadata": {
        "id": "1zPKr-m0pHJM"
      }
    },
    {
      "cell_type": "markdown",
      "source": [
        "The SGDClassifier relies on randomness during training (hence\n",
        "the name “stochastic”). If you want reproducible results, you\n",
        "should set the random_state parameter."
      ],
      "metadata": {
        "id": "DIGax8jhq1O0"
      }
    },
    {
      "cell_type": "code",
      "source": [
        "np.unique(y_train_5)"
      ],
      "metadata": {
        "id": "sPVgQaquyeO_",
        "colab": {
          "base_uri": "https://localhost:8080/"
        },
        "outputId": "d96d0d0e-9b05-44d7-9137-4a54677b2019"
      },
      "execution_count": null,
      "outputs": [
        {
          "output_type": "execute_result",
          "data": {
            "text/plain": [
              "array([False,  True])"
            ]
          },
          "metadata": {},
          "execution_count": 26
        }
      ]
    },
    {
      "cell_type": "code",
      "source": [
        "X_train.dtype"
      ],
      "metadata": {
        "id": "dcoPMXru9TPt",
        "colab": {
          "base_uri": "https://localhost:8080/"
        },
        "outputId": "7c7c3f3d-e847-42bb-86e3-c8efbc714068"
      },
      "execution_count": null,
      "outputs": [
        {
          "output_type": "execute_result",
          "data": {
            "text/plain": [
              "dtype('float64')"
            ]
          },
          "metadata": {},
          "execution_count": 27
        }
      ]
    },
    {
      "cell_type": "code",
      "source": [
        "y_train.dtype\n"
      ],
      "metadata": {
        "id": "MlJuqZY9Ehlk",
        "colab": {
          "base_uri": "https://localhost:8080/"
        },
        "outputId": "26f66276-b2f6-49b2-e267-2cf1bd0563a4"
      },
      "execution_count": null,
      "outputs": [
        {
          "output_type": "execute_result",
          "data": {
            "text/plain": [
              "dtype('int8')"
            ]
          },
          "metadata": {},
          "execution_count": 28
        }
      ]
    },
    {
      "cell_type": "code",
      "source": [
        "from sklearn.linear_model import SGDClassifier\n",
        "\n",
        "sgd_clf = SGDClassifier(max_iter=5, tol=-np.infty, random_state=42)\n",
        "sgd_clf.fit(X_train, y_train_5)"
      ],
      "metadata": {
        "id": "we50w7xdBm2L",
        "colab": {
          "base_uri": "https://localhost:8080/"
        },
        "outputId": "a9ec2d9b-656f-4b22-f628-ca2300e9d1dd"
      },
      "execution_count": null,
      "outputs": [
        {
          "output_type": "execute_result",
          "data": {
            "text/plain": [
              "SGDClassifier(max_iter=5, random_state=42, tol=-inf)"
            ]
          },
          "metadata": {},
          "execution_count": 29
        }
      ]
    },
    {
      "cell_type": "markdown",
      "source": [
        "**max_iter:**\n",
        "* This parameter defines the maximum number of iterations (epochs) that the stochastic gradient descent (SGD) optimization algorithm will run during training.\n",
        "* An iteration in SGD refers to one update of the model's parameters based on a single training example.\n",
        "* If the optimization algorithm hasn't converged after max_iter iterations, it will stop, even if the convergence criteria haven't been met.\n",
        "In your example, max_iter=5 means that the training process will iterate over the entire dataset five times.\n",
        "\n",
        "**tol:**\n",
        "* This parameter sets the tolerance for the stopping criterion during training.\n",
        "The algorithm stops training when the improvement in the loss function is less than this value.\n",
        "* Setting tol=-np.infty effectively disables this stopping criterion, meaning that training will continue for max_iter iterations regardless of the improvement in the loss function.\n",
        "* By setting tol=-np.infty, you're ensuring that the algorithm runs for exactly max_iter iterations, regardless of the convergence criteria.\n",
        "\n",
        "**random_state:**\n",
        "* This parameter sets the seed for the random number generator used by the algorithm.\n",
        "* It ensures that the random initialization of the model's parameters and the shuffling of the data during training are reproducible across different runs.\n",
        "* Setting a specific random_state value (e.g., random_state=42) ensures that you get the same results if you run the code multiple times with the same dataset and parameters.\n",
        "\n",
        "In summary, **max_iter** controls the number of iterations for training, **tol** sets the stopping criterion for convergence (but it's disabled in this case), and **random_state** ensures reproducibility of results across different runs. These parameters are used to **fine-tune the training process** and ensure consistent results."
      ],
      "metadata": {
        "id": "MLWVC-3P5Qvb"
      }
    },
    {
      "cell_type": "code",
      "source": [
        "sgd_clf.predict([some_digit])"
      ],
      "metadata": {
        "id": "27_zlMJIBmwi",
        "colab": {
          "base_uri": "https://localhost:8080/"
        },
        "outputId": "46e31cb8-6633-4ddc-f0ea-ddb1e1d4f6ff"
      },
      "execution_count": null,
      "outputs": [
        {
          "output_type": "execute_result",
          "data": {
            "text/plain": [
              "array([ True])"
            ]
          },
          "metadata": {},
          "execution_count": 30
        }
      ]
    },
    {
      "cell_type": "markdown",
      "source": [
        "Occasionally you will need more control over the cross-validation process than what\n",
        "cross_val_score() and similar functions provide."
      ],
      "metadata": {
        "id": "AYWv_ZxFwnw0"
      }
    },
    {
      "cell_type": "markdown",
      "source": [
        "The StratifiedKFold class performs stratified sampling\n",
        "to produce folds that contain a representative ratio of each class"
      ],
      "metadata": {
        "id": "0wwWBVRInCJV"
      }
    },
    {
      "cell_type": "code",
      "source": [
        "from sklearn.model_selection import cross_val_score\n",
        "cross_val_score(sgd_clf, X_train, y_train_5, cv=3, scoring=\"accuracy\")"
      ],
      "metadata": {
        "id": "wZLATy5jBmcD",
        "colab": {
          "base_uri": "https://localhost:8080/"
        },
        "outputId": "5a42d5f0-5b6e-478b-f57d-14624a0cc0c0"
      },
      "execution_count": null,
      "outputs": [
        {
          "output_type": "execute_result",
          "data": {
            "text/plain": [
              "array([0.95575, 0.9498 , 0.9697 ])"
            ]
          },
          "metadata": {},
          "execution_count": 31
        }
      ]
    },
    {
      "cell_type": "code",
      "source": [
        "from sklearn.model_selection import StratifiedKFold\n",
        "from sklearn.base import clone\n",
        "\n",
        "skfolds = StratifiedKFold(n_splits=3, random_state=42, shuffle=True)\n",
        "for train_index, test_index in skfolds.split(X_train, y_train_5):\n",
        "  clone_clf = clone(sgd_clf)\n",
        "  X_train_folds = X_train[train_index]\n",
        "  y_train_folds = (y_train_5[train_index])\n",
        "  X_test_folds = X_train[test_index]\n",
        "  y_test_folds = (y_train_5[test_index])\n",
        "\n",
        "  clone_clf.fit(X_train_folds, y_train_folds)\n",
        "  y_pred = clone_clf.predict(X_test_folds)\n",
        "  print(y_pred)\n",
        "  n_correct = sum(y_pred == y_test_folds)\n",
        "  print(n_correct)\n",
        "  print(n_correct/len(y_pred))\n",
        "\n",
        "\n"
      ],
      "metadata": {
        "id": "h4btSQLHBlwO",
        "colab": {
          "base_uri": "https://localhost:8080/"
        },
        "outputId": "fea6a01f-8244-4180-b685-ff663000d512"
      },
      "execution_count": null,
      "outputs": [
        {
          "output_type": "stream",
          "name": "stdout",
          "text": [
            "[False False False ... False False False]\n",
            "19171\n",
            "0.95855\n",
            "[False False False ... False False False]\n",
            "19268\n",
            "0.9634\n",
            "[False  True False ... False False False]\n",
            "19266\n",
            "0.9633\n"
          ]
        }
      ]
    },
    {
      "cell_type": "markdown",
      "source": [
        "When you define a custom estimator by subclassing **BaseEstimator**, you need to **implement** at least two methods: **fit and predict.**\n",
        "\n",
        "let’s look at a very\n",
        "dumb classifier that just classifies every single image in the “not-5” class"
      ],
      "metadata": {
        "id": "xKb8Cu5vfwsT"
      }
    },
    {
      "cell_type": "code",
      "source": [
        "from sklearn.base import BaseEstimator\n",
        "\n",
        "class Never5Classifier(BaseEstimator):\n",
        "  def fit(self, X, y=None):\n",
        "    pass\n",
        "  def predict(self, X):\n",
        "    return np.zeros((len(X), 1), dtype=bool)"
      ],
      "metadata": {
        "id": "OOHJBKc6gixl"
      },
      "execution_count": null,
      "outputs": []
    },
    {
      "cell_type": "markdown",
      "source": [
        "That’s right, it has over 90% accuracy! This is simply because only about 10% of the\n",
        "images are 5s, so if you always guess that an image is not a 5, you will be right about\n",
        "90% of the time. Beats Nostradamus.\n",
        "This demonstrates why accuracy is generally not the preferred performance measure\n",
        "for classifiers, especially when you are dealing with skewed datasets (i.e., when some\n",
        "classes are much more frequent than others)"
      ],
      "metadata": {
        "id": "2P-ax2h6Qcm7"
      }
    },
    {
      "cell_type": "code",
      "source": [
        "never_5_clf = Never5Classifier()\n",
        "cross_val_score(never_5_clf, X_train, y_train_5, cv=3, scoring=\"accuracy\")"
      ],
      "metadata": {
        "id": "7BqFSdrhnQYR",
        "colab": {
          "base_uri": "https://localhost:8080/"
        },
        "outputId": "1e6840ed-0ff7-4f0c-c61b-41a32f8f7fe9"
      },
      "execution_count": null,
      "outputs": [
        {
          "output_type": "execute_result",
          "data": {
            "text/plain": [
              "array([0.9101 , 0.91255, 0.9063 ])"
            ]
          },
          "metadata": {},
          "execution_count": 34
        }
      ]
    },
    {
      "cell_type": "code",
      "source": [
        "np.zeros([3,2], dtype=bool)"
      ],
      "metadata": {
        "id": "jF3amXFTginT",
        "colab": {
          "base_uri": "https://localhost:8080/"
        },
        "outputId": "3ffe72b1-55e7-417a-db64-c32f55d9a2e3"
      },
      "execution_count": null,
      "outputs": [
        {
          "output_type": "execute_result",
          "data": {
            "text/plain": [
              "array([[False, False],\n",
              "       [False, False],\n",
              "       [False, False]])"
            ]
          },
          "metadata": {},
          "execution_count": 35
        }
      ]
    },
    {
      "cell_type": "markdown",
      "source": [
        "# Confusion Matrix"
      ],
      "metadata": {
        "id": "9BBv4_2oWiU1"
      }
    },
    {
      "cell_type": "markdown",
      "source": [
        "Just like the cross_val_score() function, cross_val_predict() performs K-fold\n",
        "cross-validation, but instead of returning the evaluation scores, it returns the predictions made on each test fold."
      ],
      "metadata": {
        "id": "jacCX3PcWpil"
      }
    },
    {
      "cell_type": "code",
      "source": [
        "from sklearn.model_selection import cross_val_predict\n",
        "y_train_pred = cross_val_predict(sgd_clf, X_train, y_train_5, cv=3)"
      ],
      "metadata": {
        "id": "b3--qcaNWrxQ"
      },
      "execution_count": null,
      "outputs": []
    },
    {
      "cell_type": "markdown",
      "source": [
        "you are ready to get the confusion matrix using the confusion_matrix() func‐\n",
        "tion. Just pass it the target classes (y_train_5) and the predicted classes\n",
        "(y_train_pred):"
      ],
      "metadata": {
        "id": "SxIFy-41om3f"
      }
    },
    {
      "cell_type": "code",
      "source": [
        "from sklearn.metrics import confusion_matrix\n",
        "confusion_matrix(y_train_5, y_train_pred)"
      ],
      "metadata": {
        "colab": {
          "base_uri": "https://localhost:8080/"
        },
        "id": "x3r3nQ-lbEyE",
        "outputId": "bcd07992-513c-4802-aeda-bb94badae48f"
      },
      "execution_count": null,
      "outputs": [
        {
          "output_type": "execute_result",
          "data": {
            "text/plain": [
              "array([[52954,  1625],\n",
              "       [  870,  4551]])"
            ]
          },
          "metadata": {},
          "execution_count": 37
        }
      ]
    },
    {
      "cell_type": "markdown",
      "source": [
        "Each row in a confusion matrix represents an**`actual class`**, while each column represents a **`predicted class`**\n",
        "\n",
        "```\n",
        "[ True Negative    False Positive]\n",
        "[ False Negative   True Positive ]\n",
        "```\n",
        "\n"
      ],
      "metadata": {
        "id": "pZB-CY5qosaK"
      }
    },
    {
      "cell_type": "code",
      "source": [
        "y_train_perfect_predictions = y_train_5\n",
        "\n",
        "confusion_matrix(y_train_5, y_train_perfect_predictions)"
      ],
      "metadata": {
        "colab": {
          "base_uri": "https://localhost:8080/"
        },
        "id": "6Ipe3xvRszvZ",
        "outputId": "46565d9b-f4ec-4951-d109-641b9db1ee94"
      },
      "execution_count": null,
      "outputs": [
        {
          "output_type": "execute_result",
          "data": {
            "text/plain": [
              "array([[54579,     0],\n",
              "       [    0,  5421]])"
            ]
          },
          "metadata": {},
          "execution_count": 38
        }
      ]
    },
    {
      "cell_type": "markdown",
      "source": [
        "A perfect classifier would have only true positives and true\n",
        "negatives, so its confusion matrix would have nonzero values only on its main diagonal (top left to bottom right)"
      ],
      "metadata": {
        "id": "r2H5YOqRqAkH"
      }
    },
    {
      "cell_type": "markdown",
      "source": [
        "The accuracy of the positive predictions is called the **```precision```** of the classifier\n",
        "\n",
        "\n",
        "\n",
        "```\n",
        "              TP\n",
        "precision = -------\n",
        "            TP + FP\n",
        "```\n",
        "\n"
      ],
      "metadata": {
        "id": "B1DS0HgpqW5s"
      }
    },
    {
      "cell_type": "markdown",
      "source": [
        "A trivial way to have perfect precision is to make one single positive prediction and\n",
        "ensure it is correct (precision = 1/1 = 100%). This would not be very useful since the\n",
        "classifier would ignore all but one positive instance. So precision is typically used\n",
        "along with another metric named **```recall```**, also called **```sensitivity```** or **```true positive rate\n",
        "(TPR)```**: this is the ratio of positive instances that are correctly detected by the classifier\n",
        "\n",
        "```\n",
        "            TP\n",
        "recall = ---------\n",
        "          TP + FN\n",
        "```"
      ],
      "metadata": {
        "id": "EMEa7rhBr1YV"
      }
    },
    {
      "cell_type": "markdown",
      "source": [
        "# Precision and Recall"
      ],
      "metadata": {
        "id": "jpU5qmnTvHuf"
      }
    },
    {
      "cell_type": "code",
      "source": [
        "from sklearn.metrics import precision_score, recall_score\n",
        "\n",
        "precision_score(y_train_5, y_train_pred)"
      ],
      "metadata": {
        "colab": {
          "base_uri": "https://localhost:8080/"
        },
        "id": "KrLLuhptvVc5",
        "outputId": "49c7601c-fc3f-4b74-dcf8-d0051babc63f"
      },
      "execution_count": null,
      "outputs": [
        {
          "output_type": "execute_result",
          "data": {
            "text/plain": [
              "0.7368847150259067"
            ]
          },
          "metadata": {},
          "execution_count": 39
        }
      ]
    },
    {
      "cell_type": "code",
      "source": [
        "4351/(1348+4351)"
      ],
      "metadata": {
        "colab": {
          "base_uri": "https://localhost:8080/"
        },
        "id": "H4CiBLX3tQ5_",
        "outputId": "fff74366-323b-41d7-a13a-1723db3b2b2b"
      },
      "execution_count": null,
      "outputs": [
        {
          "output_type": "execute_result",
          "data": {
            "text/plain": [
              "0.7634672749605194"
            ]
          },
          "metadata": {},
          "execution_count": 40
        }
      ]
    },
    {
      "cell_type": "code",
      "source": [
        "recall_score(y_train_5, y_train_pred)"
      ],
      "metadata": {
        "colab": {
          "base_uri": "https://localhost:8080/"
        },
        "id": "goCuzJ8gwXIV",
        "outputId": "925a8b02-e097-47f6-e74a-3eb7f974377c"
      },
      "execution_count": null,
      "outputs": [
        {
          "output_type": "execute_result",
          "data": {
            "text/plain": [
              "0.8395130049806309"
            ]
          },
          "metadata": {},
          "execution_count": 41
        }
      ]
    },
    {
      "cell_type": "code",
      "source": [
        "4351/(1070+4351)"
      ],
      "metadata": {
        "colab": {
          "base_uri": "https://localhost:8080/"
        },
        "id": "S9rMi6Fbtig9",
        "outputId": "dadfae90-8c7f-473b-9723-b1d0a5822f07"
      },
      "execution_count": null,
      "outputs": [
        {
          "output_type": "execute_result",
          "data": {
            "text/plain": [
              "0.8026194429072127"
            ]
          },
          "metadata": {},
          "execution_count": 42
        }
      ]
    },
    {
      "cell_type": "markdown",
      "source": [
        "It claims an image represents a 5, it is correct only 87% of the time. Moreover,\n",
        "it only detects 71% of the 5s."
      ],
      "metadata": {
        "id": "yVJIAF0T1jMQ"
      }
    },
    {
      "cell_type": "markdown",
      "source": [
        "It is often convenient to combine precision and recall into a single metric called the F1\n",
        "score, in particular if you need a simple way to compare two classifiers. The F1 score is\n",
        "the harmonic mean of precision and recall. Whereas the regular mean\n",
        "treats all values equally, the harmonic mean gives much more weight to low values.\n",
        "As a result, the classifier will only get a high F1 score if both recall and precision are\n",
        "high.\n",
        "\n",
        "```\n",
        "               2\n",
        "F1 = ------------------\n",
        "         1          1\n",
        "      --------- + -----\n",
        "      precision   recall\n",
        "\n"
      ],
      "metadata": {
        "id": "M58SmdYg1hcb"
      }
    },
    {
      "cell_type": "code",
      "source": [
        "from sklearn.metrics import f1_score\n",
        "f1_score(y_train_5, y_train_pred)"
      ],
      "metadata": {
        "colab": {
          "base_uri": "https://localhost:8080/"
        },
        "id": "wLMvojFo3hfx",
        "outputId": "f0344873-003f-404d-fe18-7e35f8cfce7c"
      },
      "execution_count": null,
      "outputs": [
        {
          "output_type": "execute_result",
          "data": {
            "text/plain": [
              "0.7848581529705959"
            ]
          },
          "metadata": {},
          "execution_count": 43
        }
      ]
    },
    {
      "cell_type": "markdown",
      "source": [
        "# Precision/Recall Tradeoff"
      ],
      "metadata": {
        "id": "5B0zEJQIORaW"
      }
    },
    {
      "cell_type": "markdown",
      "source": [
        "For each instance, it computes a score based on a **decision function**,\n",
        "and if that score is greater than a **threshold**, it assigns the instance to the positive\n",
        "class, or else it assigns it to the negative class."
      ],
      "metadata": {
        "id": "07C8fBi8viy_"
      }
    },
    {
      "cell_type": "markdown",
      "source": [
        "Instead of calling the classifier’s\n",
        "predict() method, you can call its decision_function() method, which returns a\n",
        "score for each instance"
      ],
      "metadata": {
        "id": "f2gc74gnxcwF"
      }
    },
    {
      "cell_type": "code",
      "source": [
        "y_scores = sgd_clf.decision_function([some_digit])\n",
        "y_scores"
      ],
      "metadata": {
        "id": "5fkKFwUUt1oX",
        "colab": {
          "base_uri": "https://localhost:8080/"
        },
        "outputId": "1698e7ec-e0ee-479e-c0f8-9096a5b5a81f"
      },
      "execution_count": null,
      "outputs": [
        {
          "output_type": "execute_result",
          "data": {
            "text/plain": [
              "array([87185.79587364])"
            ]
          },
          "metadata": {},
          "execution_count": 44
        }
      ]
    },
    {
      "cell_type": "code",
      "source": [
        "threshold = 0\n",
        "y_some_digit_pred = (y_scores > threshold)\n",
        "y_some_digit_pred"
      ],
      "metadata": {
        "colab": {
          "base_uri": "https://localhost:8080/"
        },
        "id": "sefksrBevVK7",
        "outputId": "ad808704-fb02-4ae3-ce20-30a506f3f923"
      },
      "execution_count": null,
      "outputs": [
        {
          "output_type": "execute_result",
          "data": {
            "text/plain": [
              "array([ True])"
            ]
          },
          "metadata": {},
          "execution_count": 45
        }
      ]
    },
    {
      "cell_type": "markdown",
      "source": [
        "The SGDClassifier uses a threshold equal to 0, so the previous code returns the same\n",
        "result as the predict() method (i.e., True). Let’s raise the threshold"
      ],
      "metadata": {
        "id": "WRp30qXgw-BA"
      }
    },
    {
      "cell_type": "code",
      "source": [
        "threshold = 250000\n",
        "y_some_digit_pred = (y_scores > threshold)\n",
        "y_some_digit_pred"
      ],
      "metadata": {
        "colab": {
          "base_uri": "https://localhost:8080/"
        },
        "id": "4muP-bOexAho",
        "outputId": "372d42e2-6184-45e1-9762-76d530560e84"
      },
      "execution_count": null,
      "outputs": [
        {
          "output_type": "execute_result",
          "data": {
            "text/plain": [
              "array([False])"
            ]
          },
          "metadata": {},
          "execution_count": 46
        }
      ]
    },
    {
      "cell_type": "markdown",
      "source": [
        "This confirms that raising the threshold decreases recall. The image actually represents a 5, and the classifier detects it when the threshold is 0, but it misses it when the\n",
        "threshold is increased to 200,000."
      ],
      "metadata": {
        "id": "k3aQk4iyydaU"
      }
    },
    {
      "cell_type": "markdown",
      "source": [
        "For decision which threshold to use  first need to get the\n",
        "scores of all instances in the training set using the `cross_val_predict()` function\n",
        "again, but this time specifying that you want it to return decision scores instead of\n",
        "predictions:"
      ],
      "metadata": {
        "id": "_Wokdp3KyzuL"
      }
    },
    {
      "cell_type": "code",
      "source": [
        "y_scores = cross_val_predict(sgd_clf, X_train, y_train_5, cv=3,\n",
        "method=\"decision_function\")\n",
        "print('min: {}, max {}'.format(y_scores.min(),y_scores.max()))"
      ],
      "metadata": {
        "colab": {
          "base_uri": "https://localhost:8080/"
        },
        "id": "wCGuZW4F07SO",
        "outputId": "e8016a51-fd82-4606-a7d4-f51e89179ec1"
      },
      "execution_count": null,
      "outputs": [
        {
          "output_type": "stream",
          "name": "stdout",
          "text": [
            "min: -2900640.9326189877, max 1113527.5880675567\n"
          ]
        }
      ]
    },
    {
      "cell_type": "markdown",
      "source": [
        "With these scores you can compute precision and recall for all possible thresholds using the `precision_recall_curve()` function:"
      ],
      "metadata": {
        "id": "aYcjjI5Uzg_5"
      }
    },
    {
      "cell_type": "code",
      "source": [
        "if y_scores.ndim == 2:\n",
        "    y_scores = y_scores[:, 1]"
      ],
      "metadata": {
        "id": "qLrRuo4u3UoB"
      },
      "execution_count": null,
      "outputs": []
    },
    {
      "cell_type": "code",
      "source": [
        "from sklearn.metrics import precision_recall_curve\n",
        "precisions, recalls, thresholds = precision_recall_curve(y_train_5, y_scores)"
      ],
      "metadata": {
        "id": "lO6rmL3wziqz"
      },
      "execution_count": null,
      "outputs": []
    },
    {
      "cell_type": "code",
      "source": [
        "#precisions.shape\n",
        "precisions.max()"
      ],
      "metadata": {
        "colab": {
          "base_uri": "https://localhost:8080/"
        },
        "id": "KS86LbwE2mzC",
        "outputId": "0d599996-a896-49e7-eeb1-2918af34ab9c"
      },
      "execution_count": null,
      "outputs": [
        {
          "output_type": "execute_result",
          "data": {
            "text/plain": [
              "1.0"
            ]
          },
          "metadata": {},
          "execution_count": 50
        }
      ]
    },
    {
      "cell_type": "code",
      "source": [
        "recalls.shape"
      ],
      "metadata": {
        "colab": {
          "base_uri": "https://localhost:8080/"
        },
        "id": "LEuCSSwM2n7_",
        "outputId": "75f1ea5f-a4ee-4e49-80f2-7c6033f1528d"
      },
      "execution_count": null,
      "outputs": [
        {
          "output_type": "execute_result",
          "data": {
            "text/plain": [
              "(59816,)"
            ]
          },
          "metadata": {},
          "execution_count": 51
        }
      ]
    },
    {
      "cell_type": "code",
      "source": [
        "precisions[:-1].shape"
      ],
      "metadata": {
        "colab": {
          "base_uri": "https://localhost:8080/"
        },
        "id": "IdBP_RtJ3QSP",
        "outputId": "45443bbe-38a4-42f7-a324-5fed29e888a3"
      },
      "execution_count": null,
      "outputs": [
        {
          "output_type": "execute_result",
          "data": {
            "text/plain": [
              "(59815,)"
            ]
          },
          "metadata": {},
          "execution_count": 52
        }
      ]
    },
    {
      "cell_type": "code",
      "source": [
        "thresholds.shape"
      ],
      "metadata": {
        "colab": {
          "base_uri": "https://localhost:8080/"
        },
        "id": "f-3O9nO46TJT",
        "outputId": "4da6ec65-9b02-4622-fdfd-a0dcbcd56906"
      },
      "execution_count": null,
      "outputs": [
        {
          "output_type": "execute_result",
          "data": {
            "text/plain": [
              "(59815,)"
            ]
          },
          "metadata": {},
          "execution_count": 53
        }
      ]
    },
    {
      "cell_type": "code",
      "source": [
        "def plot_precision_recall_vs_threshold(precision, recalls, thresholds):\n",
        "  plt.plot(thresholds, precisions[:-1], 'b--', label=\"Precision\", linewidth=2)\n",
        "  plt.plot(thresholds, recalls[:-1], 'g-', label=\"Recall\", linewidth=2)\n",
        "  plt.xlabel('Threshold')\n",
        "  plt.legend(loc='upper left')\n",
        "  plt.ylim([0,1])\n",
        "\n",
        "plt.figure(figsize=(8,4))\n",
        "plot_precision_recall_vs_threshold(precisions, recalls, thresholds)\n",
        "plt.xlim([-700000,700000])\n",
        "plt.show()\n"
      ],
      "metadata": {
        "colab": {
          "base_uri": "https://localhost:8080/",
          "height": 283
        },
        "id": "n7eA8vJM1eyS",
        "outputId": "7450584e-a7cd-48dc-aa83-9a8988628898"
      },
      "execution_count": null,
      "outputs": [
        {
          "output_type": "display_data",
          "data": {
            "text/plain": [
              "<Figure size 576x288 with 1 Axes>"
            ],
            "image/png": "[encoded data removed]"
          },
          "metadata": {
            "needs_background": "light"
          }
        }
      ]
    },
    {
      "cell_type": "markdown",
      "source": [
        "precision may sometimes go\n",
        "down when you raise the threshold (although in general it will go\n",
        "up)"
      ],
      "metadata": {
        "id": "s7WozDZGSHXK"
      }
    },
    {
      "cell_type": "markdown",
      "source": [
        "# The ROC curve"
      ],
      "metadata": {
        "id": "Q6meSfk1UoLa"
      }
    },
    {
      "cell_type": "markdown",
      "source": [
        "The **`receiver operating characteristic`** **(ROC)** curve is another common tool used with\n",
        "binary classifiers. It is very similar to the precision/recall curve, but instead of plotting precision versus recall, the `ROC curve` plots the **`true positive rate`** (another name\n",
        "for recall) against the **`false positive rate`**. The **`FPR`** `is the ratio of negative instances that\n",
        "are incorrectly classified as positive` = **`1 - TNR`**(`ratio of negative instances that are correctly classified as negative`). The\n",
        "TNR is also called **`specificity`**. Hence the ROC curve plots **`sensitivity`** (recall) versus\n",
        "`1 – specificity`."
      ],
      "metadata": {
        "id": "OYk2wEaF-aJB"
      }
    },
    {
      "cell_type": "code",
      "source": [
        "from sklearn.metrics import roc_curve\n",
        "\n",
        "fpr, tpr, thresholds = roc_curve(y_train_5, y_scores)"
      ],
      "metadata": {
        "id": "h0lvRPZyRxJv"
      },
      "execution_count": null,
      "outputs": []
    },
    {
      "cell_type": "code",
      "source": [
        "def plot_roc_curve(fpr, tpr, label=None):\n",
        "  plt.plot(fpr, tpr, label = label, linewidth=2)\n",
        "  plt.plot([0,1],[0,1], 'k--')\n",
        "  plt.axis([0, 1, 0, 1])\n",
        "  plt.xlabel('False Positive Rate')\n",
        "  plt.ylabel('True positive Rate')\n",
        "\n",
        "plt.figure(figsize=(8,4))\n",
        "plot_roc_curve(fpr, tpr)\n",
        "plt.show()"
      ],
      "metadata": {
        "colab": {
          "base_uri": "https://localhost:8080/",
          "height": 283
        },
        "id": "lZr_iJL5SL4i",
        "outputId": "2a09b818-26e2-4416-e888-9f8574d5e2b5"
      },
      "execution_count": null,
      "outputs": [
        {
          "output_type": "display_data",
          "data": {
            "text/plain": [
              "<Figure size 576x288 with 1 Axes>"
            ],
            "image/png": "[encoded data removed]"
          },
          "metadata": {
            "needs_background": "light"
          }
        }
      ]
    },
    {
      "cell_type": "markdown",
      "source": [
        "Once again there is a tradeoff: the higher the recall (TPR), the more false positives\n",
        "(FPR) the classifier produces."
      ],
      "metadata": {
        "id": "VeHV5kgfMzoo"
      }
    },
    {
      "cell_type": "markdown",
      "source": [
        "One way to compare classifiers is to measure the **`area under the curve (AUC)`**. A perfect classifier will have a **`ROC AUC`** equal to **1**, whereas a purely random classifier will\n",
        "have a ROC AUC equal to **0.5**. Scikit-Learn provides a function to compute the ROC\n",
        "AUC:"
      ],
      "metadata": {
        "id": "7K_IaYTENAh_"
      }
    },
    {
      "cell_type": "code",
      "source": [
        "from sklearn.metrics import roc_auc_score\n",
        "roc_auc_score(y_train_5, y_scores)"
      ],
      "metadata": {
        "colab": {
          "base_uri": "https://localhost:8080/"
        },
        "id": "s2ryt39yNiRu",
        "outputId": "e0ef9e42-1476-490c-e44b-a1278b68a0f7"
      },
      "execution_count": null,
      "outputs": [
        {
          "output_type": "execute_result",
          "data": {
            "text/plain": [
              "0.9632544272181544"
            ]
          },
          "metadata": {},
          "execution_count": 99
        }
      ]
    },
    {
      "cell_type": "markdown",
      "source": [
        "As a rule\n",
        "of thumb, you should prefer the PR curve whenever the positive\n",
        "class is rare or when you care more about the false positives than\n",
        "the false negatives, and the ROC curve otherwise."
      ],
      "metadata": {
        "id": "d9q49QmQQcf_"
      }
    },
    {
      "cell_type": "markdown",
      "source": [
        "Let’s train a **`RandomForestClassifier`** and compare its `ROC curve` and `ROC AUC score` to the `SGDClassifier`. First, you need to get scores for each instance in the\n",
        "training set. But due to the way it works, the RandomForestClassi\n",
        "fier class does not have a `decision_function()` method. Instead it has a **`predict_proba()`** method."
      ],
      "metadata": {
        "id": "sMYs1Eop3dAx"
      }
    },
    {
      "cell_type": "markdown",
      "source": [
        "Scikit-Learn classifiers generally have one or the other. The\n",
        "`predict_proba()` method returns an array containing a row per instance and a column per class, each containing the probability that the given instance belongs to the given class\n"
      ],
      "metadata": {
        "id": "AqmZNZyQ3knC"
      }
    },
    {
      "cell_type": "code",
      "source": [
        "from sklearn.ensemble import RandomForestClassifier\n",
        "\n",
        "forest_clf = RandomForestClassifier(random_state=42)\n",
        "y_probas_forest = cross_val_predict(forest_clf, X_train, y_train_5, cv=3,\n",
        "                                    method ='predict_proba')\n",
        "y_probas_forest"
      ],
      "metadata": {
        "colab": {
          "base_uri": "https://localhost:8080/"
        },
        "id": "P855sUNr3lzU",
        "outputId": "48a82234-c494-44e0-c311-04ef8a4453a4"
      },
      "execution_count": null,
      "outputs": [
        {
          "output_type": "execute_result",
          "data": {
            "text/plain": [
              "array([[0.99, 0.01],\n",
              "       [1.  , 0.  ],\n",
              "       [0.22, 0.78],\n",
              "       ...,\n",
              "       [1.  , 0.  ],\n",
              "       [0.95, 0.05],\n",
              "       [1.  , 0.  ]])"
            ]
          },
          "metadata": {},
          "execution_count": 98
        }
      ]
    },
    {
      "cell_type": "code",
      "source": [
        "y_probas_forest.shape"
      ],
      "metadata": {
        "colab": {
          "base_uri": "https://localhost:8080/"
        },
        "id": "IW0GD_t57cE0",
        "outputId": "7662c0cf-9e3c-4ca9-f924-ddce514950ae"
      },
      "execution_count": null,
      "outputs": [
        {
          "output_type": "execute_result",
          "data": {
            "text/plain": [
              "(60000, 2)"
            ]
          },
          "metadata": {},
          "execution_count": 100
        }
      ]
    },
    {
      "cell_type": "markdown",
      "source": [
        "But to plot a ROC curve, you need scores, not probabilities. A simple solution is to\n",
        "use the positive class’s probability as the score:"
      ],
      "metadata": {
        "id": "XA1ZPyTb74gx"
      }
    },
    {
      "cell_type": "code",
      "source": [
        "y_scores_forest = y_probas_forest[:,1]\n",
        "fpr_forest, tpr_forest, thresholds_forest = roc_curve(y_train_5,y_scores_forest)"
      ],
      "metadata": {
        "id": "m3kjhjc97rdB"
      },
      "execution_count": null,
      "outputs": []
    },
    {
      "cell_type": "code",
      "source": [
        "plt.figure(figsize=(8,4))\n",
        "plt.plot(fpr, tpr, 'b:', label=\"CGD\")\n",
        "plot_roc_curve(fpr_forest, tpr_forest, \"Random Forest\")\n",
        "plt.legend(loc='lower right')\n",
        "\n",
        "plt.show()"
      ],
      "metadata": {
        "colab": {
          "base_uri": "https://localhost:8080/",
          "height": 283
        },
        "id": "3fEk520u8FN7",
        "outputId": "ba0089d6-59ac-4afb-9eba-3cf0406079ea"
      },
      "execution_count": null,
      "outputs": [
        {
          "output_type": "display_data",
          "data": {
            "text/plain": [
              "<Figure size 576x288 with 1 Axes>"
            ],
            "image/png": "[encoded data removed]"
          },
          "metadata": {
            "needs_background": "light"
          }
        }
      ]
    },
    {
      "cell_type": "code",
      "source": [
        "roc_auc_score(y_train_5, y_scores_forest)"
      ],
      "metadata": {
        "colab": {
          "base_uri": "https://localhost:8080/"
        },
        "id": "0tqlKbrJ9za-",
        "outputId": "4f93e60f-73d6-4a90-8e37-fd08291e0d67"
      },
      "execution_count": null,
      "outputs": [
        {
          "output_type": "execute_result",
          "data": {
            "text/plain": [
              "0.9984606778213062"
            ]
          },
          "metadata": {},
          "execution_count": 106
        }
      ]
    },
    {
      "cell_type": "markdown",
      "source": [
        "# Multiclass Classification"
      ],
      "metadata": {
        "id": "DvPhZ1YoUx6Q"
      }
    },
    {
      "cell_type": "markdown",
      "source": [
        "Whereas **`binary classifiers`** distinguish between two classes, **`multiclass classifiers`** (also\n",
        "called multinomial classifiers) can distinguish between more than two classes."
      ],
      "metadata": {
        "id": "0l9TCmAiV_PY"
      }
    },
    {
      "cell_type": "markdown",
      "source": [
        "Some algorithms (such as `Random Forest classifiers` or `naive Bayes classifiers`) are\n",
        "capable of handling multiple classes directly. Others (such as `Support Vector Machine\n",
        "classifiers` or `Linear classifiers`\n",
        ") are strictly binary classifiers."
      ],
      "metadata": {
        "id": "_Bma4lhQgsHT"
      }
    },
    {
      "cell_type": "code",
      "source": [
        "sgd_clf.fit(X_train, y_train)\n",
        "sgd_clf.predict([some_digit])"
      ],
      "metadata": {
        "colab": {
          "base_uri": "https://localhost:8080/"
        },
        "id": "wHU1zQr-hKsH",
        "outputId": "c045f620-18ea-4684-d924-2cf4af8c4d82"
      },
      "execution_count": null,
      "outputs": [
        {
          "output_type": "execute_result",
          "data": {
            "text/plain": [
              "array([5], dtype=int8)"
            ]
          },
          "metadata": {},
          "execution_count": 67
        }
      ]
    },
    {
      "cell_type": "markdown",
      "source": [
        "Under the hood,\n",
        "Scikit-Learn actually trained 10 binary classifiers, got their decision scores for the\n",
        "image, and selected the class with the highest score."
      ],
      "metadata": {
        "id": "EPshfvQkhjYu"
      }
    },
    {
      "cell_type": "markdown",
      "source": [
        "To see that you can call the `decision_function()` method.\n",
        "Instead of returning just one score per instance, it now returns 10 scores, one per\n",
        "class:"
      ],
      "metadata": {
        "id": "lEAbbGlLhouU"
      }
    },
    {
      "cell_type": "code",
      "source": [
        "some_digit_scores = sgd_clf.decision_function([some_digit])\n",
        "some_digit_scores"
      ],
      "metadata": {
        "colab": {
          "base_uri": "https://localhost:8080/"
        },
        "id": "GsET_z4BhqEL",
        "outputId": "281b6c2e-1e2f-4e64-ae94-4cb6dd0ed3aa"
      },
      "execution_count": null,
      "outputs": [
        {
          "output_type": "execute_result",
          "data": {
            "text/plain": [
              "array([[-223459.95645163, -381394.75596041, -353547.6816822 ,\n",
              "         -72252.38485757, -346806.30273533,  175047.7297338 ,\n",
              "        -696900.20311933, -260813.31138788, -695088.95618105,\n",
              "        -585762.1364406 ]])"
            ]
          },
          "metadata": {},
          "execution_count": 87
        }
      ]
    },
    {
      "cell_type": "code",
      "source": [
        "max = some_digit_scores.max()\n",
        "max"
      ],
      "metadata": {
        "colab": {
          "base_uri": "https://localhost:8080/"
        },
        "id": "XCJsUrRqiW8a",
        "outputId": "982b38e6-1964-4eed-d9bf-bbf59d35e944"
      },
      "execution_count": null,
      "outputs": [
        {
          "output_type": "execute_result",
          "data": {
            "text/plain": [
              "175047.7297338042"
            ]
          },
          "metadata": {},
          "execution_count": 88
        }
      ]
    },
    {
      "cell_type": "code",
      "source": [
        "indx = np.where(some_digit_scores==max)\n",
        "indx"
      ],
      "metadata": {
        "colab": {
          "base_uri": "https://localhost:8080/"
        },
        "id": "nKB2ZAOkisXt",
        "outputId": "426c878d-d8c6-4f2c-b227-8f13a2aaf500"
      },
      "execution_count": null,
      "outputs": [
        {
          "output_type": "execute_result",
          "data": {
            "text/plain": [
              "(array([0]), array([5]))"
            ]
          },
          "metadata": {},
          "execution_count": 86
        }
      ]
    },
    {
      "cell_type": "code",
      "source": [
        "np.argmax(some_digit_scores)"
      ],
      "metadata": {
        "colab": {
          "base_uri": "https://localhost:8080/"
        },
        "id": "5yg9I2xRme5o",
        "outputId": "390d4ac9-2034-478d-93eb-63d4a6a0f76c"
      },
      "execution_count": null,
      "outputs": [
        {
          "output_type": "execute_result",
          "data": {
            "text/plain": [
              "5"
            ]
          },
          "metadata": {},
          "execution_count": 90
        }
      ]
    },
    {
      "cell_type": "code",
      "source": [
        "sgd_clf.classes_\n"
      ],
      "metadata": {
        "colab": {
          "base_uri": "https://localhost:8080/"
        },
        "id": "3GEZ-PDine3d",
        "outputId": "fd06df2b-8b77-4a80-a107-f4d2bf17445c"
      },
      "execution_count": null,
      "outputs": [
        {
          "output_type": "execute_result",
          "data": {
            "text/plain": [
              "array([0, 1, 2, 3, 4, 5, 6, 7, 8, 9], dtype=int8)"
            ]
          },
          "metadata": {},
          "execution_count": 91
        }
      ]
    },
    {
      "cell_type": "code",
      "source": [
        "sgd_clf.classes_[5]"
      ],
      "metadata": {
        "colab": {
          "base_uri": "https://localhost:8080/"
        },
        "id": "u2ulBJk9nm8B",
        "outputId": "52d58194-4893-464f-e833-436aeffc8946"
      },
      "execution_count": null,
      "outputs": [
        {
          "output_type": "execute_result",
          "data": {
            "text/plain": [
              "5"
            ]
          },
          "metadata": {},
          "execution_count": 92
        }
      ]
    },
    {
      "cell_type": "markdown",
      "source": [
        "When a classifier is trained, it stores the list of target classes in its\n",
        "classes_ attribute, ordered by value"
      ],
      "metadata": {
        "id": "fhdelCJdn0SE"
      }
    },
    {
      "cell_type": "markdown",
      "source": [
        "To force ScikitLearn to use `one-versus-one or one-versus-all`, you can use\n",
        "the **OneVsOneClassifier** or **OneVsRestClassifier** classes. Simply create an instance\n",
        "and pass a binary classifier to its constructor. For example, this code creates a multiclass classifier using the OvO strategy, based on a SGDClassifier:"
      ],
      "metadata": {
        "id": "gWiFT0Hap-dc"
      }
    },
    {
      "cell_type": "code",
      "source": [
        "from sklearn.multiclass import OneVsOneClassifier\n",
        "ovo_clf = OneVsOneClassifier(SGDClassifier(random_state=42))\n",
        "ovo_clf.fit(X_train,y_train)\n",
        "ovo_clf.predict([some_digit])"
      ],
      "metadata": {
        "colab": {
          "base_uri": "https://localhost:8080/"
        },
        "id": "Iz_CHcdBp_v8",
        "outputId": "90ec40d8-3789-44c2-b747-1262d75fda72"
      },
      "execution_count": null,
      "outputs": [
        {
          "output_type": "execute_result",
          "data": {
            "text/plain": [
              "array([5], dtype=int8)"
            ]
          },
          "metadata": {},
          "execution_count": 93
        }
      ]
    },
    {
      "cell_type": "code",
      "source": [
        "len(ovo_clf.estimators_)"
      ],
      "metadata": {
        "colab": {
          "base_uri": "https://localhost:8080/"
        },
        "id": "EiM1yHmGtL5Q",
        "outputId": "dfa1a642-83e0-473e-c91f-176bce463ad2"
      },
      "execution_count": null,
      "outputs": [
        {
          "output_type": "execute_result",
          "data": {
            "text/plain": [
              "45"
            ]
          },
          "metadata": {},
          "execution_count": 94
        }
      ]
    },
    {
      "cell_type": "markdown",
      "source": [
        "Training a RandomForestClassifier is just as easy:"
      ],
      "metadata": {
        "id": "11lV-hHKtVoW"
      }
    },
    {
      "cell_type": "code",
      "source": [
        "forest_clf.fit(X_train, y_train)\n",
        "forest_clf.predict[some_digit]"
      ],
      "metadata": {
        "id": "ovDe5VeKtWig"
      },
      "execution_count": null,
      "outputs": []
    },
    {
      "cell_type": "markdown",
      "source": [
        "This time Scikit-Learn did not have to run OvA or OvO because Random Forest\n",
        "classifiers can directly classify instances into multiple classes."
      ],
      "metadata": {
        "id": "SN0mJQAutwM3"
      }
    },
    {
      "cell_type": "markdown",
      "source": [
        "call\n",
        "predict_proba() to get the list of probabilities that the classifier assigned to each\n",
        "instance for each class:"
      ],
      "metadata": {
        "id": "cj7GUQsWt3hh"
      }
    },
    {
      "cell_type": "code",
      "source": [
        "forest_clf.predict_proba([some_digit])"
      ],
      "metadata": {
        "id": "cfQn4RAEt6N3"
      },
      "execution_count": null,
      "outputs": []
    },
    {
      "cell_type": "markdown",
      "source": [
        "to evaluate these classifiers use cross-validation. Let’s evaluate the SGDClassifier’s accuracy using the` cross_val_score()`\n",
        "function:"
      ],
      "metadata": {
        "id": "EXCSohNRuQNT"
      }
    },
    {
      "cell_type": "code",
      "source": [
        "cross_val_score(sgd_clf, X_train, y_train, cv=3, scoring='accuracy')"
      ],
      "metadata": {
        "colab": {
          "base_uri": "https://localhost:8080/"
        },
        "id": "VGZzIPVKuYVF",
        "outputId": "a6199193-e0f7-461b-e34d-c7c99bbdae8d"
      },
      "execution_count": null,
      "outputs": [
        {
          "output_type": "execute_result",
          "data": {
            "text/plain": [
              "array([0.85165, 0.85645, 0.8835 ])"
            ]
          },
          "metadata": {},
          "execution_count": 96
        }
      ]
    },
    {
      "cell_type": "markdown",
      "source": [
        "Simply scaling the inputs increases accuracy above\n",
        "90%:"
      ],
      "metadata": {
        "id": "5yQWcf0Du_bF"
      }
    },
    {
      "cell_type": "code",
      "source": [
        "from sklearn.preprocessing import StandardScaler\n",
        "scaler = StandardScaler()\n",
        "X_train_scaled = scaler.fit_transform(X_train.astype(np.float64))\n",
        "cross_val_score(sgd_clf, X_train_scaled, y_train, cv=3, scoring='accuracy')"
      ],
      "metadata": {
        "colab": {
          "base_uri": "https://localhost:8080/"
        },
        "id": "H_w9wkV2vIcA",
        "outputId": "bc74df78-5f3e-4ac4-fa09-29d2cab144e9"
      },
      "execution_count": null,
      "outputs": [
        {
          "output_type": "execute_result",
          "data": {
            "text/plain": [
              "array([0.90735, 0.9069 , 0.91325])"
            ]
          },
          "metadata": {},
          "execution_count": 112
        }
      ]
    },
    {
      "cell_type": "code",
      "source": [],
      "metadata": {
        "colab": {
          "base_uri": "https://localhost:8080/"
        },
        "id": "-vLX_MSV9i0T",
        "outputId": "c351463b-cbab-45ef-bed7-67e1a6f47966"
      },
      "execution_count": null,
      "outputs": [
        {
          "output_type": "execute_result",
          "data": {
            "text/plain": [
              "0.9984606778213062"
            ]
          },
          "metadata": {},
          "execution_count": 105
        }
      ]
    },
    {
      "cell_type": "markdown",
      "source": [
        "# Error Analysis"
      ],
      "metadata": {
        "id": "AlZHnhmVWk6A"
      }
    },
    {
      "cell_type": "markdown",
      "source": [
        "Here, we will assume that you have found a promising model and\n",
        "you want to find ways to improve it. One way to do this is to analyze the types of\n",
        "errors it makes."
      ],
      "metadata": {
        "id": "LZCKnlKaKoxl"
      }
    },
    {
      "cell_type": "markdown",
      "source": [
        "First, you can look at the confusion matrix."
      ],
      "metadata": {
        "id": "CIU0C1qVKrpK"
      }
    },
    {
      "cell_type": "code",
      "source": [
        "y_train_pred = cross_val_predict(sgd_clf, X_train_scaled, y_train, cv=3)\n",
        "conf_mx = confusion_matrix(y_train, y_train_pred)\n",
        "conf_mx"
      ],
      "metadata": {
        "colab": {
          "base_uri": "https://localhost:8080/"
        },
        "id": "SQNUm6ZqKqW_",
        "outputId": "8978b829-c22c-483f-dae5-f98c57e7704a"
      },
      "execution_count": null,
      "outputs": [
        {
          "output_type": "execute_result",
          "data": {
            "text/plain": [
              "array([[5730,    3,   23,    9,    9,   46,   51,    8,   39,    5],\n",
              "       [   2, 6481,   47,   27,    6,   39,    7,   11,  110,   12],\n",
              "       [  59,   41, 5309,  106,   83,   21,  101,   53,  169,   16],\n",
              "       [  50,   42,  138, 5343,    2,  227,   32,   55,  136,  106],\n",
              "       [  23,   26,   35,    8, 5358,    6,   59,   28,   88,  211],\n",
              "       [  70,   46,   40,  190,   74, 4584,  101,   26,  176,  114],\n",
              "       [  32,   22,   45,    2,   39,   91, 5645,    3,   39,    0],\n",
              "       [  20,   21,   73,   28,   55,   10,    6, 5768,   16,  268],\n",
              "       [  52,  151,   73,  150,   15,  156,   60,   24, 5031,  139],\n",
              "       [  40,   29,   24,   82,  157,   33,    3,  192,   88, 5301]])"
            ]
          },
          "metadata": {},
          "execution_count": 113
        }
      ]
    },
    {
      "cell_type": "markdown",
      "source": [
        "That’s a lot of numbers. It’s often more convenient to look at an image representation\n",
        "of the confusion matrix, using Matplotlib’s `matshow()` function:"
      ],
      "metadata": {
        "id": "BC5OoAk0LXwm"
      }
    },
    {
      "cell_type": "code",
      "source": [
        "plt.matshow(conf_mx, cmap=plt.cm.gray)\n",
        "plt.show()"
      ],
      "metadata": {
        "id": "07wL6EyWLbZv"
      },
      "execution_count": null,
      "outputs": []
    },
    {
      "cell_type": "markdown",
      "source": [
        "# Multilabel Classification"
      ],
      "metadata": {
        "id": "n5sYkaKxYHy5"
      }
    },
    {
      "cell_type": "markdown",
      "source": [
        "# Multioutput Classification"
      ],
      "metadata": {
        "id": "xfoQ5eyBYLOX"
      }
    }
  ]
}